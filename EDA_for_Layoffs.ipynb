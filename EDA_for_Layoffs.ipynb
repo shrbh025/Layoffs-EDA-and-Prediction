{
  "nbformat": 4,
  "nbformat_minor": 0,
  "metadata": {
    "colab": {
      "provenance": [],
      "collapsed_sections": [
        "Oa-ju8ZnVmOF"
      ]
    },
    "kernelspec": {
      "name": "python3",
      "display_name": "Python 3"
    },
    "language_info": {
      "name": "python"
    }
  },
  "cells": [
    {
      "cell_type": "code",
      "execution_count": 1,
      "metadata": {
        "id": "oL_cm8DKnox_"
      },
      "outputs": [],
      "source": [
        "import pandas as pd\n",
        "from matplotlib import pyplot as plt\n",
        "import plotly.express as px\n",
        "import seaborn as sns"
      ]
    },
    {
      "cell_type": "markdown",
      "source": [
        "# Dataset: Layoffs post pandemic\n",
        "Reading and analyzing the data :"
      ],
      "metadata": {
        "id": "Oa-ju8ZnVmOF"
      }
    },
    {
      "cell_type": "code",
      "source": [
        "layoff_df = pd.read_csv('layoffs_data.csv')\n",
        "layoff_df.head()"
      ],
      "metadata": {
        "id": "9Qie_KPCfAev",
        "colab": {
          "base_uri": "https://localhost:8080/",
          "height": 206
        },
        "outputId": "e5a4ee70-bd96-49ad-e505-c83e4eb88368"
      },
      "execution_count": null,
      "outputs": [
        {
          "output_type": "execute_result",
          "data": {
            "text/plain": [
              "      Company  Location_HQ   Industry  Laid_Off_Count  Percentage        Date  \\\n",
              "0  Salesforce  SF Bay Area      Sales           700.0        0.01  2024-01-26   \n",
              "1    Flexport  SF Bay Area  Logistics             NaN        0.20  2024-01-26   \n",
              "2   Microsoft      Seattle      Other          1900.0         NaN  2024-01-25   \n",
              "3      Swiggy    Bengaluru       Food           400.0        0.07  2024-01-25   \n",
              "4        Veho      Boulder  Logistics            65.0        0.19  2024-01-25   \n",
              "\n",
              "                                              Source  Funds_Raised     Stage  \\\n",
              "0  https://www.wsj.com/economy/jobs/salesforce-la...          65.0  Post-IPO   \n",
              "1  https://www.theinformation.com/articles/flexpo...        2400.0  Series E   \n",
              "2  https://www.theverge.com/2024/1/25/24049050/mi...           1.0  Post-IPO   \n",
              "3  https://techcrunch.com/2024/01/25/swiggy-to-cu...        3600.0   Unknown   \n",
              "4  https://techcrunch.com/2024/01/25/delivery-sta...         299.0  Series B   \n",
              "\n",
              "            Date_Added        Country List_of_Employees_Laid_Off  \n",
              "0  2024-01-26 14:26:09  United States                    Unknown  \n",
              "1  2024-01-26 19:48:39  United States                    Unknown  \n",
              "2  2024-01-25 14:42:40  United States                    Unknown  \n",
              "3  2024-01-25 14:45:14          India                    Unknown  \n",
              "4  2024-01-26 19:50:26  United States                    Unknown  "
            ],
            "text/html": [
              "\n",
              "  <div id=\"df-4f1f8093-8f51-4541-a7f2-7adb6b7074d4\" class=\"colab-df-container\">\n",
              "    <div>\n",
              "<style scoped>\n",
              "    .dataframe tbody tr th:only-of-type {\n",
              "        vertical-align: middle;\n",
              "    }\n",
              "\n",
              "    .dataframe tbody tr th {\n",
              "        vertical-align: top;\n",
              "    }\n",
              "\n",
              "    .dataframe thead th {\n",
              "        text-align: right;\n",
              "    }\n",
              "</style>\n",
              "<table border=\"1\" class=\"dataframe\">\n",
              "  <thead>\n",
              "    <tr style=\"text-align: right;\">\n",
              "      <th></th>\n",
              "      <th>Company</th>\n",
              "      <th>Location_HQ</th>\n",
              "      <th>Industry</th>\n",
              "      <th>Laid_Off_Count</th>\n",
              "      <th>Percentage</th>\n",
              "      <th>Date</th>\n",
              "      <th>Source</th>\n",
              "      <th>Funds_Raised</th>\n",
              "      <th>Stage</th>\n",
              "      <th>Date_Added</th>\n",
              "      <th>Country</th>\n",
              "      <th>List_of_Employees_Laid_Off</th>\n",
              "    </tr>\n",
              "  </thead>\n",
              "  <tbody>\n",
              "    <tr>\n",
              "      <th>0</th>\n",
              "      <td>Salesforce</td>\n",
              "      <td>SF Bay Area</td>\n",
              "      <td>Sales</td>\n",
              "      <td>700.0</td>\n",
              "      <td>0.01</td>\n",
              "      <td>2024-01-26</td>\n",
              "      <td>https://www.wsj.com/economy/jobs/salesforce-la...</td>\n",
              "      <td>65.0</td>\n",
              "      <td>Post-IPO</td>\n",
              "      <td>2024-01-26 14:26:09</td>\n",
              "      <td>United States</td>\n",
              "      <td>Unknown</td>\n",
              "    </tr>\n",
              "    <tr>\n",
              "      <th>1</th>\n",
              "      <td>Flexport</td>\n",
              "      <td>SF Bay Area</td>\n",
              "      <td>Logistics</td>\n",
              "      <td>NaN</td>\n",
              "      <td>0.20</td>\n",
              "      <td>2024-01-26</td>\n",
              "      <td>https://www.theinformation.com/articles/flexpo...</td>\n",
              "      <td>2400.0</td>\n",
              "      <td>Series E</td>\n",
              "      <td>2024-01-26 19:48:39</td>\n",
              "      <td>United States</td>\n",
              "      <td>Unknown</td>\n",
              "    </tr>\n",
              "    <tr>\n",
              "      <th>2</th>\n",
              "      <td>Microsoft</td>\n",
              "      <td>Seattle</td>\n",
              "      <td>Other</td>\n",
              "      <td>1900.0</td>\n",
              "      <td>NaN</td>\n",
              "      <td>2024-01-25</td>\n",
              "      <td>https://www.theverge.com/2024/1/25/24049050/mi...</td>\n",
              "      <td>1.0</td>\n",
              "      <td>Post-IPO</td>\n",
              "      <td>2024-01-25 14:42:40</td>\n",
              "      <td>United States</td>\n",
              "      <td>Unknown</td>\n",
              "    </tr>\n",
              "    <tr>\n",
              "      <th>3</th>\n",
              "      <td>Swiggy</td>\n",
              "      <td>Bengaluru</td>\n",
              "      <td>Food</td>\n",
              "      <td>400.0</td>\n",
              "      <td>0.07</td>\n",
              "      <td>2024-01-25</td>\n",
              "      <td>https://techcrunch.com/2024/01/25/swiggy-to-cu...</td>\n",
              "      <td>3600.0</td>\n",
              "      <td>Unknown</td>\n",
              "      <td>2024-01-25 14:45:14</td>\n",
              "      <td>India</td>\n",
              "      <td>Unknown</td>\n",
              "    </tr>\n",
              "    <tr>\n",
              "      <th>4</th>\n",
              "      <td>Veho</td>\n",
              "      <td>Boulder</td>\n",
              "      <td>Logistics</td>\n",
              "      <td>65.0</td>\n",
              "      <td>0.19</td>\n",
              "      <td>2024-01-25</td>\n",
              "      <td>https://techcrunch.com/2024/01/25/delivery-sta...</td>\n",
              "      <td>299.0</td>\n",
              "      <td>Series B</td>\n",
              "      <td>2024-01-26 19:50:26</td>\n",
              "      <td>United States</td>\n",
              "      <td>Unknown</td>\n",
              "    </tr>\n",
              "  </tbody>\n",
              "</table>\n",
              "</div>\n",
              "    <div class=\"colab-df-buttons\">\n",
              "\n",
              "  <div class=\"colab-df-container\">\n",
              "    <button class=\"colab-df-convert\" onclick=\"convertToInteractive('df-4f1f8093-8f51-4541-a7f2-7adb6b7074d4')\"\n",
              "            title=\"Convert this dataframe to an interactive table.\"\n",
              "            style=\"display:none;\">\n",
              "\n",
              "  <svg xmlns=\"http://www.w3.org/2000/svg\" height=\"24px\" viewBox=\"0 -960 960 960\">\n",
              "    <path d=\"M120-120v-720h720v720H120Zm60-500h600v-160H180v160Zm220 220h160v-160H400v160Zm0 220h160v-160H400v160ZM180-400h160v-160H180v160Zm440 0h160v-160H620v160ZM180-180h160v-160H180v160Zm440 0h160v-160H620v160Z\"/>\n",
              "  </svg>\n",
              "    </button>\n",
              "\n",
              "  <style>\n",
              "    .colab-df-container {\n",
              "      display:flex;\n",
              "      gap: 12px;\n",
              "    }\n",
              "\n",
              "    .colab-df-convert {\n",
              "      background-color: #E8F0FE;\n",
              "      border: none;\n",
              "      border-radius: 50%;\n",
              "      cursor: pointer;\n",
              "      display: none;\n",
              "      fill: #1967D2;\n",
              "      height: 32px;\n",
              "      padding: 0 0 0 0;\n",
              "      width: 32px;\n",
              "    }\n",
              "\n",
              "    .colab-df-convert:hover {\n",
              "      background-color: #E2EBFA;\n",
              "      box-shadow: 0px 1px 2px rgba(60, 64, 67, 0.3), 0px 1px 3px 1px rgba(60, 64, 67, 0.15);\n",
              "      fill: #174EA6;\n",
              "    }\n",
              "\n",
              "    .colab-df-buttons div {\n",
              "      margin-bottom: 4px;\n",
              "    }\n",
              "\n",
              "    [theme=dark] .colab-df-convert {\n",
              "      background-color: #3B4455;\n",
              "      fill: #D2E3FC;\n",
              "    }\n",
              "\n",
              "    [theme=dark] .colab-df-convert:hover {\n",
              "      background-color: #434B5C;\n",
              "      box-shadow: 0px 1px 3px 1px rgba(0, 0, 0, 0.15);\n",
              "      filter: drop-shadow(0px 1px 2px rgba(0, 0, 0, 0.3));\n",
              "      fill: #FFFFFF;\n",
              "    }\n",
              "  </style>\n",
              "\n",
              "    <script>\n",
              "      const buttonEl =\n",
              "        document.querySelector('#df-4f1f8093-8f51-4541-a7f2-7adb6b7074d4 button.colab-df-convert');\n",
              "      buttonEl.style.display =\n",
              "        google.colab.kernel.accessAllowed ? 'block' : 'none';\n",
              "\n",
              "      async function convertToInteractive(key) {\n",
              "        const element = document.querySelector('#df-4f1f8093-8f51-4541-a7f2-7adb6b7074d4');\n",
              "        const dataTable =\n",
              "          await google.colab.kernel.invokeFunction('convertToInteractive',\n",
              "                                                    [key], {});\n",
              "        if (!dataTable) return;\n",
              "\n",
              "        const docLinkHtml = 'Like what you see? Visit the ' +\n",
              "          '<a target=\"_blank\" href=https://colab.research.google.com/notebooks/data_table.ipynb>data table notebook</a>'\n",
              "          + ' to learn more about interactive tables.';\n",
              "        element.innerHTML = '';\n",
              "        dataTable['output_type'] = 'display_data';\n",
              "        await google.colab.output.renderOutput(dataTable, element);\n",
              "        const docLink = document.createElement('div');\n",
              "        docLink.innerHTML = docLinkHtml;\n",
              "        element.appendChild(docLink);\n",
              "      }\n",
              "    </script>\n",
              "  </div>\n",
              "\n",
              "\n",
              "<div id=\"df-5a57dcf6-f9f4-45da-b0fb-4416d28a6461\">\n",
              "  <button class=\"colab-df-quickchart\" onclick=\"quickchart('df-5a57dcf6-f9f4-45da-b0fb-4416d28a6461')\"\n",
              "            title=\"Suggest charts\"\n",
              "            style=\"display:none;\">\n",
              "\n",
              "<svg xmlns=\"http://www.w3.org/2000/svg\" height=\"24px\"viewBox=\"0 0 24 24\"\n",
              "     width=\"24px\">\n",
              "    <g>\n",
              "        <path d=\"M19 3H5c-1.1 0-2 .9-2 2v14c0 1.1.9 2 2 2h14c1.1 0 2-.9 2-2V5c0-1.1-.9-2-2-2zM9 17H7v-7h2v7zm4 0h-2V7h2v10zm4 0h-2v-4h2v4z\"/>\n",
              "    </g>\n",
              "</svg>\n",
              "  </button>\n",
              "\n",
              "<style>\n",
              "  .colab-df-quickchart {\n",
              "      --bg-color: #E8F0FE;\n",
              "      --fill-color: #1967D2;\n",
              "      --hover-bg-color: #E2EBFA;\n",
              "      --hover-fill-color: #174EA6;\n",
              "      --disabled-fill-color: #AAA;\n",
              "      --disabled-bg-color: #DDD;\n",
              "  }\n",
              "\n",
              "  [theme=dark] .colab-df-quickchart {\n",
              "      --bg-color: #3B4455;\n",
              "      --fill-color: #D2E3FC;\n",
              "      --hover-bg-color: #434B5C;\n",
              "      --hover-fill-color: #FFFFFF;\n",
              "      --disabled-bg-color: #3B4455;\n",
              "      --disabled-fill-color: #666;\n",
              "  }\n",
              "\n",
              "  .colab-df-quickchart {\n",
              "    background-color: var(--bg-color);\n",
              "    border: none;\n",
              "    border-radius: 50%;\n",
              "    cursor: pointer;\n",
              "    display: none;\n",
              "    fill: var(--fill-color);\n",
              "    height: 32px;\n",
              "    padding: 0;\n",
              "    width: 32px;\n",
              "  }\n",
              "\n",
              "  .colab-df-quickchart:hover {\n",
              "    background-color: var(--hover-bg-color);\n",
              "    box-shadow: 0 1px 2px rgba(60, 64, 67, 0.3), 0 1px 3px 1px rgba(60, 64, 67, 0.15);\n",
              "    fill: var(--button-hover-fill-color);\n",
              "  }\n",
              "\n",
              "  .colab-df-quickchart-complete:disabled,\n",
              "  .colab-df-quickchart-complete:disabled:hover {\n",
              "    background-color: var(--disabled-bg-color);\n",
              "    fill: var(--disabled-fill-color);\n",
              "    box-shadow: none;\n",
              "  }\n",
              "\n",
              "  .colab-df-spinner {\n",
              "    border: 2px solid var(--fill-color);\n",
              "    border-color: transparent;\n",
              "    border-bottom-color: var(--fill-color);\n",
              "    animation:\n",
              "      spin 1s steps(1) infinite;\n",
              "  }\n",
              "\n",
              "  @keyframes spin {\n",
              "    0% {\n",
              "      border-color: transparent;\n",
              "      border-bottom-color: var(--fill-color);\n",
              "      border-left-color: var(--fill-color);\n",
              "    }\n",
              "    20% {\n",
              "      border-color: transparent;\n",
              "      border-left-color: var(--fill-color);\n",
              "      border-top-color: var(--fill-color);\n",
              "    }\n",
              "    30% {\n",
              "      border-color: transparent;\n",
              "      border-left-color: var(--fill-color);\n",
              "      border-top-color: var(--fill-color);\n",
              "      border-right-color: var(--fill-color);\n",
              "    }\n",
              "    40% {\n",
              "      border-color: transparent;\n",
              "      border-right-color: var(--fill-color);\n",
              "      border-top-color: var(--fill-color);\n",
              "    }\n",
              "    60% {\n",
              "      border-color: transparent;\n",
              "      border-right-color: var(--fill-color);\n",
              "    }\n",
              "    80% {\n",
              "      border-color: transparent;\n",
              "      border-right-color: var(--fill-color);\n",
              "      border-bottom-color: var(--fill-color);\n",
              "    }\n",
              "    90% {\n",
              "      border-color: transparent;\n",
              "      border-bottom-color: var(--fill-color);\n",
              "    }\n",
              "  }\n",
              "</style>\n",
              "\n",
              "  <script>\n",
              "    async function quickchart(key) {\n",
              "      const quickchartButtonEl =\n",
              "        document.querySelector('#' + key + ' button');\n",
              "      quickchartButtonEl.disabled = true;  // To prevent multiple clicks.\n",
              "      quickchartButtonEl.classList.add('colab-df-spinner');\n",
              "      try {\n",
              "        const charts = await google.colab.kernel.invokeFunction(\n",
              "            'suggestCharts', [key], {});\n",
              "      } catch (error) {\n",
              "        console.error('Error during call to suggestCharts:', error);\n",
              "      }\n",
              "      quickchartButtonEl.classList.remove('colab-df-spinner');\n",
              "      quickchartButtonEl.classList.add('colab-df-quickchart-complete');\n",
              "    }\n",
              "    (() => {\n",
              "      let quickchartButtonEl =\n",
              "        document.querySelector('#df-5a57dcf6-f9f4-45da-b0fb-4416d28a6461 button');\n",
              "      quickchartButtonEl.style.display =\n",
              "        google.colab.kernel.accessAllowed ? 'block' : 'none';\n",
              "    })();\n",
              "  </script>\n",
              "</div>\n",
              "\n",
              "    </div>\n",
              "  </div>\n"
            ],
            "application/vnd.google.colaboratory.intrinsic+json": {
              "type": "dataframe",
              "variable_name": "layoff_df",
              "repr_error": "'str' object has no attribute 'empty'"
            }
          },
          "metadata": {},
          "execution_count": 33
        }
      ]
    },
    {
      "cell_type": "code",
      "source": [
        "layoff_df.dtypes"
      ],
      "metadata": {
        "id": "lVXAW7QACf4b",
        "outputId": "d80c50ec-e800-437e-e766-4396d1567b75",
        "colab": {
          "base_uri": "https://localhost:8080/"
        }
      },
      "execution_count": null,
      "outputs": [
        {
          "output_type": "execute_result",
          "data": {
            "text/plain": [
              "Company                        object\n",
              "Location_HQ                    object\n",
              "Industry                       object\n",
              "Laid_Off_Count                float64\n",
              "Percentage                    float64\n",
              "Date                           object\n",
              "Source                         object\n",
              "Funds_Raised                  float64\n",
              "Stage                          object\n",
              "Date_Added                     object\n",
              "Country                        object\n",
              "List_of_Employees_Laid_Off     object\n",
              "dtype: object"
            ]
          },
          "metadata": {},
          "execution_count": 34
        }
      ]
    },
    {
      "cell_type": "code",
      "source": [
        "layoff_df.shape"
      ],
      "metadata": {
        "colab": {
          "base_uri": "https://localhost:8080/"
        },
        "id": "MuZnZu5fGBE1",
        "outputId": "0c94e1a8-5e1a-4590-b99f-1c46dfbcb6c0"
      },
      "execution_count": null,
      "outputs": [
        {
          "output_type": "execute_result",
          "data": {
            "text/plain": [
              "(3374, 12)"
            ]
          },
          "metadata": {},
          "execution_count": 35
        }
      ]
    },
    {
      "cell_type": "markdown",
      "source": [
        "# Pre-processing: Cleansing and data transformation"
      ],
      "metadata": {
        "id": "XhqZz-IInPv_"
      }
    },
    {
      "cell_type": "markdown",
      "source": [
        "**Removing the irrelevant columns**"
      ],
      "metadata": {
        "id": "6ZGqs8LZ0CmJ"
      }
    },
    {
      "cell_type": "code",
      "source": [
        "cleaned_layoff_df = layoff_df.copy()\n",
        "cleaned_layoff_df = cleaned_layoff_df.drop(columns=[\"List_of_Employees_Laid_Off\", \"Source\", \"Date_Added\",\"Percentage\"])"
      ],
      "metadata": {
        "id": "vVrydBK_KDgT"
      },
      "execution_count": null,
      "outputs": []
    },
    {
      "cell_type": "markdown",
      "source": [
        "**Drop duplicates**"
      ],
      "metadata": {
        "id": "ORoQJizbzfVQ"
      }
    },
    {
      "cell_type": "code",
      "source": [
        "cleaned_layoff_df = cleaned_layoff_df.drop_duplicates()\n",
        "len(cleaned_layoff_df)"
      ],
      "metadata": {
        "id": "rFqrLtD0UwYQ",
        "colab": {
          "base_uri": "https://localhost:8080/"
        },
        "outputId": "5c1d37af-cbcf-490c-bc2e-5cb2947fcba6"
      },
      "execution_count": null,
      "outputs": [
        {
          "output_type": "execute_result",
          "data": {
            "text/plain": [
              "3372"
            ]
          },
          "metadata": {},
          "execution_count": 37
        }
      ]
    },
    {
      "cell_type": "code",
      "source": [
        "cleaned_layoff_df.head(2)"
      ],
      "metadata": {
        "colab": {
          "base_uri": "https://localhost:8080/",
          "height": 112
        },
        "id": "cjIizBqhKDbk",
        "outputId": "ab6a1365-6eb6-41bc-9af8-9d44bd357e84"
      },
      "execution_count": null,
      "outputs": [
        {
          "output_type": "execute_result",
          "data": {
            "text/plain": [
              "      Company  Location_HQ   Industry  Laid_Off_Count        Date  \\\n",
              "0  Salesforce  SF Bay Area      Sales           700.0  2024-01-26   \n",
              "1    Flexport  SF Bay Area  Logistics             NaN  2024-01-26   \n",
              "\n",
              "   Funds_Raised     Stage        Country  \n",
              "0          65.0  Post-IPO  United States  \n",
              "1        2400.0  Series E  United States  "
            ],
            "text/html": [
              "\n",
              "  <div id=\"df-cfbfc712-4b30-4ee7-ab63-f98b76d470cc\" class=\"colab-df-container\">\n",
              "    <div>\n",
              "<style scoped>\n",
              "    .dataframe tbody tr th:only-of-type {\n",
              "        vertical-align: middle;\n",
              "    }\n",
              "\n",
              "    .dataframe tbody tr th {\n",
              "        vertical-align: top;\n",
              "    }\n",
              "\n",
              "    .dataframe thead th {\n",
              "        text-align: right;\n",
              "    }\n",
              "</style>\n",
              "<table border=\"1\" class=\"dataframe\">\n",
              "  <thead>\n",
              "    <tr style=\"text-align: right;\">\n",
              "      <th></th>\n",
              "      <th>Company</th>\n",
              "      <th>Location_HQ</th>\n",
              "      <th>Industry</th>\n",
              "      <th>Laid_Off_Count</th>\n",
              "      <th>Date</th>\n",
              "      <th>Funds_Raised</th>\n",
              "      <th>Stage</th>\n",
              "      <th>Country</th>\n",
              "    </tr>\n",
              "  </thead>\n",
              "  <tbody>\n",
              "    <tr>\n",
              "      <th>0</th>\n",
              "      <td>Salesforce</td>\n",
              "      <td>SF Bay Area</td>\n",
              "      <td>Sales</td>\n",
              "      <td>700.0</td>\n",
              "      <td>2024-01-26</td>\n",
              "      <td>65.0</td>\n",
              "      <td>Post-IPO</td>\n",
              "      <td>United States</td>\n",
              "    </tr>\n",
              "    <tr>\n",
              "      <th>1</th>\n",
              "      <td>Flexport</td>\n",
              "      <td>SF Bay Area</td>\n",
              "      <td>Logistics</td>\n",
              "      <td>NaN</td>\n",
              "      <td>2024-01-26</td>\n",
              "      <td>2400.0</td>\n",
              "      <td>Series E</td>\n",
              "      <td>United States</td>\n",
              "    </tr>\n",
              "  </tbody>\n",
              "</table>\n",
              "</div>\n",
              "    <div class=\"colab-df-buttons\">\n",
              "\n",
              "  <div class=\"colab-df-container\">\n",
              "    <button class=\"colab-df-convert\" onclick=\"convertToInteractive('df-cfbfc712-4b30-4ee7-ab63-f98b76d470cc')\"\n",
              "            title=\"Convert this dataframe to an interactive table.\"\n",
              "            style=\"display:none;\">\n",
              "\n",
              "  <svg xmlns=\"http://www.w3.org/2000/svg\" height=\"24px\" viewBox=\"0 -960 960 960\">\n",
              "    <path d=\"M120-120v-720h720v720H120Zm60-500h600v-160H180v160Zm220 220h160v-160H400v160Zm0 220h160v-160H400v160ZM180-400h160v-160H180v160Zm440 0h160v-160H620v160ZM180-180h160v-160H180v160Zm440 0h160v-160H620v160Z\"/>\n",
              "  </svg>\n",
              "    </button>\n",
              "\n",
              "  <style>\n",
              "    .colab-df-container {\n",
              "      display:flex;\n",
              "      gap: 12px;\n",
              "    }\n",
              "\n",
              "    .colab-df-convert {\n",
              "      background-color: #E8F0FE;\n",
              "      border: none;\n",
              "      border-radius: 50%;\n",
              "      cursor: pointer;\n",
              "      display: none;\n",
              "      fill: #1967D2;\n",
              "      height: 32px;\n",
              "      padding: 0 0 0 0;\n",
              "      width: 32px;\n",
              "    }\n",
              "\n",
              "    .colab-df-convert:hover {\n",
              "      background-color: #E2EBFA;\n",
              "      box-shadow: 0px 1px 2px rgba(60, 64, 67, 0.3), 0px 1px 3px 1px rgba(60, 64, 67, 0.15);\n",
              "      fill: #174EA6;\n",
              "    }\n",
              "\n",
              "    .colab-df-buttons div {\n",
              "      margin-bottom: 4px;\n",
              "    }\n",
              "\n",
              "    [theme=dark] .colab-df-convert {\n",
              "      background-color: #3B4455;\n",
              "      fill: #D2E3FC;\n",
              "    }\n",
              "\n",
              "    [theme=dark] .colab-df-convert:hover {\n",
              "      background-color: #434B5C;\n",
              "      box-shadow: 0px 1px 3px 1px rgba(0, 0, 0, 0.15);\n",
              "      filter: drop-shadow(0px 1px 2px rgba(0, 0, 0, 0.3));\n",
              "      fill: #FFFFFF;\n",
              "    }\n",
              "  </style>\n",
              "\n",
              "    <script>\n",
              "      const buttonEl =\n",
              "        document.querySelector('#df-cfbfc712-4b30-4ee7-ab63-f98b76d470cc button.colab-df-convert');\n",
              "      buttonEl.style.display =\n",
              "        google.colab.kernel.accessAllowed ? 'block' : 'none';\n",
              "\n",
              "      async function convertToInteractive(key) {\n",
              "        const element = document.querySelector('#df-cfbfc712-4b30-4ee7-ab63-f98b76d470cc');\n",
              "        const dataTable =\n",
              "          await google.colab.kernel.invokeFunction('convertToInteractive',\n",
              "                                                    [key], {});\n",
              "        if (!dataTable) return;\n",
              "\n",
              "        const docLinkHtml = 'Like what you see? Visit the ' +\n",
              "          '<a target=\"_blank\" href=https://colab.research.google.com/notebooks/data_table.ipynb>data table notebook</a>'\n",
              "          + ' to learn more about interactive tables.';\n",
              "        element.innerHTML = '';\n",
              "        dataTable['output_type'] = 'display_data';\n",
              "        await google.colab.output.renderOutput(dataTable, element);\n",
              "        const docLink = document.createElement('div');\n",
              "        docLink.innerHTML = docLinkHtml;\n",
              "        element.appendChild(docLink);\n",
              "      }\n",
              "    </script>\n",
              "  </div>\n",
              "\n",
              "\n",
              "<div id=\"df-2e9830fa-5af2-4727-bb9e-94c526c6c74e\">\n",
              "  <button class=\"colab-df-quickchart\" onclick=\"quickchart('df-2e9830fa-5af2-4727-bb9e-94c526c6c74e')\"\n",
              "            title=\"Suggest charts\"\n",
              "            style=\"display:none;\">\n",
              "\n",
              "<svg xmlns=\"http://www.w3.org/2000/svg\" height=\"24px\"viewBox=\"0 0 24 24\"\n",
              "     width=\"24px\">\n",
              "    <g>\n",
              "        <path d=\"M19 3H5c-1.1 0-2 .9-2 2v14c0 1.1.9 2 2 2h14c1.1 0 2-.9 2-2V5c0-1.1-.9-2-2-2zM9 17H7v-7h2v7zm4 0h-2V7h2v10zm4 0h-2v-4h2v4z\"/>\n",
              "    </g>\n",
              "</svg>\n",
              "  </button>\n",
              "\n",
              "<style>\n",
              "  .colab-df-quickchart {\n",
              "      --bg-color: #E8F0FE;\n",
              "      --fill-color: #1967D2;\n",
              "      --hover-bg-color: #E2EBFA;\n",
              "      --hover-fill-color: #174EA6;\n",
              "      --disabled-fill-color: #AAA;\n",
              "      --disabled-bg-color: #DDD;\n",
              "  }\n",
              "\n",
              "  [theme=dark] .colab-df-quickchart {\n",
              "      --bg-color: #3B4455;\n",
              "      --fill-color: #D2E3FC;\n",
              "      --hover-bg-color: #434B5C;\n",
              "      --hover-fill-color: #FFFFFF;\n",
              "      --disabled-bg-color: #3B4455;\n",
              "      --disabled-fill-color: #666;\n",
              "  }\n",
              "\n",
              "  .colab-df-quickchart {\n",
              "    background-color: var(--bg-color);\n",
              "    border: none;\n",
              "    border-radius: 50%;\n",
              "    cursor: pointer;\n",
              "    display: none;\n",
              "    fill: var(--fill-color);\n",
              "    height: 32px;\n",
              "    padding: 0;\n",
              "    width: 32px;\n",
              "  }\n",
              "\n",
              "  .colab-df-quickchart:hover {\n",
              "    background-color: var(--hover-bg-color);\n",
              "    box-shadow: 0 1px 2px rgba(60, 64, 67, 0.3), 0 1px 3px 1px rgba(60, 64, 67, 0.15);\n",
              "    fill: var(--button-hover-fill-color);\n",
              "  }\n",
              "\n",
              "  .colab-df-quickchart-complete:disabled,\n",
              "  .colab-df-quickchart-complete:disabled:hover {\n",
              "    background-color: var(--disabled-bg-color);\n",
              "    fill: var(--disabled-fill-color);\n",
              "    box-shadow: none;\n",
              "  }\n",
              "\n",
              "  .colab-df-spinner {\n",
              "    border: 2px solid var(--fill-color);\n",
              "    border-color: transparent;\n",
              "    border-bottom-color: var(--fill-color);\n",
              "    animation:\n",
              "      spin 1s steps(1) infinite;\n",
              "  }\n",
              "\n",
              "  @keyframes spin {\n",
              "    0% {\n",
              "      border-color: transparent;\n",
              "      border-bottom-color: var(--fill-color);\n",
              "      border-left-color: var(--fill-color);\n",
              "    }\n",
              "    20% {\n",
              "      border-color: transparent;\n",
              "      border-left-color: var(--fill-color);\n",
              "      border-top-color: var(--fill-color);\n",
              "    }\n",
              "    30% {\n",
              "      border-color: transparent;\n",
              "      border-left-color: var(--fill-color);\n",
              "      border-top-color: var(--fill-color);\n",
              "      border-right-color: var(--fill-color);\n",
              "    }\n",
              "    40% {\n",
              "      border-color: transparent;\n",
              "      border-right-color: var(--fill-color);\n",
              "      border-top-color: var(--fill-color);\n",
              "    }\n",
              "    60% {\n",
              "      border-color: transparent;\n",
              "      border-right-color: var(--fill-color);\n",
              "    }\n",
              "    80% {\n",
              "      border-color: transparent;\n",
              "      border-right-color: var(--fill-color);\n",
              "      border-bottom-color: var(--fill-color);\n",
              "    }\n",
              "    90% {\n",
              "      border-color: transparent;\n",
              "      border-bottom-color: var(--fill-color);\n",
              "    }\n",
              "  }\n",
              "</style>\n",
              "\n",
              "  <script>\n",
              "    async function quickchart(key) {\n",
              "      const quickchartButtonEl =\n",
              "        document.querySelector('#' + key + ' button');\n",
              "      quickchartButtonEl.disabled = true;  // To prevent multiple clicks.\n",
              "      quickchartButtonEl.classList.add('colab-df-spinner');\n",
              "      try {\n",
              "        const charts = await google.colab.kernel.invokeFunction(\n",
              "            'suggestCharts', [key], {});\n",
              "      } catch (error) {\n",
              "        console.error('Error during call to suggestCharts:', error);\n",
              "      }\n",
              "      quickchartButtonEl.classList.remove('colab-df-spinner');\n",
              "      quickchartButtonEl.classList.add('colab-df-quickchart-complete');\n",
              "    }\n",
              "    (() => {\n",
              "      let quickchartButtonEl =\n",
              "        document.querySelector('#df-2e9830fa-5af2-4727-bb9e-94c526c6c74e button');\n",
              "      quickchartButtonEl.style.display =\n",
              "        google.colab.kernel.accessAllowed ? 'block' : 'none';\n",
              "    })();\n",
              "  </script>\n",
              "</div>\n",
              "\n",
              "    </div>\n",
              "  </div>\n"
            ],
            "application/vnd.google.colaboratory.intrinsic+json": {
              "type": "dataframe",
              "variable_name": "cleaned_layoff_df",
              "repr_error": "'str' object has no attribute 'empty'"
            }
          },
          "metadata": {},
          "execution_count": 38
        }
      ]
    },
    {
      "cell_type": "markdown",
      "source": [
        "**Handling Missing values**"
      ],
      "metadata": {
        "id": "UUej2DCa0jSl"
      }
    },
    {
      "cell_type": "code",
      "source": [
        "#Finiding NULL entries across each columns\n",
        "for column in cleaned_layoff_df.columns:\n",
        "    null_count = cleaned_layoff_df[column].isna().sum()\n",
        "    print(f\"Null entries in {column}: {null_count}\")"
      ],
      "metadata": {
        "id": "5IrHbhNB_RER",
        "colab": {
          "base_uri": "https://localhost:8080/"
        },
        "outputId": "bf536310-4e49-45eb-b74c-7b6f11dba480"
      },
      "execution_count": null,
      "outputs": [
        {
          "output_type": "stream",
          "name": "stdout",
          "text": [
            "Null entries in Company: 0\n",
            "Null entries in Location_HQ: 0\n",
            "Null entries in Industry: 0\n",
            "Null entries in Laid_Off_Count: 1155\n",
            "Null entries in Date: 0\n",
            "Null entries in Funds_Raised: 360\n",
            "Null entries in Stage: 0\n",
            "Null entries in Country: 0\n"
          ]
        }
      ]
    },
    {
      "cell_type": "code",
      "source": [
        "cleaned_layoff_df['Funds_Raised'] = cleaned_layoff_df['Funds_Raised'].fillna(0)\n",
        "\n",
        "cleaned_layoff_df = cleaned_layoff_df.dropna()\n"
      ],
      "metadata": {
        "id": "lSgak9VQIb9Z"
      },
      "execution_count": null,
      "outputs": []
    },
    {
      "cell_type": "code",
      "source": [
        "#Data removed :\n",
        "data_removed = (len(layoff_df) - len(cleaned_layoff_df))/len(layoff_df) *100\n",
        "data_removed"
      ],
      "metadata": {
        "colab": {
          "base_uri": "https://localhost:8080/"
        },
        "id": "zE9guoofO041",
        "outputId": "e5e702da-d8b6-4f16-bd40-f8030fbf06a2"
      },
      "execution_count": null,
      "outputs": [
        {
          "output_type": "execute_result",
          "data": {
            "text/plain": [
              "34.291641967990515"
            ]
          },
          "metadata": {},
          "execution_count": 41
        }
      ]
    },
    {
      "cell_type": "markdown",
      "source": [
        "**Our data reduced by 34% post cleaning**"
      ],
      "metadata": {
        "id": "D9VmV11POzws"
      }
    },
    {
      "cell_type": "code",
      "source": [
        "#Extracting year, month, qtr  from the date laid off\n",
        "cleaned_layoff_df['Date'] = pd.to_datetime(cleaned_layoff_df['Date'])\n",
        "\n",
        "cleaned_layoff_df['Year'] = cleaned_layoff_df['Date'].dt.year\n",
        "cleaned_layoff_df['Month'] = cleaned_layoff_df['Date'].dt.month_name()\n",
        "cleaned_layoff_df['Quarter'] = cleaned_layoff_df['Date'].dt.to_period('Q')"
      ],
      "metadata": {
        "id": "GZ2P7rFhQwYv"
      },
      "execution_count": null,
      "outputs": []
    },
    {
      "cell_type": "code",
      "source": [
        "cleaned_layoff_df"
      ],
      "metadata": {
        "id": "z8LCGcPcOmwu",
        "colab": {
          "base_uri": "https://localhost:8080/",
          "height": 424
        },
        "outputId": "6a3eaefc-6648-4d6b-89c8-8d8522a9e70c"
      },
      "execution_count": null,
      "outputs": [
        {
          "output_type": "execute_result",
          "data": {
            "text/plain": [
              "            Company     Location_HQ        Industry  Laid_Off_Count  \\\n",
              "0        Salesforce     SF Bay Area           Sales           700.0   \n",
              "2         Microsoft         Seattle           Other          1900.0   \n",
              "3            Swiggy       Bengaluru            Food           400.0   \n",
              "4              Veho         Boulder       Logistics            65.0   \n",
              "8          Personio          Munich              HR           100.0   \n",
              "...             ...             ...             ...             ...   \n",
              "3368       Help.com          Austin         Support            16.0   \n",
              "3370   HopSkipDrive     Los Angeles  Transportation             8.0   \n",
              "3371    Panda Squad     SF Bay Area        Consumer             6.0   \n",
              "3372  Tamara Mellon     Los Angeles          Retail            20.0   \n",
              "3373       EasyPost  Salt Lake City       Logistics            75.0   \n",
              "\n",
              "           Date  Funds_Raised     Stage        Country  Year    Month Quarter  \n",
              "0    2024-01-26          65.0  Post-IPO  United States  2024  January  2024Q1  \n",
              "2    2024-01-25           1.0  Post-IPO  United States  2024  January  2024Q1  \n",
              "3    2024-01-25        3600.0   Unknown          India  2024  January  2024Q1  \n",
              "4    2024-01-25         299.0  Series B  United States  2024  January  2024Q1  \n",
              "8    2024-01-24         724.0  Series E        Germany  2024  January  2024Q1  \n",
              "...         ...           ...       ...            ...   ...      ...     ...  \n",
              "3368 2020-03-16           6.0      Seed  United States  2020    March  2020Q1  \n",
              "3370 2020-03-13          45.0   Unknown  United States  2020    March  2020Q1  \n",
              "3371 2020-03-13           1.0      Seed  United States  2020    March  2020Q1  \n",
              "3372 2020-03-12          90.0  Series C  United States  2020    March  2020Q1  \n",
              "3373 2020-03-11          12.0  Series A  United States  2020    March  2020Q1  \n",
              "\n",
              "[2217 rows x 11 columns]"
            ],
            "text/html": [
              "\n",
              "  <div id=\"df-510bfb7e-3bc7-4258-aa02-f7c778ad3850\" class=\"colab-df-container\">\n",
              "    <div>\n",
              "<style scoped>\n",
              "    .dataframe tbody tr th:only-of-type {\n",
              "        vertical-align: middle;\n",
              "    }\n",
              "\n",
              "    .dataframe tbody tr th {\n",
              "        vertical-align: top;\n",
              "    }\n",
              "\n",
              "    .dataframe thead th {\n",
              "        text-align: right;\n",
              "    }\n",
              "</style>\n",
              "<table border=\"1\" class=\"dataframe\">\n",
              "  <thead>\n",
              "    <tr style=\"text-align: right;\">\n",
              "      <th></th>\n",
              "      <th>Company</th>\n",
              "      <th>Location_HQ</th>\n",
              "      <th>Industry</th>\n",
              "      <th>Laid_Off_Count</th>\n",
              "      <th>Date</th>\n",
              "      <th>Funds_Raised</th>\n",
              "      <th>Stage</th>\n",
              "      <th>Country</th>\n",
              "      <th>Year</th>\n",
              "      <th>Month</th>\n",
              "      <th>Quarter</th>\n",
              "    </tr>\n",
              "  </thead>\n",
              "  <tbody>\n",
              "    <tr>\n",
              "      <th>0</th>\n",
              "      <td>Salesforce</td>\n",
              "      <td>SF Bay Area</td>\n",
              "      <td>Sales</td>\n",
              "      <td>700.0</td>\n",
              "      <td>2024-01-26</td>\n",
              "      <td>65.0</td>\n",
              "      <td>Post-IPO</td>\n",
              "      <td>United States</td>\n",
              "      <td>2024</td>\n",
              "      <td>January</td>\n",
              "      <td>2024Q1</td>\n",
              "    </tr>\n",
              "    <tr>\n",
              "      <th>2</th>\n",
              "      <td>Microsoft</td>\n",
              "      <td>Seattle</td>\n",
              "      <td>Other</td>\n",
              "      <td>1900.0</td>\n",
              "      <td>2024-01-25</td>\n",
              "      <td>1.0</td>\n",
              "      <td>Post-IPO</td>\n",
              "      <td>United States</td>\n",
              "      <td>2024</td>\n",
              "      <td>January</td>\n",
              "      <td>2024Q1</td>\n",
              "    </tr>\n",
              "    <tr>\n",
              "      <th>3</th>\n",
              "      <td>Swiggy</td>\n",
              "      <td>Bengaluru</td>\n",
              "      <td>Food</td>\n",
              "      <td>400.0</td>\n",
              "      <td>2024-01-25</td>\n",
              "      <td>3600.0</td>\n",
              "      <td>Unknown</td>\n",
              "      <td>India</td>\n",
              "      <td>2024</td>\n",
              "      <td>January</td>\n",
              "      <td>2024Q1</td>\n",
              "    </tr>\n",
              "    <tr>\n",
              "      <th>4</th>\n",
              "      <td>Veho</td>\n",
              "      <td>Boulder</td>\n",
              "      <td>Logistics</td>\n",
              "      <td>65.0</td>\n",
              "      <td>2024-01-25</td>\n",
              "      <td>299.0</td>\n",
              "      <td>Series B</td>\n",
              "      <td>United States</td>\n",
              "      <td>2024</td>\n",
              "      <td>January</td>\n",
              "      <td>2024Q1</td>\n",
              "    </tr>\n",
              "    <tr>\n",
              "      <th>8</th>\n",
              "      <td>Personio</td>\n",
              "      <td>Munich</td>\n",
              "      <td>HR</td>\n",
              "      <td>100.0</td>\n",
              "      <td>2024-01-24</td>\n",
              "      <td>724.0</td>\n",
              "      <td>Series E</td>\n",
              "      <td>Germany</td>\n",
              "      <td>2024</td>\n",
              "      <td>January</td>\n",
              "      <td>2024Q1</td>\n",
              "    </tr>\n",
              "    <tr>\n",
              "      <th>...</th>\n",
              "      <td>...</td>\n",
              "      <td>...</td>\n",
              "      <td>...</td>\n",
              "      <td>...</td>\n",
              "      <td>...</td>\n",
              "      <td>...</td>\n",
              "      <td>...</td>\n",
              "      <td>...</td>\n",
              "      <td>...</td>\n",
              "      <td>...</td>\n",
              "      <td>...</td>\n",
              "    </tr>\n",
              "    <tr>\n",
              "      <th>3368</th>\n",
              "      <td>Help.com</td>\n",
              "      <td>Austin</td>\n",
              "      <td>Support</td>\n",
              "      <td>16.0</td>\n",
              "      <td>2020-03-16</td>\n",
              "      <td>6.0</td>\n",
              "      <td>Seed</td>\n",
              "      <td>United States</td>\n",
              "      <td>2020</td>\n",
              "      <td>March</td>\n",
              "      <td>2020Q1</td>\n",
              "    </tr>\n",
              "    <tr>\n",
              "      <th>3370</th>\n",
              "      <td>HopSkipDrive</td>\n",
              "      <td>Los Angeles</td>\n",
              "      <td>Transportation</td>\n",
              "      <td>8.0</td>\n",
              "      <td>2020-03-13</td>\n",
              "      <td>45.0</td>\n",
              "      <td>Unknown</td>\n",
              "      <td>United States</td>\n",
              "      <td>2020</td>\n",
              "      <td>March</td>\n",
              "      <td>2020Q1</td>\n",
              "    </tr>\n",
              "    <tr>\n",
              "      <th>3371</th>\n",
              "      <td>Panda Squad</td>\n",
              "      <td>SF Bay Area</td>\n",
              "      <td>Consumer</td>\n",
              "      <td>6.0</td>\n",
              "      <td>2020-03-13</td>\n",
              "      <td>1.0</td>\n",
              "      <td>Seed</td>\n",
              "      <td>United States</td>\n",
              "      <td>2020</td>\n",
              "      <td>March</td>\n",
              "      <td>2020Q1</td>\n",
              "    </tr>\n",
              "    <tr>\n",
              "      <th>3372</th>\n",
              "      <td>Tamara Mellon</td>\n",
              "      <td>Los Angeles</td>\n",
              "      <td>Retail</td>\n",
              "      <td>20.0</td>\n",
              "      <td>2020-03-12</td>\n",
              "      <td>90.0</td>\n",
              "      <td>Series C</td>\n",
              "      <td>United States</td>\n",
              "      <td>2020</td>\n",
              "      <td>March</td>\n",
              "      <td>2020Q1</td>\n",
              "    </tr>\n",
              "    <tr>\n",
              "      <th>3373</th>\n",
              "      <td>EasyPost</td>\n",
              "      <td>Salt Lake City</td>\n",
              "      <td>Logistics</td>\n",
              "      <td>75.0</td>\n",
              "      <td>2020-03-11</td>\n",
              "      <td>12.0</td>\n",
              "      <td>Series A</td>\n",
              "      <td>United States</td>\n",
              "      <td>2020</td>\n",
              "      <td>March</td>\n",
              "      <td>2020Q1</td>\n",
              "    </tr>\n",
              "  </tbody>\n",
              "</table>\n",
              "<p>2217 rows × 11 columns</p>\n",
              "</div>\n",
              "    <div class=\"colab-df-buttons\">\n",
              "\n",
              "  <div class=\"colab-df-container\">\n",
              "    <button class=\"colab-df-convert\" onclick=\"convertToInteractive('df-510bfb7e-3bc7-4258-aa02-f7c778ad3850')\"\n",
              "            title=\"Convert this dataframe to an interactive table.\"\n",
              "            style=\"display:none;\">\n",
              "\n",
              "  <svg xmlns=\"http://www.w3.org/2000/svg\" height=\"24px\" viewBox=\"0 -960 960 960\">\n",
              "    <path d=\"M120-120v-720h720v720H120Zm60-500h600v-160H180v160Zm220 220h160v-160H400v160Zm0 220h160v-160H400v160ZM180-400h160v-160H180v160Zm440 0h160v-160H620v160ZM180-180h160v-160H180v160Zm440 0h160v-160H620v160Z\"/>\n",
              "  </svg>\n",
              "    </button>\n",
              "\n",
              "  <style>\n",
              "    .colab-df-container {\n",
              "      display:flex;\n",
              "      gap: 12px;\n",
              "    }\n",
              "\n",
              "    .colab-df-convert {\n",
              "      background-color: #E8F0FE;\n",
              "      border: none;\n",
              "      border-radius: 50%;\n",
              "      cursor: pointer;\n",
              "      display: none;\n",
              "      fill: #1967D2;\n",
              "      height: 32px;\n",
              "      padding: 0 0 0 0;\n",
              "      width: 32px;\n",
              "    }\n",
              "\n",
              "    .colab-df-convert:hover {\n",
              "      background-color: #E2EBFA;\n",
              "      box-shadow: 0px 1px 2px rgba(60, 64, 67, 0.3), 0px 1px 3px 1px rgba(60, 64, 67, 0.15);\n",
              "      fill: #174EA6;\n",
              "    }\n",
              "\n",
              "    .colab-df-buttons div {\n",
              "      margin-bottom: 4px;\n",
              "    }\n",
              "\n",
              "    [theme=dark] .colab-df-convert {\n",
              "      background-color: #3B4455;\n",
              "      fill: #D2E3FC;\n",
              "    }\n",
              "\n",
              "    [theme=dark] .colab-df-convert:hover {\n",
              "      background-color: #434B5C;\n",
              "      box-shadow: 0px 1px 3px 1px rgba(0, 0, 0, 0.15);\n",
              "      filter: drop-shadow(0px 1px 2px rgba(0, 0, 0, 0.3));\n",
              "      fill: #FFFFFF;\n",
              "    }\n",
              "  </style>\n",
              "\n",
              "    <script>\n",
              "      const buttonEl =\n",
              "        document.querySelector('#df-510bfb7e-3bc7-4258-aa02-f7c778ad3850 button.colab-df-convert');\n",
              "      buttonEl.style.display =\n",
              "        google.colab.kernel.accessAllowed ? 'block' : 'none';\n",
              "\n",
              "      async function convertToInteractive(key) {\n",
              "        const element = document.querySelector('#df-510bfb7e-3bc7-4258-aa02-f7c778ad3850');\n",
              "        const dataTable =\n",
              "          await google.colab.kernel.invokeFunction('convertToInteractive',\n",
              "                                                    [key], {});\n",
              "        if (!dataTable) return;\n",
              "\n",
              "        const docLinkHtml = 'Like what you see? Visit the ' +\n",
              "          '<a target=\"_blank\" href=https://colab.research.google.com/notebooks/data_table.ipynb>data table notebook</a>'\n",
              "          + ' to learn more about interactive tables.';\n",
              "        element.innerHTML = '';\n",
              "        dataTable['output_type'] = 'display_data';\n",
              "        await google.colab.output.renderOutput(dataTable, element);\n",
              "        const docLink = document.createElement('div');\n",
              "        docLink.innerHTML = docLinkHtml;\n",
              "        element.appendChild(docLink);\n",
              "      }\n",
              "    </script>\n",
              "  </div>\n",
              "\n",
              "\n",
              "<div id=\"df-ac3f0862-d1fd-4330-b04d-73d68a2aee39\">\n",
              "  <button class=\"colab-df-quickchart\" onclick=\"quickchart('df-ac3f0862-d1fd-4330-b04d-73d68a2aee39')\"\n",
              "            title=\"Suggest charts\"\n",
              "            style=\"display:none;\">\n",
              "\n",
              "<svg xmlns=\"http://www.w3.org/2000/svg\" height=\"24px\"viewBox=\"0 0 24 24\"\n",
              "     width=\"24px\">\n",
              "    <g>\n",
              "        <path d=\"M19 3H5c-1.1 0-2 .9-2 2v14c0 1.1.9 2 2 2h14c1.1 0 2-.9 2-2V5c0-1.1-.9-2-2-2zM9 17H7v-7h2v7zm4 0h-2V7h2v10zm4 0h-2v-4h2v4z\"/>\n",
              "    </g>\n",
              "</svg>\n",
              "  </button>\n",
              "\n",
              "<style>\n",
              "  .colab-df-quickchart {\n",
              "      --bg-color: #E8F0FE;\n",
              "      --fill-color: #1967D2;\n",
              "      --hover-bg-color: #E2EBFA;\n",
              "      --hover-fill-color: #174EA6;\n",
              "      --disabled-fill-color: #AAA;\n",
              "      --disabled-bg-color: #DDD;\n",
              "  }\n",
              "\n",
              "  [theme=dark] .colab-df-quickchart {\n",
              "      --bg-color: #3B4455;\n",
              "      --fill-color: #D2E3FC;\n",
              "      --hover-bg-color: #434B5C;\n",
              "      --hover-fill-color: #FFFFFF;\n",
              "      --disabled-bg-color: #3B4455;\n",
              "      --disabled-fill-color: #666;\n",
              "  }\n",
              "\n",
              "  .colab-df-quickchart {\n",
              "    background-color: var(--bg-color);\n",
              "    border: none;\n",
              "    border-radius: 50%;\n",
              "    cursor: pointer;\n",
              "    display: none;\n",
              "    fill: var(--fill-color);\n",
              "    height: 32px;\n",
              "    padding: 0;\n",
              "    width: 32px;\n",
              "  }\n",
              "\n",
              "  .colab-df-quickchart:hover {\n",
              "    background-color: var(--hover-bg-color);\n",
              "    box-shadow: 0 1px 2px rgba(60, 64, 67, 0.3), 0 1px 3px 1px rgba(60, 64, 67, 0.15);\n",
              "    fill: var(--button-hover-fill-color);\n",
              "  }\n",
              "\n",
              "  .colab-df-quickchart-complete:disabled,\n",
              "  .colab-df-quickchart-complete:disabled:hover {\n",
              "    background-color: var(--disabled-bg-color);\n",
              "    fill: var(--disabled-fill-color);\n",
              "    box-shadow: none;\n",
              "  }\n",
              "\n",
              "  .colab-df-spinner {\n",
              "    border: 2px solid var(--fill-color);\n",
              "    border-color: transparent;\n",
              "    border-bottom-color: var(--fill-color);\n",
              "    animation:\n",
              "      spin 1s steps(1) infinite;\n",
              "  }\n",
              "\n",
              "  @keyframes spin {\n",
              "    0% {\n",
              "      border-color: transparent;\n",
              "      border-bottom-color: var(--fill-color);\n",
              "      border-left-color: var(--fill-color);\n",
              "    }\n",
              "    20% {\n",
              "      border-color: transparent;\n",
              "      border-left-color: var(--fill-color);\n",
              "      border-top-color: var(--fill-color);\n",
              "    }\n",
              "    30% {\n",
              "      border-color: transparent;\n",
              "      border-left-color: var(--fill-color);\n",
              "      border-top-color: var(--fill-color);\n",
              "      border-right-color: var(--fill-color);\n",
              "    }\n",
              "    40% {\n",
              "      border-color: transparent;\n",
              "      border-right-color: var(--fill-color);\n",
              "      border-top-color: var(--fill-color);\n",
              "    }\n",
              "    60% {\n",
              "      border-color: transparent;\n",
              "      border-right-color: var(--fill-color);\n",
              "    }\n",
              "    80% {\n",
              "      border-color: transparent;\n",
              "      border-right-color: var(--fill-color);\n",
              "      border-bottom-color: var(--fill-color);\n",
              "    }\n",
              "    90% {\n",
              "      border-color: transparent;\n",
              "      border-bottom-color: var(--fill-color);\n",
              "    }\n",
              "  }\n",
              "</style>\n",
              "\n",
              "  <script>\n",
              "    async function quickchart(key) {\n",
              "      const quickchartButtonEl =\n",
              "        document.querySelector('#' + key + ' button');\n",
              "      quickchartButtonEl.disabled = true;  // To prevent multiple clicks.\n",
              "      quickchartButtonEl.classList.add('colab-df-spinner');\n",
              "      try {\n",
              "        const charts = await google.colab.kernel.invokeFunction(\n",
              "            'suggestCharts', [key], {});\n",
              "      } catch (error) {\n",
              "        console.error('Error during call to suggestCharts:', error);\n",
              "      }\n",
              "      quickchartButtonEl.classList.remove('colab-df-spinner');\n",
              "      quickchartButtonEl.classList.add('colab-df-quickchart-complete');\n",
              "    }\n",
              "    (() => {\n",
              "      let quickchartButtonEl =\n",
              "        document.querySelector('#df-ac3f0862-d1fd-4330-b04d-73d68a2aee39 button');\n",
              "      quickchartButtonEl.style.display =\n",
              "        google.colab.kernel.accessAllowed ? 'block' : 'none';\n",
              "    })();\n",
              "  </script>\n",
              "</div>\n",
              "\n",
              "  <div id=\"id_aac2d280-331b-4dd3-bfd3-f82324bead32\">\n",
              "    <style>\n",
              "      .colab-df-generate {\n",
              "        background-color: #E8F0FE;\n",
              "        border: none;\n",
              "        border-radius: 50%;\n",
              "        cursor: pointer;\n",
              "        display: none;\n",
              "        fill: #1967D2;\n",
              "        height: 32px;\n",
              "        padding: 0 0 0 0;\n",
              "        width: 32px;\n",
              "      }\n",
              "\n",
              "      .colab-df-generate:hover {\n",
              "        background-color: #E2EBFA;\n",
              "        box-shadow: 0px 1px 2px rgba(60, 64, 67, 0.3), 0px 1px 3px 1px rgba(60, 64, 67, 0.15);\n",
              "        fill: #174EA6;\n",
              "      }\n",
              "\n",
              "      [theme=dark] .colab-df-generate {\n",
              "        background-color: #3B4455;\n",
              "        fill: #D2E3FC;\n",
              "      }\n",
              "\n",
              "      [theme=dark] .colab-df-generate:hover {\n",
              "        background-color: #434B5C;\n",
              "        box-shadow: 0px 1px 3px 1px rgba(0, 0, 0, 0.15);\n",
              "        filter: drop-shadow(0px 1px 2px rgba(0, 0, 0, 0.3));\n",
              "        fill: #FFFFFF;\n",
              "      }\n",
              "    </style>\n",
              "    <button class=\"colab-df-generate\" onclick=\"generateWithVariable('cleaned_layoff_df')\"\n",
              "            title=\"Generate code using this dataframe.\"\n",
              "            style=\"display:none;\">\n",
              "\n",
              "  <svg xmlns=\"http://www.w3.org/2000/svg\" height=\"24px\"viewBox=\"0 0 24 24\"\n",
              "       width=\"24px\">\n",
              "    <path d=\"M7,19H8.4L18.45,9,17,7.55,7,17.6ZM5,21V16.75L18.45,3.32a2,2,0,0,1,2.83,0l1.4,1.43a1.91,1.91,0,0,1,.58,1.4,1.91,1.91,0,0,1-.58,1.4L9.25,21ZM18.45,9,17,7.55Zm-12,3A5.31,5.31,0,0,0,4.9,8.1,5.31,5.31,0,0,0,1,6.5,5.31,5.31,0,0,0,4.9,4.9,5.31,5.31,0,0,0,6.5,1,5.31,5.31,0,0,0,8.1,4.9,5.31,5.31,0,0,0,12,6.5,5.46,5.46,0,0,0,6.5,12Z\"/>\n",
              "  </svg>\n",
              "    </button>\n",
              "    <script>\n",
              "      (() => {\n",
              "      const buttonEl =\n",
              "        document.querySelector('#id_aac2d280-331b-4dd3-bfd3-f82324bead32 button.colab-df-generate');\n",
              "      buttonEl.style.display =\n",
              "        google.colab.kernel.accessAllowed ? 'block' : 'none';\n",
              "\n",
              "      buttonEl.onclick = () => {\n",
              "        google.colab.notebook.generateWithVariable('cleaned_layoff_df');\n",
              "      }\n",
              "      })();\n",
              "    </script>\n",
              "  </div>\n",
              "\n",
              "    </div>\n",
              "  </div>\n"
            ],
            "application/vnd.google.colaboratory.intrinsic+json": {
              "type": "dataframe",
              "variable_name": "cleaned_layoff_df",
              "summary": "{\n  \"name\": \"cleaned_layoff_df\",\n  \"rows\": 2217,\n  \"fields\": [\n    {\n      \"column\": \"Company\",\n      \"properties\": {\n        \"dtype\": \"string\",\n        \"num_unique_values\": 1695,\n        \"samples\": [\n          \"Checkmarx\",\n          \"G2\",\n          \"ezCater\"\n        ],\n        \"semantic_type\": \"\",\n        \"description\": \"\"\n      }\n    },\n    {\n      \"column\": \"Location_HQ\",\n      \"properties\": {\n        \"dtype\": \"category\",\n        \"num_unique_values\": 177,\n        \"samples\": [\n          \"Corvallis\",\n          \"Stamford\",\n          \"Grand Rapids\"\n        ],\n        \"semantic_type\": \"\",\n        \"description\": \"\"\n      }\n    },\n    {\n      \"column\": \"Industry\",\n      \"properties\": {\n        \"dtype\": \"category\",\n        \"num_unique_values\": 31,\n        \"samples\": [\n          \"Legal\",\n          \"Hardware\",\n          \"Real Estate\"\n        ],\n        \"semantic_type\": \"\",\n        \"description\": \"\"\n      }\n    },\n    {\n      \"column\": \"Laid_Off_Count\",\n      \"properties\": {\n        \"dtype\": \"number\",\n        \"std\": 782.2599543662291,\n        \"min\": 3.0,\n        \"max\": 12000.0,\n        \"num_unique_values\": 332,\n        \"samples\": [\n          330.0,\n          367.0,\n          140.0\n        ],\n        \"semantic_type\": \"\",\n        \"description\": \"\"\n      }\n    },\n    {\n      \"column\": \"Date\",\n      \"properties\": {\n        \"dtype\": \"date\",\n        \"min\": \"2020-03-11 00:00:00\",\n        \"max\": \"2024-01-26 00:00:00\",\n        \"num_unique_values\": 643,\n        \"samples\": [\n          \"2020-03-28 00:00:00\",\n          \"2022-08-19 00:00:00\",\n          \"2022-02-17 00:00:00\"\n        ],\n        \"semantic_type\": \"\",\n        \"description\": \"\"\n      }\n    },\n    {\n      \"column\": \"Funds_Raised\",\n      \"properties\": {\n        \"dtype\": \"number\",\n        \"std\": 5553.332111071117,\n        \"min\": 0.0,\n        \"max\": 121900.0,\n        \"num_unique_values\": 621,\n        \"samples\": [\n          1800.0,\n          207.0,\n          2400.0\n        ],\n        \"semantic_type\": \"\",\n        \"description\": \"\"\n      }\n    },\n    {\n      \"column\": \"Stage\",\n      \"properties\": {\n        \"dtype\": \"category\",\n        \"num_unique_values\": 16,\n        \"samples\": [\n          \"Post-IPO\",\n          \"Unknown\",\n          \"Series F\"\n        ],\n        \"semantic_type\": \"\",\n        \"description\": \"\"\n      }\n    },\n    {\n      \"column\": \"Country\",\n      \"properties\": {\n        \"dtype\": \"category\",\n        \"num_unique_values\": 49,\n        \"samples\": [\n          \"France\",\n          \"Seychelles\",\n          \"Portugal\"\n        ],\n        \"semantic_type\": \"\",\n        \"description\": \"\"\n      }\n    },\n    {\n      \"column\": \"Year\",\n      \"properties\": {\n        \"dtype\": \"number\",\n        \"std\": 1,\n        \"min\": 2020,\n        \"max\": 2024,\n        \"num_unique_values\": 5,\n        \"samples\": [\n          2023,\n          2020,\n          2022\n        ],\n        \"semantic_type\": \"\",\n        \"description\": \"\"\n      }\n    },\n    {\n      \"column\": \"Month\",\n      \"properties\": {\n        \"dtype\": \"category\",\n        \"num_unique_values\": 12,\n        \"samples\": [\n          \"March\",\n          \"April\",\n          \"January\"\n        ],\n        \"semantic_type\": \"\",\n        \"description\": \"\"\n      }\n    },\n    {\n      \"column\": \"Quarter\",\n      \"properties\": {\n        \"dtype\": \"period[Q-DEC]\",\n        \"num_unique_values\": 17,\n        \"samples\": [\n          \"2024Q1\",\n          \"2023Q4\",\n          \"2022Q4\"\n        ],\n        \"semantic_type\": \"\",\n        \"description\": \"\"\n      }\n    }\n  ]\n}"
            }
          },
          "metadata": {},
          "execution_count": 43
        }
      ]
    },
    {
      "cell_type": "code",
      "source": [
        "cleaned_layoff_df.dtypes"
      ],
      "metadata": {
        "colab": {
          "base_uri": "https://localhost:8080/"
        },
        "id": "qF6DlY73SL4C",
        "outputId": "e62abbf1-f2e2-43b7-f5e4-70d454998c4b"
      },
      "execution_count": null,
      "outputs": [
        {
          "output_type": "execute_result",
          "data": {
            "text/plain": [
              "Company                   object\n",
              "Location_HQ               object\n",
              "Industry                  object\n",
              "Laid_Off_Count           float64\n",
              "Date              datetime64[ns]\n",
              "Funds_Raised             float64\n",
              "Stage                     object\n",
              "Country                   object\n",
              "Year                       int64\n",
              "Month                     object\n",
              "Quarter            period[Q-DEC]\n",
              "dtype: object"
            ]
          },
          "metadata": {},
          "execution_count": 44
        }
      ]
    },
    {
      "cell_type": "markdown",
      "source": [
        "# EDA: Pattern discovery and Visualizations"
      ],
      "metadata": {
        "id": "GbupDnvEndPv"
      }
    },
    {
      "cell_type": "markdown",
      "source": [
        "**Correlation**"
      ],
      "metadata": {
        "id": "wFTjp4wC10mH"
      }
    },
    {
      "cell_type": "code",
      "source": [
        "sns.heatmap(cleaned_layoff_df.corr(numeric_only=True), annot = True)"
      ],
      "metadata": {
        "colab": {
          "base_uri": "https://localhost:8080/",
          "height": 452
        },
        "id": "ysM3rzKF3z2d",
        "outputId": "b639081a-47ef-482b-8e6a-9b4793eb1997"
      },
      "execution_count": null,
      "outputs": [
        {
          "output_type": "execute_result",
          "data": {
            "text/plain": [
              "<Axes: >"
            ]
          },
          "metadata": {},
          "execution_count": 45
        },
        {
          "output_type": "display_data",
          "data": {
            "text/plain": [
              "<Figure size 640x480 with 2 Axes>"
            ],
            "image/png": "[encoded data removed]"
          },
          "metadata": {}
        }
      ]
    },
    {
      "cell_type": "markdown",
      "source": [
        "The features have low correlation"
      ],
      "metadata": {
        "id": "9aapyMBa2BK8"
      }
    },
    {
      "cell_type": "markdown",
      "source": [
        "# Analysis by Time"
      ],
      "metadata": {
        "id": "WzLratsB6ntM"
      }
    },
    {
      "cell_type": "markdown",
      "source": [
        "**Year**"
      ],
      "metadata": {
        "id": "ScF2yDWVtQ6_"
      }
    },
    {
      "cell_type": "code",
      "source": [
        "# Visualize the number Layoffs in these Years\n",
        "laidOff_countYear = cleaned_layoff_df.groupby('Year')['Laid_Off_Count'].sum().reset_index()\n",
        "\n",
        "laidOff_countYear.head()\n",
        "plt.figure(figsize=(6, 5))\n",
        "plt.bar(laidOff_countYear['Year'], laidOff_countYear['Laid_Off_Count'])\n",
        "plt.xlabel('Years'), plt.ylabel('Number of layoffs')\n",
        "plt.title(\"Layoff count vs Years\")\n",
        "plt.tight_layout()"
      ],
      "metadata": {
        "colab": {
          "base_uri": "https://localhost:8080/",
          "height": 507
        },
        "id": "V7ywqXozUj2k",
        "outputId": "78baf790-3821-41b9-83db-3439ebc77743"
      },
      "execution_count": null,
      "outputs": [
        {
          "output_type": "display_data",
          "data": {
            "text/plain": [
              "<Figure size 600x500 with 1 Axes>"
            ],
            "image/png": "[encoded data removed]"
          },
          "metadata": {}
        }
      ]
    },
    {
      "cell_type": "markdown",
      "source": [
        "The above graph shows maximum lay offs happened in the year 2023."
      ],
      "metadata": {
        "id": "IU9CZ3rldY0g"
      }
    },
    {
      "cell_type": "markdown",
      "source": [
        "**Quarter**"
      ],
      "metadata": {
        "id": "0UJIFm9UtUnT"
      }
    },
    {
      "cell_type": "code",
      "source": [
        "# Layoffs seasonality as per qtr\n",
        "\n",
        "cleaned_layoff_df['Quarter'] = cleaned_layoff_df['Quarter'].astype(str)\n",
        "\n",
        "qtr_layoffs_count = cleaned_layoff_df.groupby('Quarter')['Laid_Off_Count'].sum().sort_values(ascending=False)\n",
        "# qtr_layoffs_count['Quarter'] = qtr_layoffs_count['Quarter'].astype(str)\n",
        "\n",
        "\n",
        "# Create a bar chart representing layoffs distribution by stage\n",
        "fig = px.bar(qtr_layoffs_count.reset_index(),\n",
        "              x='Quarter',\n",
        "              y='Laid_Off_Count',\n",
        "              title='Layoffs Distribution by Quarter',\n",
        "              labels={'Quarter': 'Quarter', 'Laid_Off_Count': 'Number of Layoffs'},\n",
        "              color='Quarter',\n",
        "              color_continuous_scale=px.colors.sequential.Turbo,\n",
        "\n",
        "              )\n",
        "\n",
        "fig.show()"
      ],
      "metadata": {
        "colab": {
          "base_uri": "https://localhost:8080/",
          "height": 542
        },
        "id": "I_JWZ3DTRVUH",
        "outputId": "3459deba-2f35-4a77-ab19-3c9e56147499"
      },
      "execution_count": null,
      "outputs": [
        {
          "output_type": "display_data",
          "data": {
            "text/html": [
              "<html>\n",
              "<head><meta charset=\"utf-8\" /></head>\n",
              "<body>\n",
              "    <div>            <script src=\"https://cdnjs.cloudflare.com/ajax/libs/mathjax/2.7.5/MathJax.js?config=TeX-AMS-MML_SVG\"></script><script type=\"text/javascript\">if (window.MathJax && window.MathJax.Hub && window.MathJax.Hub.Config) {window.MathJax.Hub.Config({SVG: {font: \"STIX-Web\"}});}</script>                <script type=\"text/javascript\">window.PlotlyConfig = {MathJaxConfig: 'local'};</script>\n",
              "        <script charset=\"utf-8\" src=\"https://cdn.plot.ly/plotly-2.24.1.min.js\"></script>                <div id=\"ebfe4f36-9570-4f00-a886-019a7519ae85\" class=\"plotly-graph-div\" style=\"height:525px; width:100%;\"></div>            <script type=\"text/javascript\">                                    window.PLOTLYENV=window.PLOTLYENV || {};                                    if (document.getElementById(\"ebfe4f36-9570-4f00-a886-019a7519ae85\")) {                    Plotly.newPlot(                        \"ebfe4f36-9570-4f00-a886-019a7519ae85\",                        [{\"alignmentgroup\":\"True\",\"hovertemplate\":\"Quarter=%{x}\\u003cbr\\u003eNumber of Layoffs=%{y}\\u003cextra\\u003e\\u003c\\u002fextra\\u003e\",\"legendgroup\":\"2023Q1\",\"marker\":{\"color\":\"#636efa\",\"pattern\":{\"shape\":\"\"}},\"name\":\"2023Q1\",\"offsetgroup\":\"2023Q1\",\"orientation\":\"v\",\"showlegend\":true,\"textposition\":\"auto\",\"x\":[\"2023Q1\"],\"xaxis\":\"x\",\"y\":[167434.0],\"yaxis\":\"y\",\"type\":\"bar\"},{\"alignmentgroup\":\"True\",\"hovertemplate\":\"Quarter=%{x}\\u003cbr\\u003eNumber of Layoffs=%{y}\\u003cextra\\u003e\\u003c\\u002fextra\\u003e\",\"legendgroup\":\"2022Q4\",\"marker\":{\"color\":\"#EF553B\",\"pattern\":{\"shape\":\"\"}},\"name\":\"2022Q4\",\"offsetgroup\":\"2022Q4\",\"orientation\":\"v\",\"showlegend\":true,\"textposition\":\"auto\",\"x\":[\"2022Q4\"],\"xaxis\":\"x\",\"y\":[84429.0],\"yaxis\":\"y\",\"type\":\"bar\"},{\"alignmentgroup\":\"True\",\"hovertemplate\":\"Quarter=%{x}\\u003cbr\\u003eNumber of Layoffs=%{y}\\u003cextra\\u003e\\u003c\\u002fextra\\u003e\",\"legendgroup\":\"2020Q2\",\"marker\":{\"color\":\"#00cc96\",\"pattern\":{\"shape\":\"\"}},\"name\":\"2020Q2\",\"offsetgroup\":\"2020Q2\",\"orientation\":\"v\",\"showlegend\":true,\"textposition\":\"auto\",\"x\":[\"2020Q2\"],\"xaxis\":\"x\",\"y\":[60141.0],\"yaxis\":\"y\",\"type\":\"bar\"},{\"alignmentgroup\":\"True\",\"hovertemplate\":\"Quarter=%{x}\\u003cbr\\u003eNumber of Layoffs=%{y}\\u003cextra\\u003e\\u003c\\u002fextra\\u003e\",\"legendgroup\":\"2023Q2\",\"marker\":{\"color\":\"#ab63fa\",\"pattern\":{\"shape\":\"\"}},\"name\":\"2023Q2\",\"offsetgroup\":\"2023Q2\",\"orientation\":\"v\",\"showlegend\":true,\"textposition\":\"auto\",\"x\":[\"2023Q2\"],\"xaxis\":\"x\",\"y\":[46433.0],\"yaxis\":\"y\",\"type\":\"bar\"},{\"alignmentgroup\":\"True\",\"hovertemplate\":\"Quarter=%{x}\\u003cbr\\u003eNumber of Layoffs=%{y}\\u003cextra\\u003e\\u003c\\u002fextra\\u003e\",\"legendgroup\":\"2022Q3\",\"marker\":{\"color\":\"#FFA15A\",\"pattern\":{\"shape\":\"\"}},\"name\":\"2022Q3\",\"offsetgroup\":\"2022Q3\",\"orientation\":\"v\",\"showlegend\":true,\"textposition\":\"auto\",\"x\":[\"2022Q3\"],\"xaxis\":\"x\",\"y\":[35174.0],\"yaxis\":\"y\",\"type\":\"bar\"},{\"alignmentgroup\":\"True\",\"hovertemplate\":\"Quarter=%{x}\\u003cbr\\u003eNumber of Layoffs=%{y}\\u003cextra\\u003e\\u003c\\u002fextra\\u003e\",\"legendgroup\":\"2022Q2\",\"marker\":{\"color\":\"#19d3f3\",\"pattern\":{\"shape\":\"\"}},\"name\":\"2022Q2\",\"offsetgroup\":\"2022Q2\",\"orientation\":\"v\",\"showlegend\":true,\"textposition\":\"auto\",\"x\":[\"2022Q2\"],\"xaxis\":\"x\",\"y\":[34507.0],\"yaxis\":\"y\",\"type\":\"bar\"},{\"alignmentgroup\":\"True\",\"hovertemplate\":\"Quarter=%{x}\\u003cbr\\u003eNumber of Layoffs=%{y}\\u003cextra\\u003e\\u003c\\u002fextra\\u003e\",\"legendgroup\":\"2023Q3\",\"marker\":{\"color\":\"#FF6692\",\"pattern\":{\"shape\":\"\"}},\"name\":\"2023Q3\",\"offsetgroup\":\"2023Q3\",\"orientation\":\"v\",\"showlegend\":true,\"textposition\":\"auto\",\"x\":[\"2023Q3\"],\"xaxis\":\"x\",\"y\":[25535.0],\"yaxis\":\"y\",\"type\":\"bar\"},{\"alignmentgroup\":\"True\",\"hovertemplate\":\"Quarter=%{x}\\u003cbr\\u003eNumber of Layoffs=%{y}\\u003cextra\\u003e\\u003c\\u002fextra\\u003e\",\"legendgroup\":\"2024Q1\",\"marker\":{\"color\":\"#B6E880\",\"pattern\":{\"shape\":\"\"}},\"name\":\"2024Q1\",\"offsetgroup\":\"2024Q1\",\"orientation\":\"v\",\"showlegend\":true,\"textposition\":\"auto\",\"x\":[\"2024Q1\"],\"xaxis\":\"x\",\"y\":[24564.0],\"yaxis\":\"y\",\"type\":\"bar\"},{\"alignmentgroup\":\"True\",\"hovertemplate\":\"Quarter=%{x}\\u003cbr\\u003eNumber of Layoffs=%{y}\\u003cextra\\u003e\\u003c\\u002fextra\\u003e\",\"legendgroup\":\"2023Q4\",\"marker\":{\"color\":\"#FF97FF\",\"pattern\":{\"shape\":\"\"}},\"name\":\"2023Q4\",\"offsetgroup\":\"2023Q4\",\"orientation\":\"v\",\"showlegend\":true,\"textposition\":\"auto\",\"x\":[\"2023Q4\"],\"xaxis\":\"x\",\"y\":[23193.0],\"yaxis\":\"y\",\"type\":\"bar\"},{\"alignmentgroup\":\"True\",\"hovertemplate\":\"Quarter=%{x}\\u003cbr\\u003eNumber of Layoffs=%{y}\\u003cextra\\u003e\\u003c\\u002fextra\\u003e\",\"legendgroup\":\"2022Q1\",\"marker\":{\"color\":\"#FECB52\",\"pattern\":{\"shape\":\"\"}},\"name\":\"2022Q1\",\"offsetgroup\":\"2022Q1\",\"orientation\":\"v\",\"showlegend\":true,\"textposition\":\"auto\",\"x\":[\"2022Q1\"],\"xaxis\":\"x\",\"y\":[9909.0],\"yaxis\":\"y\",\"type\":\"bar\"},{\"alignmentgroup\":\"True\",\"hovertemplate\":\"Quarter=%{x}\\u003cbr\\u003eNumber of Layoffs=%{y}\\u003cextra\\u003e\\u003c\\u002fextra\\u003e\",\"legendgroup\":\"2020Q3\",\"marker\":{\"color\":\"#636efa\",\"pattern\":{\"shape\":\"\"}},\"name\":\"2020Q3\",\"offsetgroup\":\"2020Q3\",\"orientation\":\"v\",\"showlegend\":true,\"textposition\":\"auto\",\"x\":[\"2020Q3\"],\"xaxis\":\"x\",\"y\":[9690.0],\"yaxis\":\"y\",\"type\":\"bar\"},{\"alignmentgroup\":\"True\",\"hovertemplate\":\"Quarter=%{x}\\u003cbr\\u003eNumber of Layoffs=%{y}\\u003cextra\\u003e\\u003c\\u002fextra\\u003e\",\"legendgroup\":\"2020Q1\",\"marker\":{\"color\":\"#EF553B\",\"pattern\":{\"shape\":\"\"}},\"name\":\"2020Q1\",\"offsetgroup\":\"2020Q1\",\"orientation\":\"v\",\"showlegend\":true,\"textposition\":\"auto\",\"x\":[\"2020Q1\"],\"xaxis\":\"x\",\"y\":[9628.0],\"yaxis\":\"y\",\"type\":\"bar\"},{\"alignmentgroup\":\"True\",\"hovertemplate\":\"Quarter=%{x}\\u003cbr\\u003eNumber of Layoffs=%{y}\\u003cextra\\u003e\\u003c\\u002fextra\\u003e\",\"legendgroup\":\"2021Q1\",\"marker\":{\"color\":\"#00cc96\",\"pattern\":{\"shape\":\"\"}},\"name\":\"2021Q1\",\"offsetgroup\":\"2021Q1\",\"orientation\":\"v\",\"showlegend\":true,\"textposition\":\"auto\",\"x\":[\"2021Q1\"],\"xaxis\":\"x\",\"y\":[7728.0],\"yaxis\":\"y\",\"type\":\"bar\"},{\"alignmentgroup\":\"True\",\"hovertemplate\":\"Quarter=%{x}\\u003cbr\\u003eNumber of Layoffs=%{y}\\u003cextra\\u003e\\u003c\\u002fextra\\u003e\",\"legendgroup\":\"2021Q4\",\"marker\":{\"color\":\"#ab63fa\",\"pattern\":{\"shape\":\"\"}},\"name\":\"2021Q4\",\"offsetgroup\":\"2021Q4\",\"orientation\":\"v\",\"showlegend\":true,\"textposition\":\"auto\",\"x\":[\"2021Q4\"],\"xaxis\":\"x\",\"y\":[3292.0],\"yaxis\":\"y\",\"type\":\"bar\"},{\"alignmentgroup\":\"True\",\"hovertemplate\":\"Quarter=%{x}\\u003cbr\\u003eNumber of Layoffs=%{y}\\u003cextra\\u003e\\u003c\\u002fextra\\u003e\",\"legendgroup\":\"2021Q2\",\"marker\":{\"color\":\"#FFA15A\",\"pattern\":{\"shape\":\"\"}},\"name\":\"2021Q2\",\"offsetgroup\":\"2021Q2\",\"orientation\":\"v\",\"showlegend\":true,\"textposition\":\"auto\",\"x\":[\"2021Q2\"],\"xaxis\":\"x\",\"y\":[2695.0],\"yaxis\":\"y\",\"type\":\"bar\"},{\"alignmentgroup\":\"True\",\"hovertemplate\":\"Quarter=%{x}\\u003cbr\\u003eNumber of Layoffs=%{y}\\u003cextra\\u003e\\u003c\\u002fextra\\u003e\",\"legendgroup\":\"2021Q3\",\"marker\":{\"color\":\"#19d3f3\",\"pattern\":{\"shape\":\"\"}},\"name\":\"2021Q3\",\"offsetgroup\":\"2021Q3\",\"orientation\":\"v\",\"showlegend\":true,\"textposition\":\"auto\",\"x\":[\"2021Q3\"],\"xaxis\":\"x\",\"y\":[2108.0],\"yaxis\":\"y\",\"type\":\"bar\"},{\"alignmentgroup\":\"True\",\"hovertemplate\":\"Quarter=%{x}\\u003cbr\\u003eNumber of Layoffs=%{y}\\u003cextra\\u003e\\u003c\\u002fextra\\u003e\",\"legendgroup\":\"2020Q4\",\"marker\":{\"color\":\"#FF6692\",\"pattern\":{\"shape\":\"\"}},\"name\":\"2020Q4\",\"offsetgroup\":\"2020Q4\",\"orientation\":\"v\",\"showlegend\":true,\"textposition\":\"auto\",\"x\":[\"2020Q4\"],\"xaxis\":\"x\",\"y\":[1539.0],\"yaxis\":\"y\",\"type\":\"bar\"}],                        {\"template\":{\"data\":{\"histogram2dcontour\":[{\"type\":\"histogram2dcontour\",\"colorbar\":{\"outlinewidth\":0,\"ticks\":\"\"},\"colorscale\":[[0.0,\"#0d0887\"],[0.1111111111111111,\"#46039f\"],[0.2222222222222222,\"#7201a8\"],[0.3333333333333333,\"#9c179e\"],[0.4444444444444444,\"#bd3786\"],[0.5555555555555556,\"#d8576b\"],[0.6666666666666666,\"#ed7953\"],[0.7777777777777778,\"#fb9f3a\"],[0.8888888888888888,\"#fdca26\"],[1.0,\"#f0f921\"]]}],\"choropleth\":[{\"type\":\"choropleth\",\"colorbar\":{\"outlinewidth\":0,\"ticks\":\"\"}}],\"histogram2d\":[{\"type\":\"histogram2d\",\"colorbar\":{\"outlinewidth\":0,\"ticks\":\"\"},\"colorscale\":[[0.0,\"#0d0887\"],[0.1111111111111111,\"#46039f\"],[0.2222222222222222,\"#7201a8\"],[0.3333333333333333,\"#9c179e\"],[0.4444444444444444,\"#bd3786\"],[0.5555555555555556,\"#d8576b\"],[0.6666666666666666,\"#ed7953\"],[0.7777777777777778,\"#fb9f3a\"],[0.8888888888888888,\"#fdca26\"],[1.0,\"#f0f921\"]]}],\"heatmap\":[{\"type\":\"heatmap\",\"colorbar\":{\"outlinewidth\":0,\"ticks\":\"\"},\"colorscale\":[[0.0,\"#0d0887\"],[0.1111111111111111,\"#46039f\"],[0.2222222222222222,\"#7201a8\"],[0.3333333333333333,\"#9c179e\"],[0.4444444444444444,\"#bd3786\"],[0.5555555555555556,\"#d8576b\"],[0.6666666666666666,\"#ed7953\"],[0.7777777777777778,\"#fb9f3a\"],[0.8888888888888888,\"#fdca26\"],[1.0,\"#f0f921\"]]}],\"heatmapgl\":[{\"type\":\"heatmapgl\",\"colorbar\":{\"outlinewidth\":0,\"ticks\":\"\"},\"colorscale\":[[0.0,\"#0d0887\"],[0.1111111111111111,\"#46039f\"],[0.2222222222222222,\"#7201a8\"],[0.3333333333333333,\"#9c179e\"],[0.4444444444444444,\"#bd3786\"],[0.5555555555555556,\"#d8576b\"],[0.6666666666666666,\"#ed7953\"],[0.7777777777777778,\"#fb9f3a\"],[0.8888888888888888,\"#fdca26\"],[1.0,\"#f0f921\"]]}],\"contourcarpet\":[{\"type\":\"contourcarpet\",\"colorbar\":{\"outlinewidth\":0,\"ticks\":\"\"}}],\"contour\":[{\"type\":\"contour\",\"colorbar\":{\"outlinewidth\":0,\"ticks\":\"\"},\"colorscale\":[[0.0,\"#0d0887\"],[0.1111111111111111,\"#46039f\"],[0.2222222222222222,\"#7201a8\"],[0.3333333333333333,\"#9c179e\"],[0.4444444444444444,\"#bd3786\"],[0.5555555555555556,\"#d8576b\"],[0.6666666666666666,\"#ed7953\"],[0.7777777777777778,\"#fb9f3a\"],[0.8888888888888888,\"#fdca26\"],[1.0,\"#f0f921\"]]}],\"surface\":[{\"type\":\"surface\",\"colorbar\":{\"outlinewidth\":0,\"ticks\":\"\"},\"colorscale\":[[0.0,\"#0d0887\"],[0.1111111111111111,\"#46039f\"],[0.2222222222222222,\"#7201a8\"],[0.3333333333333333,\"#9c179e\"],[0.4444444444444444,\"#bd3786\"],[0.5555555555555556,\"#d8576b\"],[0.6666666666666666,\"#ed7953\"],[0.7777777777777778,\"#fb9f3a\"],[0.8888888888888888,\"#fdca26\"],[1.0,\"#f0f921\"]]}],\"mesh3d\":[{\"type\":\"mesh3d\",\"colorbar\":{\"outlinewidth\":0,\"ticks\":\"\"}}],\"scatter\":[{\"fillpattern\":{\"fillmode\":\"overlay\",\"size\":10,\"solidity\":0.2},\"type\":\"scatter\"}],\"parcoords\":[{\"type\":\"parcoords\",\"line\":{\"colorbar\":{\"outlinewidth\":0,\"ticks\":\"\"}}}],\"scatterpolargl\":[{\"type\":\"scatterpolargl\",\"marker\":{\"colorbar\":{\"outlinewidth\":0,\"ticks\":\"\"}}}],\"bar\":[{\"error_x\":{\"color\":\"#2a3f5f\"},\"error_y\":{\"color\":\"#2a3f5f\"},\"marker\":{\"line\":{\"color\":\"#E5ECF6\",\"width\":0.5},\"pattern\":{\"fillmode\":\"overlay\",\"size\":10,\"solidity\":0.2}},\"type\":\"bar\"}],\"scattergeo\":[{\"type\":\"scattergeo\",\"marker\":{\"colorbar\":{\"outlinewidth\":0,\"ticks\":\"\"}}}],\"scatterpolar\":[{\"type\":\"scatterpolar\",\"marker\":{\"colorbar\":{\"outlinewidth\":0,\"ticks\":\"\"}}}],\"histogram\":[{\"marker\":{\"pattern\":{\"fillmode\":\"overlay\",\"size\":10,\"solidity\":0.2}},\"type\":\"histogram\"}],\"scattergl\":[{\"type\":\"scattergl\",\"marker\":{\"colorbar\":{\"outlinewidth\":0,\"ticks\":\"\"}}}],\"scatter3d\":[{\"type\":\"scatter3d\",\"line\":{\"colorbar\":{\"outlinewidth\":0,\"ticks\":\"\"}},\"marker\":{\"colorbar\":{\"outlinewidth\":0,\"ticks\":\"\"}}}],\"scattermapbox\":[{\"type\":\"scattermapbox\",\"marker\":{\"colorbar\":{\"outlinewidth\":0,\"ticks\":\"\"}}}],\"scatterternary\":[{\"type\":\"scatterternary\",\"marker\":{\"colorbar\":{\"outlinewidth\":0,\"ticks\":\"\"}}}],\"scattercarpet\":[{\"type\":\"scattercarpet\",\"marker\":{\"colorbar\":{\"outlinewidth\":0,\"ticks\":\"\"}}}],\"carpet\":[{\"aaxis\":{\"endlinecolor\":\"#2a3f5f\",\"gridcolor\":\"white\",\"linecolor\":\"white\",\"minorgridcolor\":\"white\",\"startlinecolor\":\"#2a3f5f\"},\"baxis\":{\"endlinecolor\":\"#2a3f5f\",\"gridcolor\":\"white\",\"linecolor\":\"white\",\"minorgridcolor\":\"white\",\"startlinecolor\":\"#2a3f5f\"},\"type\":\"carpet\"}],\"table\":[{\"cells\":{\"fill\":{\"color\":\"#EBF0F8\"},\"line\":{\"color\":\"white\"}},\"header\":{\"fill\":{\"color\":\"#C8D4E3\"},\"line\":{\"color\":\"white\"}},\"type\":\"table\"}],\"barpolar\":[{\"marker\":{\"line\":{\"color\":\"#E5ECF6\",\"width\":0.5},\"pattern\":{\"fillmode\":\"overlay\",\"size\":10,\"solidity\":0.2}},\"type\":\"barpolar\"}],\"pie\":[{\"automargin\":true,\"type\":\"pie\"}]},\"layout\":{\"autotypenumbers\":\"strict\",\"colorway\":[\"#636efa\",\"#EF553B\",\"#00cc96\",\"#ab63fa\",\"#FFA15A\",\"#19d3f3\",\"#FF6692\",\"#B6E880\",\"#FF97FF\",\"#FECB52\"],\"font\":{\"color\":\"#2a3f5f\"},\"hovermode\":\"closest\",\"hoverlabel\":{\"align\":\"left\"},\"paper_bgcolor\":\"white\",\"plot_bgcolor\":\"#E5ECF6\",\"polar\":{\"bgcolor\":\"#E5ECF6\",\"angularaxis\":{\"gridcolor\":\"white\",\"linecolor\":\"white\",\"ticks\":\"\"},\"radialaxis\":{\"gridcolor\":\"white\",\"linecolor\":\"white\",\"ticks\":\"\"}},\"ternary\":{\"bgcolor\":\"#E5ECF6\",\"aaxis\":{\"gridcolor\":\"white\",\"linecolor\":\"white\",\"ticks\":\"\"},\"baxis\":{\"gridcolor\":\"white\",\"linecolor\":\"white\",\"ticks\":\"\"},\"caxis\":{\"gridcolor\":\"white\",\"linecolor\":\"white\",\"ticks\":\"\"}},\"coloraxis\":{\"colorbar\":{\"outlinewidth\":0,\"ticks\":\"\"}},\"colorscale\":{\"sequential\":[[0.0,\"#0d0887\"],[0.1111111111111111,\"#46039f\"],[0.2222222222222222,\"#7201a8\"],[0.3333333333333333,\"#9c179e\"],[0.4444444444444444,\"#bd3786\"],[0.5555555555555556,\"#d8576b\"],[0.6666666666666666,\"#ed7953\"],[0.7777777777777778,\"#fb9f3a\"],[0.8888888888888888,\"#fdca26\"],[1.0,\"#f0f921\"]],\"sequentialminus\":[[0.0,\"#0d0887\"],[0.1111111111111111,\"#46039f\"],[0.2222222222222222,\"#7201a8\"],[0.3333333333333333,\"#9c179e\"],[0.4444444444444444,\"#bd3786\"],[0.5555555555555556,\"#d8576b\"],[0.6666666666666666,\"#ed7953\"],[0.7777777777777778,\"#fb9f3a\"],[0.8888888888888888,\"#fdca26\"],[1.0,\"#f0f921\"]],\"diverging\":[[0,\"#8e0152\"],[0.1,\"#c51b7d\"],[0.2,\"#de77ae\"],[0.3,\"#f1b6da\"],[0.4,\"#fde0ef\"],[0.5,\"#f7f7f7\"],[0.6,\"#e6f5d0\"],[0.7,\"#b8e186\"],[0.8,\"#7fbc41\"],[0.9,\"#4d9221\"],[1,\"#276419\"]]},\"xaxis\":{\"gridcolor\":\"white\",\"linecolor\":\"white\",\"ticks\":\"\",\"title\":{\"standoff\":15},\"zerolinecolor\":\"white\",\"automargin\":true,\"zerolinewidth\":2},\"yaxis\":{\"gridcolor\":\"white\",\"linecolor\":\"white\",\"ticks\":\"\",\"title\":{\"standoff\":15},\"zerolinecolor\":\"white\",\"automargin\":true,\"zerolinewidth\":2},\"scene\":{\"xaxis\":{\"backgroundcolor\":\"#E5ECF6\",\"gridcolor\":\"white\",\"linecolor\":\"white\",\"showbackground\":true,\"ticks\":\"\",\"zerolinecolor\":\"white\",\"gridwidth\":2},\"yaxis\":{\"backgroundcolor\":\"#E5ECF6\",\"gridcolor\":\"white\",\"linecolor\":\"white\",\"showbackground\":true,\"ticks\":\"\",\"zerolinecolor\":\"white\",\"gridwidth\":2},\"zaxis\":{\"backgroundcolor\":\"#E5ECF6\",\"gridcolor\":\"white\",\"linecolor\":\"white\",\"showbackground\":true,\"ticks\":\"\",\"zerolinecolor\":\"white\",\"gridwidth\":2}},\"shapedefaults\":{\"line\":{\"color\":\"#2a3f5f\"}},\"annotationdefaults\":{\"arrowcolor\":\"#2a3f5f\",\"arrowhead\":0,\"arrowwidth\":1},\"geo\":{\"bgcolor\":\"white\",\"landcolor\":\"#E5ECF6\",\"subunitcolor\":\"white\",\"showland\":true,\"showlakes\":true,\"lakecolor\":\"white\"},\"title\":{\"x\":0.05},\"mapbox\":{\"style\":\"light\"}}},\"xaxis\":{\"anchor\":\"y\",\"domain\":[0.0,1.0],\"title\":{\"text\":\"Quarter\"},\"categoryorder\":\"array\",\"categoryarray\":[\"2023Q1\",\"2022Q4\",\"2020Q2\",\"2023Q2\",\"2022Q3\",\"2022Q2\",\"2023Q3\",\"2024Q1\",\"2023Q4\",\"2022Q1\",\"2020Q3\",\"2020Q1\",\"2021Q1\",\"2021Q4\",\"2021Q2\",\"2021Q3\",\"2020Q4\"]},\"yaxis\":{\"anchor\":\"x\",\"domain\":[0.0,1.0],\"title\":{\"text\":\"Number of Layoffs\"}},\"legend\":{\"title\":{\"text\":\"Quarter\"},\"tracegroupgap\":0},\"title\":{\"text\":\"Layoffs Distribution by Quarter\"},\"barmode\":\"relative\"},                        {\"responsive\": true}                    ).then(function(){\n",
              "                            \n",
              "var gd = document.getElementById('ebfe4f36-9570-4f00-a886-019a7519ae85');\n",
              "var x = new MutationObserver(function (mutations, observer) {{\n",
              "        var display = window.getComputedStyle(gd).display;\n",
              "        if (!display || display === 'none') {{\n",
              "            console.log([gd, 'removed!']);\n",
              "            Plotly.purge(gd);\n",
              "            observer.disconnect();\n",
              "        }}\n",
              "}});\n",
              "\n",
              "// Listen for the removal of the full notebook cells\n",
              "var notebookContainer = gd.closest('#notebook-container');\n",
              "if (notebookContainer) {{\n",
              "    x.observe(notebookContainer, {childList: true});\n",
              "}}\n",
              "\n",
              "// Listen for the clearing of the current output cell\n",
              "var outputEl = gd.closest('.output');\n",
              "if (outputEl) {{\n",
              "    x.observe(outputEl, {childList: true});\n",
              "}}\n",
              "\n",
              "                        })                };                            </script>        </div>\n",
              "</body>\n",
              "</html>"
            ]
          },
          "metadata": {}
        }
      ]
    },
    {
      "cell_type": "markdown",
      "source": [
        "**Month**"
      ],
      "metadata": {
        "id": "f74WQa9o6yvE"
      }
    },
    {
      "cell_type": "code",
      "source": [
        "# Layoffs seasonality as per months\n",
        "\n",
        "# Group by month and sum the layoffs value\n",
        "month_layoffs_count = cleaned_layoff_df.groupby('Month')['Laid_Off_Count'].sum().sort_values(ascending=False)\n",
        "\n",
        "# Create a bar chart representing layoffs distribution by stage\n",
        "fig = px.bar(month_layoffs_count.reset_index(),\n",
        "              x='Month',\n",
        "              y='Laid_Off_Count',\n",
        "              title='Layoffs Distribution by Month',\n",
        "              labels={'Month': 'Months', 'Laid_Off_Count': 'Number of Layoffs'},\n",
        "              color='Month',\n",
        "              color_continuous_scale=px.colors.sequential.Turbo,\n",
        "\n",
        "              )\n",
        "\n",
        "fig.show()"
      ],
      "metadata": {
        "colab": {
          "base_uri": "https://localhost:8080/",
          "height": 542
        },
        "id": "hX2F0NEf4YeE",
        "outputId": "507e7b91-dedb-47a9-f9ac-abf9b0db6b17"
      },
      "execution_count": null,
      "outputs": [
        {
          "output_type": "display_data",
          "data": {
            "text/html": [
              "<html>\n",
              "<head><meta charset=\"utf-8\" /></head>\n",
              "<body>\n",
              "    <div>            <script src=\"https://cdnjs.cloudflare.com/ajax/libs/mathjax/2.7.5/MathJax.js?config=TeX-AMS-MML_SVG\"></script><script type=\"text/javascript\">if (window.MathJax && window.MathJax.Hub && window.MathJax.Hub.Config) {window.MathJax.Hub.Config({SVG: {font: \"STIX-Web\"}});}</script>                <script type=\"text/javascript\">window.PlotlyConfig = {MathJaxConfig: 'local'};</script>\n",
              "        <script charset=\"utf-8\" src=\"https://cdn.plot.ly/plotly-2.24.1.min.js\"></script>                <div id=\"42419f14-94cf-48c1-a022-3a9a41ac01f5\" class=\"plotly-graph-div\" style=\"height:525px; width:100%;\"></div>            <script type=\"text/javascript\">                                    window.PLOTLYENV=window.PLOTLYENV || {};                                    if (document.getElementById(\"42419f14-94cf-48c1-a022-3a9a41ac01f5\")) {                    Plotly.newPlot(                        \"42419f14-94cf-48c1-a022-3a9a41ac01f5\",                        [{\"alignmentgroup\":\"True\",\"hovertemplate\":\"Months=%{x}\\u003cbr\\u003eNumber of Layoffs=%{y}\\u003cextra\\u003e\\u003c\\u002fextra\\u003e\",\"legendgroup\":\"January\",\"marker\":{\"color\":\"#636efa\",\"pattern\":{\"shape\":\"\"}},\"name\":\"January\",\"offsetgroup\":\"January\",\"orientation\":\"v\",\"showlegend\":true,\"textposition\":\"auto\",\"x\":[\"January\"],\"xaxis\":\"x\",\"y\":[121596.0],\"yaxis\":\"y\",\"type\":\"bar\"},{\"alignmentgroup\":\"True\",\"hovertemplate\":\"Months=%{x}\\u003cbr\\u003eNumber of Layoffs=%{y}\\u003cextra\\u003e\\u003c\\u002fextra\\u003e\",\"legendgroup\":\"November\",\"marker\":{\"color\":\"#EF553B\",\"pattern\":{\"shape\":\"\"}},\"name\":\"November\",\"offsetgroup\":\"November\",\"orientation\":\"v\",\"showlegend\":true,\"textposition\":\"auto\",\"x\":[\"November\"],\"xaxis\":\"x\",\"y\":[64039.0],\"yaxis\":\"y\",\"type\":\"bar\"},{\"alignmentgroup\":\"True\",\"hovertemplate\":\"Months=%{x}\\u003cbr\\u003eNumber of Layoffs=%{y}\\u003cextra\\u003e\\u003c\\u002fextra\\u003e\",\"legendgroup\":\"May\",\"marker\":{\"color\":\"#00cc96\",\"pattern\":{\"shape\":\"\"}},\"name\":\"May\",\"offsetgroup\":\"May\",\"orientation\":\"v\",\"showlegend\":true,\"textposition\":\"auto\",\"x\":[\"May\"],\"xaxis\":\"x\",\"y\":[53916.0],\"yaxis\":\"y\",\"type\":\"bar\"},{\"alignmentgroup\":\"True\",\"hovertemplate\":\"Months=%{x}\\u003cbr\\u003eNumber of Layoffs=%{y}\\u003cextra\\u003e\\u003c\\u002fextra\\u003e\",\"legendgroup\":\"March\",\"marker\":{\"color\":\"#ab63fa\",\"pattern\":{\"shape\":\"\"}},\"name\":\"March\",\"offsetgroup\":\"March\",\"orientation\":\"v\",\"showlegend\":true,\"textposition\":\"auto\",\"x\":[\"March\"],\"xaxis\":\"x\",\"y\":[53212.0],\"yaxis\":\"y\",\"type\":\"bar\"},{\"alignmentgroup\":\"True\",\"hovertemplate\":\"Months=%{x}\\u003cbr\\u003eNumber of Layoffs=%{y}\\u003cextra\\u003e\\u003c\\u002fextra\\u003e\",\"legendgroup\":\"April\",\"marker\":{\"color\":\"#FFA15A\",\"pattern\":{\"shape\":\"\"}},\"name\":\"April\",\"offsetgroup\":\"April\",\"orientation\":\"v\",\"showlegend\":true,\"textposition\":\"auto\",\"x\":[\"April\"],\"xaxis\":\"x\",\"y\":[51199.0],\"yaxis\":\"y\",\"type\":\"bar\"},{\"alignmentgroup\":\"True\",\"hovertemplate\":\"Months=%{x}\\u003cbr\\u003eNumber of Layoffs=%{y}\\u003cextra\\u003e\\u003c\\u002fextra\\u003e\",\"legendgroup\":\"February\",\"marker\":{\"color\":\"#19d3f3\",\"pattern\":{\"shape\":\"\"}},\"name\":\"February\",\"offsetgroup\":\"February\",\"orientation\":\"v\",\"showlegend\":true,\"textposition\":\"auto\",\"x\":[\"February\"],\"xaxis\":\"x\",\"y\":[44455.0],\"yaxis\":\"y\",\"type\":\"bar\"},{\"alignmentgroup\":\"True\",\"hovertemplate\":\"Months=%{x}\\u003cbr\\u003eNumber of Layoffs=%{y}\\u003cextra\\u003e\\u003c\\u002fextra\\u003e\",\"legendgroup\":\"June\",\"marker\":{\"color\":\"#FF6692\",\"pattern\":{\"shape\":\"\"}},\"name\":\"June\",\"offsetgroup\":\"June\",\"orientation\":\"v\",\"showlegend\":true,\"textposition\":\"auto\",\"x\":[\"June\"],\"xaxis\":\"x\",\"y\":[38661.0],\"yaxis\":\"y\",\"type\":\"bar\"},{\"alignmentgroup\":\"True\",\"hovertemplate\":\"Months=%{x}\\u003cbr\\u003eNumber of Layoffs=%{y}\\u003cextra\\u003e\\u003c\\u002fextra\\u003e\",\"legendgroup\":\"July\",\"marker\":{\"color\":\"#B6E880\",\"pattern\":{\"shape\":\"\"}},\"name\":\"July\",\"offsetgroup\":\"July\",\"orientation\":\"v\",\"showlegend\":true,\"textposition\":\"auto\",\"x\":[\"July\"],\"xaxis\":\"x\",\"y\":[34080.0],\"yaxis\":\"y\",\"type\":\"bar\"},{\"alignmentgroup\":\"True\",\"hovertemplate\":\"Months=%{x}\\u003cbr\\u003eNumber of Layoffs=%{y}\\u003cextra\\u003e\\u003c\\u002fextra\\u003e\",\"legendgroup\":\"October\",\"marker\":{\"color\":\"#FF97FF\",\"pattern\":{\"shape\":\"\"}},\"name\":\"October\",\"offsetgroup\":\"October\",\"orientation\":\"v\",\"showlegend\":true,\"textposition\":\"auto\",\"x\":[\"October\"],\"xaxis\":\"x\",\"y\":[28839.0],\"yaxis\":\"y\",\"type\":\"bar\"},{\"alignmentgroup\":\"True\",\"hovertemplate\":\"Months=%{x}\\u003cbr\\u003eNumber of Layoffs=%{y}\\u003cextra\\u003e\\u003c\\u002fextra\\u003e\",\"legendgroup\":\"August\",\"marker\":{\"color\":\"#FECB52\",\"pattern\":{\"shape\":\"\"}},\"name\":\"August\",\"offsetgroup\":\"August\",\"orientation\":\"v\",\"showlegend\":true,\"textposition\":\"auto\",\"x\":[\"August\"],\"xaxis\":\"x\",\"y\":[27069.0],\"yaxis\":\"y\",\"type\":\"bar\"},{\"alignmentgroup\":\"True\",\"hovertemplate\":\"Months=%{x}\\u003cbr\\u003eNumber of Layoffs=%{y}\\u003cextra\\u003e\\u003c\\u002fextra\\u003e\",\"legendgroup\":\"December\",\"marker\":{\"color\":\"#636efa\",\"pattern\":{\"shape\":\"\"}},\"name\":\"December\",\"offsetgroup\":\"December\",\"orientation\":\"v\",\"showlegend\":true,\"textposition\":\"auto\",\"x\":[\"December\"],\"xaxis\":\"x\",\"y\":[19575.0],\"yaxis\":\"y\",\"type\":\"bar\"},{\"alignmentgroup\":\"True\",\"hovertemplate\":\"Months=%{x}\\u003cbr\\u003eNumber of Layoffs=%{y}\\u003cextra\\u003e\\u003c\\u002fextra\\u003e\",\"legendgroup\":\"September\",\"marker\":{\"color\":\"#EF553B\",\"pattern\":{\"shape\":\"\"}},\"name\":\"September\",\"offsetgroup\":\"September\",\"orientation\":\"v\",\"showlegend\":true,\"textposition\":\"auto\",\"x\":[\"September\"],\"xaxis\":\"x\",\"y\":[11358.0],\"yaxis\":\"y\",\"type\":\"bar\"}],                        {\"template\":{\"data\":{\"histogram2dcontour\":[{\"type\":\"histogram2dcontour\",\"colorbar\":{\"outlinewidth\":0,\"ticks\":\"\"},\"colorscale\":[[0.0,\"#0d0887\"],[0.1111111111111111,\"#46039f\"],[0.2222222222222222,\"#7201a8\"],[0.3333333333333333,\"#9c179e\"],[0.4444444444444444,\"#bd3786\"],[0.5555555555555556,\"#d8576b\"],[0.6666666666666666,\"#ed7953\"],[0.7777777777777778,\"#fb9f3a\"],[0.8888888888888888,\"#fdca26\"],[1.0,\"#f0f921\"]]}],\"choropleth\":[{\"type\":\"choropleth\",\"colorbar\":{\"outlinewidth\":0,\"ticks\":\"\"}}],\"histogram2d\":[{\"type\":\"histogram2d\",\"colorbar\":{\"outlinewidth\":0,\"ticks\":\"\"},\"colorscale\":[[0.0,\"#0d0887\"],[0.1111111111111111,\"#46039f\"],[0.2222222222222222,\"#7201a8\"],[0.3333333333333333,\"#9c179e\"],[0.4444444444444444,\"#bd3786\"],[0.5555555555555556,\"#d8576b\"],[0.6666666666666666,\"#ed7953\"],[0.7777777777777778,\"#fb9f3a\"],[0.8888888888888888,\"#fdca26\"],[1.0,\"#f0f921\"]]}],\"heatmap\":[{\"type\":\"heatmap\",\"colorbar\":{\"outlinewidth\":0,\"ticks\":\"\"},\"colorscale\":[[0.0,\"#0d0887\"],[0.1111111111111111,\"#46039f\"],[0.2222222222222222,\"#7201a8\"],[0.3333333333333333,\"#9c179e\"],[0.4444444444444444,\"#bd3786\"],[0.5555555555555556,\"#d8576b\"],[0.6666666666666666,\"#ed7953\"],[0.7777777777777778,\"#fb9f3a\"],[0.8888888888888888,\"#fdca26\"],[1.0,\"#f0f921\"]]}],\"heatmapgl\":[{\"type\":\"heatmapgl\",\"colorbar\":{\"outlinewidth\":0,\"ticks\":\"\"},\"colorscale\":[[0.0,\"#0d0887\"],[0.1111111111111111,\"#46039f\"],[0.2222222222222222,\"#7201a8\"],[0.3333333333333333,\"#9c179e\"],[0.4444444444444444,\"#bd3786\"],[0.5555555555555556,\"#d8576b\"],[0.6666666666666666,\"#ed7953\"],[0.7777777777777778,\"#fb9f3a\"],[0.8888888888888888,\"#fdca26\"],[1.0,\"#f0f921\"]]}],\"contourcarpet\":[{\"type\":\"contourcarpet\",\"colorbar\":{\"outlinewidth\":0,\"ticks\":\"\"}}],\"contour\":[{\"type\":\"contour\",\"colorbar\":{\"outlinewidth\":0,\"ticks\":\"\"},\"colorscale\":[[0.0,\"#0d0887\"],[0.1111111111111111,\"#46039f\"],[0.2222222222222222,\"#7201a8\"],[0.3333333333333333,\"#9c179e\"],[0.4444444444444444,\"#bd3786\"],[0.5555555555555556,\"#d8576b\"],[0.6666666666666666,\"#ed7953\"],[0.7777777777777778,\"#fb9f3a\"],[0.8888888888888888,\"#fdca26\"],[1.0,\"#f0f921\"]]}],\"surface\":[{\"type\":\"surface\",\"colorbar\":{\"outlinewidth\":0,\"ticks\":\"\"},\"colorscale\":[[0.0,\"#0d0887\"],[0.1111111111111111,\"#46039f\"],[0.2222222222222222,\"#7201a8\"],[0.3333333333333333,\"#9c179e\"],[0.4444444444444444,\"#bd3786\"],[0.5555555555555556,\"#d8576b\"],[0.6666666666666666,\"#ed7953\"],[0.7777777777777778,\"#fb9f3a\"],[0.8888888888888888,\"#fdca26\"],[1.0,\"#f0f921\"]]}],\"mesh3d\":[{\"type\":\"mesh3d\",\"colorbar\":{\"outlinewidth\":0,\"ticks\":\"\"}}],\"scatter\":[{\"fillpattern\":{\"fillmode\":\"overlay\",\"size\":10,\"solidity\":0.2},\"type\":\"scatter\"}],\"parcoords\":[{\"type\":\"parcoords\",\"line\":{\"colorbar\":{\"outlinewidth\":0,\"ticks\":\"\"}}}],\"scatterpolargl\":[{\"type\":\"scatterpolargl\",\"marker\":{\"colorbar\":{\"outlinewidth\":0,\"ticks\":\"\"}}}],\"bar\":[{\"error_x\":{\"color\":\"#2a3f5f\"},\"error_y\":{\"color\":\"#2a3f5f\"},\"marker\":{\"line\":{\"color\":\"#E5ECF6\",\"width\":0.5},\"pattern\":{\"fillmode\":\"overlay\",\"size\":10,\"solidity\":0.2}},\"type\":\"bar\"}],\"scattergeo\":[{\"type\":\"scattergeo\",\"marker\":{\"colorbar\":{\"outlinewidth\":0,\"ticks\":\"\"}}}],\"scatterpolar\":[{\"type\":\"scatterpolar\",\"marker\":{\"colorbar\":{\"outlinewidth\":0,\"ticks\":\"\"}}}],\"histogram\":[{\"marker\":{\"pattern\":{\"fillmode\":\"overlay\",\"size\":10,\"solidity\":0.2}},\"type\":\"histogram\"}],\"scattergl\":[{\"type\":\"scattergl\",\"marker\":{\"colorbar\":{\"outlinewidth\":0,\"ticks\":\"\"}}}],\"scatter3d\":[{\"type\":\"scatter3d\",\"line\":{\"colorbar\":{\"outlinewidth\":0,\"ticks\":\"\"}},\"marker\":{\"colorbar\":{\"outlinewidth\":0,\"ticks\":\"\"}}}],\"scattermapbox\":[{\"type\":\"scattermapbox\",\"marker\":{\"colorbar\":{\"outlinewidth\":0,\"ticks\":\"\"}}}],\"scatterternary\":[{\"type\":\"scatterternary\",\"marker\":{\"colorbar\":{\"outlinewidth\":0,\"ticks\":\"\"}}}],\"scattercarpet\":[{\"type\":\"scattercarpet\",\"marker\":{\"colorbar\":{\"outlinewidth\":0,\"ticks\":\"\"}}}],\"carpet\":[{\"aaxis\":{\"endlinecolor\":\"#2a3f5f\",\"gridcolor\":\"white\",\"linecolor\":\"white\",\"minorgridcolor\":\"white\",\"startlinecolor\":\"#2a3f5f\"},\"baxis\":{\"endlinecolor\":\"#2a3f5f\",\"gridcolor\":\"white\",\"linecolor\":\"white\",\"minorgridcolor\":\"white\",\"startlinecolor\":\"#2a3f5f\"},\"type\":\"carpet\"}],\"table\":[{\"cells\":{\"fill\":{\"color\":\"#EBF0F8\"},\"line\":{\"color\":\"white\"}},\"header\":{\"fill\":{\"color\":\"#C8D4E3\"},\"line\":{\"color\":\"white\"}},\"type\":\"table\"}],\"barpolar\":[{\"marker\":{\"line\":{\"color\":\"#E5ECF6\",\"width\":0.5},\"pattern\":{\"fillmode\":\"overlay\",\"size\":10,\"solidity\":0.2}},\"type\":\"barpolar\"}],\"pie\":[{\"automargin\":true,\"type\":\"pie\"}]},\"layout\":{\"autotypenumbers\":\"strict\",\"colorway\":[\"#636efa\",\"#EF553B\",\"#00cc96\",\"#ab63fa\",\"#FFA15A\",\"#19d3f3\",\"#FF6692\",\"#B6E880\",\"#FF97FF\",\"#FECB52\"],\"font\":{\"color\":\"#2a3f5f\"},\"hovermode\":\"closest\",\"hoverlabel\":{\"align\":\"left\"},\"paper_bgcolor\":\"white\",\"plot_bgcolor\":\"#E5ECF6\",\"polar\":{\"bgcolor\":\"#E5ECF6\",\"angularaxis\":{\"gridcolor\":\"white\",\"linecolor\":\"white\",\"ticks\":\"\"},\"radialaxis\":{\"gridcolor\":\"white\",\"linecolor\":\"white\",\"ticks\":\"\"}},\"ternary\":{\"bgcolor\":\"#E5ECF6\",\"aaxis\":{\"gridcolor\":\"white\",\"linecolor\":\"white\",\"ticks\":\"\"},\"baxis\":{\"gridcolor\":\"white\",\"linecolor\":\"white\",\"ticks\":\"\"},\"caxis\":{\"gridcolor\":\"white\",\"linecolor\":\"white\",\"ticks\":\"\"}},\"coloraxis\":{\"colorbar\":{\"outlinewidth\":0,\"ticks\":\"\"}},\"colorscale\":{\"sequential\":[[0.0,\"#0d0887\"],[0.1111111111111111,\"#46039f\"],[0.2222222222222222,\"#7201a8\"],[0.3333333333333333,\"#9c179e\"],[0.4444444444444444,\"#bd3786\"],[0.5555555555555556,\"#d8576b\"],[0.6666666666666666,\"#ed7953\"],[0.7777777777777778,\"#fb9f3a\"],[0.8888888888888888,\"#fdca26\"],[1.0,\"#f0f921\"]],\"sequentialminus\":[[0.0,\"#0d0887\"],[0.1111111111111111,\"#46039f\"],[0.2222222222222222,\"#7201a8\"],[0.3333333333333333,\"#9c179e\"],[0.4444444444444444,\"#bd3786\"],[0.5555555555555556,\"#d8576b\"],[0.6666666666666666,\"#ed7953\"],[0.7777777777777778,\"#fb9f3a\"],[0.8888888888888888,\"#fdca26\"],[1.0,\"#f0f921\"]],\"diverging\":[[0,\"#8e0152\"],[0.1,\"#c51b7d\"],[0.2,\"#de77ae\"],[0.3,\"#f1b6da\"],[0.4,\"#fde0ef\"],[0.5,\"#f7f7f7\"],[0.6,\"#e6f5d0\"],[0.7,\"#b8e186\"],[0.8,\"#7fbc41\"],[0.9,\"#4d9221\"],[1,\"#276419\"]]},\"xaxis\":{\"gridcolor\":\"white\",\"linecolor\":\"white\",\"ticks\":\"\",\"title\":{\"standoff\":15},\"zerolinecolor\":\"white\",\"automargin\":true,\"zerolinewidth\":2},\"yaxis\":{\"gridcolor\":\"white\",\"linecolor\":\"white\",\"ticks\":\"\",\"title\":{\"standoff\":15},\"zerolinecolor\":\"white\",\"automargin\":true,\"zerolinewidth\":2},\"scene\":{\"xaxis\":{\"backgroundcolor\":\"#E5ECF6\",\"gridcolor\":\"white\",\"linecolor\":\"white\",\"showbackground\":true,\"ticks\":\"\",\"zerolinecolor\":\"white\",\"gridwidth\":2},\"yaxis\":{\"backgroundcolor\":\"#E5ECF6\",\"gridcolor\":\"white\",\"linecolor\":\"white\",\"showbackground\":true,\"ticks\":\"\",\"zerolinecolor\":\"white\",\"gridwidth\":2},\"zaxis\":{\"backgroundcolor\":\"#E5ECF6\",\"gridcolor\":\"white\",\"linecolor\":\"white\",\"showbackground\":true,\"ticks\":\"\",\"zerolinecolor\":\"white\",\"gridwidth\":2}},\"shapedefaults\":{\"line\":{\"color\":\"#2a3f5f\"}},\"annotationdefaults\":{\"arrowcolor\":\"#2a3f5f\",\"arrowhead\":0,\"arrowwidth\":1},\"geo\":{\"bgcolor\":\"white\",\"landcolor\":\"#E5ECF6\",\"subunitcolor\":\"white\",\"showland\":true,\"showlakes\":true,\"lakecolor\":\"white\"},\"title\":{\"x\":0.05},\"mapbox\":{\"style\":\"light\"}}},\"xaxis\":{\"anchor\":\"y\",\"domain\":[0.0,1.0],\"title\":{\"text\":\"Months\"},\"categoryorder\":\"array\",\"categoryarray\":[\"January\",\"November\",\"May\",\"March\",\"April\",\"February\",\"June\",\"July\",\"October\",\"August\",\"December\",\"September\"]},\"yaxis\":{\"anchor\":\"x\",\"domain\":[0.0,1.0],\"title\":{\"text\":\"Number of Layoffs\"}},\"legend\":{\"title\":{\"text\":\"Months\"},\"tracegroupgap\":0},\"title\":{\"text\":\"Layoffs Distribution by Month\"},\"barmode\":\"relative\"},                        {\"responsive\": true}                    ).then(function(){\n",
              "                            \n",
              "var gd = document.getElementById('42419f14-94cf-48c1-a022-3a9a41ac01f5');\n",
              "var x = new MutationObserver(function (mutations, observer) {{\n",
              "        var display = window.getComputedStyle(gd).display;\n",
              "        if (!display || display === 'none') {{\n",
              "            console.log([gd, 'removed!']);\n",
              "            Plotly.purge(gd);\n",
              "            observer.disconnect();\n",
              "        }}\n",
              "}});\n",
              "\n",
              "// Listen for the removal of the full notebook cells\n",
              "var notebookContainer = gd.closest('#notebook-container');\n",
              "if (notebookContainer) {{\n",
              "    x.observe(notebookContainer, {childList: true});\n",
              "}}\n",
              "\n",
              "// Listen for the clearing of the current output cell\n",
              "var outputEl = gd.closest('.output');\n",
              "if (outputEl) {{\n",
              "    x.observe(outputEl, {childList: true});\n",
              "}}\n",
              "\n",
              "                        })                };                            </script>        </div>\n",
              "</body>\n",
              "</html>"
            ]
          },
          "metadata": {}
        }
      ]
    },
    {
      "cell_type": "markdown",
      "source": [
        "# Analysis by Industry\n"
      ],
      "metadata": {
        "id": "1apA53CpkALf"
      }
    },
    {
      "cell_type": "code",
      "source": [
        "cleaned_layoff_df['Industry'].unique()"
      ],
      "metadata": {
        "colab": {
          "base_uri": "https://localhost:8080/"
        },
        "id": "ueWoj2GH_3Uc",
        "outputId": "461dd228-084e-408b-eaf1-a82da75519f7"
      },
      "execution_count": null,
      "outputs": [
        {
          "output_type": "execute_result",
          "data": {
            "text/plain": [
              "array(['Sales', 'Other', 'Food', 'Logistics', 'HR', 'Media', 'Retail',\n",
              "       'Transportation', 'Finance', 'Fitness', 'Consumer', 'Energy',\n",
              "       'Healthcare', 'Data', 'Marketing', 'Hardware', 'Security',\n",
              "       'Travel', 'Manufacturing', 'Education', 'Product', 'AI',\n",
              "       'Infrastructure', 'Real Estate', 'Aerospace', 'Recruiting',\n",
              "       'Crypto', 'Legal', 'Unknown', 'Support', 'Construction'],\n",
              "      dtype=object)"
            ]
          },
          "metadata": {},
          "execution_count": 49
        }
      ]
    },
    {
      "cell_type": "code",
      "source": [
        "#Merging the Unknown and Other\n",
        "cleaned_layoff_df['Industry'] = cleaned_layoff_df['Industry'].replace('', 'Unknown')\n",
        "cleaned_layoff_df['Industry'] = cleaned_layoff_df['Industry'].replace('Unknown', 'Other')"
      ],
      "metadata": {
        "id": "WjspXhBf0wC2"
      },
      "execution_count": null,
      "outputs": []
    },
    {
      "cell_type": "code",
      "source": [
        "#Laidoff Counts:\n",
        "laid_off_byIndustry = cleaned_layoff_df.groupby('Industry')['Laid_Off_Count'].sum().sort_values(ascending=True).reset_index()\n",
        "\n",
        "fig_industries_box = px.bar(laid_off_byIndustry,\n",
        "    x = 'Laid_Off_Count',\n",
        "    y = 'Industry',\n",
        "    title = 'Distribution of Layoffs Across Industries',\n",
        "    labels={'Industry': 'Industry', 'Laid_Off_Count': 'Number of Layoffs'},\n",
        "    color='Laid_Off_Count',\n",
        "    color_continuous_scale=px.colors.sequential.Emrld,\n",
        "    height = 700\n",
        "    )\n",
        "fig_industries_box"
      ],
      "metadata": {
        "colab": {
          "base_uri": "https://localhost:8080/",
          "height": 717
        },
        "id": "3ayhd2RIox6F",
        "outputId": "49fea75e-8e36-4666-cf42-2e5a4fc1f90e"
      },
      "execution_count": null,
      "outputs": [
        {
          "output_type": "display_data",
          "data": {
            "text/html": [
              "<html>\n",
              "<head><meta charset=\"utf-8\" /></head>\n",
              "<body>\n",
              "    <div>            <script src=\"https://cdnjs.cloudflare.com/ajax/libs/mathjax/2.7.5/MathJax.js?config=TeX-AMS-MML_SVG\"></script><script type=\"text/javascript\">if (window.MathJax && window.MathJax.Hub && window.MathJax.Hub.Config) {window.MathJax.Hub.Config({SVG: {font: \"STIX-Web\"}});}</script>                <script type=\"text/javascript\">window.PlotlyConfig = {MathJaxConfig: 'local'};</script>\n",
              "        <script charset=\"utf-8\" src=\"https://cdn.plot.ly/plotly-2.24.1.min.js\"></script>                <div id=\"e792f8bd-8e4e-41e9-a6da-fb451ccbc504\" class=\"plotly-graph-div\" style=\"height:700px; width:100%;\"></div>            <script type=\"text/javascript\">                                    window.PLOTLYENV=window.PLOTLYENV || {};                                    if (document.getElementById(\"e792f8bd-8e4e-41e9-a6da-fb451ccbc504\")) {                    Plotly.newPlot(                        \"e792f8bd-8e4e-41e9-a6da-fb451ccbc504\",                        [{\"alignmentgroup\":\"True\",\"hovertemplate\":\"Number of Layoffs=%{marker.color}\\u003cbr\\u003eIndustry=%{y}\\u003cextra\\u003e\\u003c\\u002fextra\\u003e\",\"legendgroup\":\"\",\"marker\":{\"color\":[230.0,966.0,1158.0,1512.0,1817.0,2651.0,3863.0,5087.0,5272.0,6075.0,6815.0,8580.0,9057.0,9102.0,9171.0,9611.0,12086.0,13408.0,14453.0,17241.0,19029.0,20117.0,28074.0,35053.0,38206.0,40360.0,41928.0,57821.0,63172.0,66084.0],\"coloraxis\":\"coloraxis\",\"pattern\":{\"shape\":\"\"}},\"name\":\"\",\"offsetgroup\":\"\",\"orientation\":\"h\",\"showlegend\":false,\"textposition\":\"auto\",\"x\":[230.0,966.0,1158.0,1512.0,1817.0,2651.0,3863.0,5087.0,5272.0,6075.0,6815.0,8580.0,9057.0,9102.0,9171.0,9611.0,12086.0,13408.0,14453.0,17241.0,19029.0,20117.0,28074.0,35053.0,38206.0,40360.0,41928.0,57821.0,63172.0,66084.0],\"xaxis\":\"x\",\"y\":[\"AI\",\"Legal\",\"Aerospace\",\"Manufacturing\",\"Product\",\"Energy\",\"Construction\",\"Recruiting\",\"Logistics\",\"Support\",\"HR\",\"Data\",\"Media\",\"Security\",\"Fitness\",\"Infrastructure\",\"Marketing\",\"Crypto\",\"Sales\",\"Education\",\"Real Estate\",\"Travel\",\"Hardware\",\"Healthcare\",\"Finance\",\"Food\",\"Transportation\",\"Other\",\"Consumer\",\"Retail\"],\"yaxis\":\"y\",\"type\":\"bar\"}],                        {\"template\":{\"data\":{\"histogram2dcontour\":[{\"type\":\"histogram2dcontour\",\"colorbar\":{\"outlinewidth\":0,\"ticks\":\"\"},\"colorscale\":[[0.0,\"#0d0887\"],[0.1111111111111111,\"#46039f\"],[0.2222222222222222,\"#7201a8\"],[0.3333333333333333,\"#9c179e\"],[0.4444444444444444,\"#bd3786\"],[0.5555555555555556,\"#d8576b\"],[0.6666666666666666,\"#ed7953\"],[0.7777777777777778,\"#fb9f3a\"],[0.8888888888888888,\"#fdca26\"],[1.0,\"#f0f921\"]]}],\"choropleth\":[{\"type\":\"choropleth\",\"colorbar\":{\"outlinewidth\":0,\"ticks\":\"\"}}],\"histogram2d\":[{\"type\":\"histogram2d\",\"colorbar\":{\"outlinewidth\":0,\"ticks\":\"\"},\"colorscale\":[[0.0,\"#0d0887\"],[0.1111111111111111,\"#46039f\"],[0.2222222222222222,\"#7201a8\"],[0.3333333333333333,\"#9c179e\"],[0.4444444444444444,\"#bd3786\"],[0.5555555555555556,\"#d8576b\"],[0.6666666666666666,\"#ed7953\"],[0.7777777777777778,\"#fb9f3a\"],[0.8888888888888888,\"#fdca26\"],[1.0,\"#f0f921\"]]}],\"heatmap\":[{\"type\":\"heatmap\",\"colorbar\":{\"outlinewidth\":0,\"ticks\":\"\"},\"colorscale\":[[0.0,\"#0d0887\"],[0.1111111111111111,\"#46039f\"],[0.2222222222222222,\"#7201a8\"],[0.3333333333333333,\"#9c179e\"],[0.4444444444444444,\"#bd3786\"],[0.5555555555555556,\"#d8576b\"],[0.6666666666666666,\"#ed7953\"],[0.7777777777777778,\"#fb9f3a\"],[0.8888888888888888,\"#fdca26\"],[1.0,\"#f0f921\"]]}],\"heatmapgl\":[{\"type\":\"heatmapgl\",\"colorbar\":{\"outlinewidth\":0,\"ticks\":\"\"},\"colorscale\":[[0.0,\"#0d0887\"],[0.1111111111111111,\"#46039f\"],[0.2222222222222222,\"#7201a8\"],[0.3333333333333333,\"#9c179e\"],[0.4444444444444444,\"#bd3786\"],[0.5555555555555556,\"#d8576b\"],[0.6666666666666666,\"#ed7953\"],[0.7777777777777778,\"#fb9f3a\"],[0.8888888888888888,\"#fdca26\"],[1.0,\"#f0f921\"]]}],\"contourcarpet\":[{\"type\":\"contourcarpet\",\"colorbar\":{\"outlinewidth\":0,\"ticks\":\"\"}}],\"contour\":[{\"type\":\"contour\",\"colorbar\":{\"outlinewidth\":0,\"ticks\":\"\"},\"colorscale\":[[0.0,\"#0d0887\"],[0.1111111111111111,\"#46039f\"],[0.2222222222222222,\"#7201a8\"],[0.3333333333333333,\"#9c179e\"],[0.4444444444444444,\"#bd3786\"],[0.5555555555555556,\"#d8576b\"],[0.6666666666666666,\"#ed7953\"],[0.7777777777777778,\"#fb9f3a\"],[0.8888888888888888,\"#fdca26\"],[1.0,\"#f0f921\"]]}],\"surface\":[{\"type\":\"surface\",\"colorbar\":{\"outlinewidth\":0,\"ticks\":\"\"},\"colorscale\":[[0.0,\"#0d0887\"],[0.1111111111111111,\"#46039f\"],[0.2222222222222222,\"#7201a8\"],[0.3333333333333333,\"#9c179e\"],[0.4444444444444444,\"#bd3786\"],[0.5555555555555556,\"#d8576b\"],[0.6666666666666666,\"#ed7953\"],[0.7777777777777778,\"#fb9f3a\"],[0.8888888888888888,\"#fdca26\"],[1.0,\"#f0f921\"]]}],\"mesh3d\":[{\"type\":\"mesh3d\",\"colorbar\":{\"outlinewidth\":0,\"ticks\":\"\"}}],\"scatter\":[{\"fillpattern\":{\"fillmode\":\"overlay\",\"size\":10,\"solidity\":0.2},\"type\":\"scatter\"}],\"parcoords\":[{\"type\":\"parcoords\",\"line\":{\"colorbar\":{\"outlinewidth\":0,\"ticks\":\"\"}}}],\"scatterpolargl\":[{\"type\":\"scatterpolargl\",\"marker\":{\"colorbar\":{\"outlinewidth\":0,\"ticks\":\"\"}}}],\"bar\":[{\"error_x\":{\"color\":\"#2a3f5f\"},\"error_y\":{\"color\":\"#2a3f5f\"},\"marker\":{\"line\":{\"color\":\"#E5ECF6\",\"width\":0.5},\"pattern\":{\"fillmode\":\"overlay\",\"size\":10,\"solidity\":0.2}},\"type\":\"bar\"}],\"scattergeo\":[{\"type\":\"scattergeo\",\"marker\":{\"colorbar\":{\"outlinewidth\":0,\"ticks\":\"\"}}}],\"scatterpolar\":[{\"type\":\"scatterpolar\",\"marker\":{\"colorbar\":{\"outlinewidth\":0,\"ticks\":\"\"}}}],\"histogram\":[{\"marker\":{\"pattern\":{\"fillmode\":\"overlay\",\"size\":10,\"solidity\":0.2}},\"type\":\"histogram\"}],\"scattergl\":[{\"type\":\"scattergl\",\"marker\":{\"colorbar\":{\"outlinewidth\":0,\"ticks\":\"\"}}}],\"scatter3d\":[{\"type\":\"scatter3d\",\"line\":{\"colorbar\":{\"outlinewidth\":0,\"ticks\":\"\"}},\"marker\":{\"colorbar\":{\"outlinewidth\":0,\"ticks\":\"\"}}}],\"scattermapbox\":[{\"type\":\"scattermapbox\",\"marker\":{\"colorbar\":{\"outlinewidth\":0,\"ticks\":\"\"}}}],\"scatterternary\":[{\"type\":\"scatterternary\",\"marker\":{\"colorbar\":{\"outlinewidth\":0,\"ticks\":\"\"}}}],\"scattercarpet\":[{\"type\":\"scattercarpet\",\"marker\":{\"colorbar\":{\"outlinewidth\":0,\"ticks\":\"\"}}}],\"carpet\":[{\"aaxis\":{\"endlinecolor\":\"#2a3f5f\",\"gridcolor\":\"white\",\"linecolor\":\"white\",\"minorgridcolor\":\"white\",\"startlinecolor\":\"#2a3f5f\"},\"baxis\":{\"endlinecolor\":\"#2a3f5f\",\"gridcolor\":\"white\",\"linecolor\":\"white\",\"minorgridcolor\":\"white\",\"startlinecolor\":\"#2a3f5f\"},\"type\":\"carpet\"}],\"table\":[{\"cells\":{\"fill\":{\"color\":\"#EBF0F8\"},\"line\":{\"color\":\"white\"}},\"header\":{\"fill\":{\"color\":\"#C8D4E3\"},\"line\":{\"color\":\"white\"}},\"type\":\"table\"}],\"barpolar\":[{\"marker\":{\"line\":{\"color\":\"#E5ECF6\",\"width\":0.5},\"pattern\":{\"fillmode\":\"overlay\",\"size\":10,\"solidity\":0.2}},\"type\":\"barpolar\"}],\"pie\":[{\"automargin\":true,\"type\":\"pie\"}]},\"layout\":{\"autotypenumbers\":\"strict\",\"colorway\":[\"#636efa\",\"#EF553B\",\"#00cc96\",\"#ab63fa\",\"#FFA15A\",\"#19d3f3\",\"#FF6692\",\"#B6E880\",\"#FF97FF\",\"#FECB52\"],\"font\":{\"color\":\"#2a3f5f\"},\"hovermode\":\"closest\",\"hoverlabel\":{\"align\":\"left\"},\"paper_bgcolor\":\"white\",\"plot_bgcolor\":\"#E5ECF6\",\"polar\":{\"bgcolor\":\"#E5ECF6\",\"angularaxis\":{\"gridcolor\":\"white\",\"linecolor\":\"white\",\"ticks\":\"\"},\"radialaxis\":{\"gridcolor\":\"white\",\"linecolor\":\"white\",\"ticks\":\"\"}},\"ternary\":{\"bgcolor\":\"#E5ECF6\",\"aaxis\":{\"gridcolor\":\"white\",\"linecolor\":\"white\",\"ticks\":\"\"},\"baxis\":{\"gridcolor\":\"white\",\"linecolor\":\"white\",\"ticks\":\"\"},\"caxis\":{\"gridcolor\":\"white\",\"linecolor\":\"white\",\"ticks\":\"\"}},\"coloraxis\":{\"colorbar\":{\"outlinewidth\":0,\"ticks\":\"\"}},\"colorscale\":{\"sequential\":[[0.0,\"#0d0887\"],[0.1111111111111111,\"#46039f\"],[0.2222222222222222,\"#7201a8\"],[0.3333333333333333,\"#9c179e\"],[0.4444444444444444,\"#bd3786\"],[0.5555555555555556,\"#d8576b\"],[0.6666666666666666,\"#ed7953\"],[0.7777777777777778,\"#fb9f3a\"],[0.8888888888888888,\"#fdca26\"],[1.0,\"#f0f921\"]],\"sequentialminus\":[[0.0,\"#0d0887\"],[0.1111111111111111,\"#46039f\"],[0.2222222222222222,\"#7201a8\"],[0.3333333333333333,\"#9c179e\"],[0.4444444444444444,\"#bd3786\"],[0.5555555555555556,\"#d8576b\"],[0.6666666666666666,\"#ed7953\"],[0.7777777777777778,\"#fb9f3a\"],[0.8888888888888888,\"#fdca26\"],[1.0,\"#f0f921\"]],\"diverging\":[[0,\"#8e0152\"],[0.1,\"#c51b7d\"],[0.2,\"#de77ae\"],[0.3,\"#f1b6da\"],[0.4,\"#fde0ef\"],[0.5,\"#f7f7f7\"],[0.6,\"#e6f5d0\"],[0.7,\"#b8e186\"],[0.8,\"#7fbc41\"],[0.9,\"#4d9221\"],[1,\"#276419\"]]},\"xaxis\":{\"gridcolor\":\"white\",\"linecolor\":\"white\",\"ticks\":\"\",\"title\":{\"standoff\":15},\"zerolinecolor\":\"white\",\"automargin\":true,\"zerolinewidth\":2},\"yaxis\":{\"gridcolor\":\"white\",\"linecolor\":\"white\",\"ticks\":\"\",\"title\":{\"standoff\":15},\"zerolinecolor\":\"white\",\"automargin\":true,\"zerolinewidth\":2},\"scene\":{\"xaxis\":{\"backgroundcolor\":\"#E5ECF6\",\"gridcolor\":\"white\",\"linecolor\":\"white\",\"showbackground\":true,\"ticks\":\"\",\"zerolinecolor\":\"white\",\"gridwidth\":2},\"yaxis\":{\"backgroundcolor\":\"#E5ECF6\",\"gridcolor\":\"white\",\"linecolor\":\"white\",\"showbackground\":true,\"ticks\":\"\",\"zerolinecolor\":\"white\",\"gridwidth\":2},\"zaxis\":{\"backgroundcolor\":\"#E5ECF6\",\"gridcolor\":\"white\",\"linecolor\":\"white\",\"showbackground\":true,\"ticks\":\"\",\"zerolinecolor\":\"white\",\"gridwidth\":2}},\"shapedefaults\":{\"line\":{\"color\":\"#2a3f5f\"}},\"annotationdefaults\":{\"arrowcolor\":\"#2a3f5f\",\"arrowhead\":0,\"arrowwidth\":1},\"geo\":{\"bgcolor\":\"white\",\"landcolor\":\"#E5ECF6\",\"subunitcolor\":\"white\",\"showland\":true,\"showlakes\":true,\"lakecolor\":\"white\"},\"title\":{\"x\":0.05},\"mapbox\":{\"style\":\"light\"}}},\"xaxis\":{\"anchor\":\"y\",\"domain\":[0.0,1.0],\"title\":{\"text\":\"Number of Layoffs\"}},\"yaxis\":{\"anchor\":\"x\",\"domain\":[0.0,1.0],\"title\":{\"text\":\"Industry\"}},\"coloraxis\":{\"colorbar\":{\"title\":{\"text\":\"Number of Layoffs\"}},\"colorscale\":[[0.0,\"rgb(211, 242, 163)\"],[0.16666666666666666,\"rgb(151, 225, 150)\"],[0.3333333333333333,\"rgb(108, 192, 139)\"],[0.5,\"rgb(76, 155, 130)\"],[0.6666666666666666,\"rgb(33, 122, 121)\"],[0.8333333333333334,\"rgb(16, 89, 101)\"],[1.0,\"rgb(7, 64, 80)\"]]},\"legend\":{\"tracegroupgap\":0},\"title\":{\"text\":\"Distribution of Layoffs Across Industries\"},\"barmode\":\"relative\",\"height\":700},                        {\"responsive\": true}                    ).then(function(){\n",
              "                            \n",
              "var gd = document.getElementById('e792f8bd-8e4e-41e9-a6da-fb451ccbc504');\n",
              "var x = new MutationObserver(function (mutations, observer) {{\n",
              "        var display = window.getComputedStyle(gd).display;\n",
              "        if (!display || display === 'none') {{\n",
              "            console.log([gd, 'removed!']);\n",
              "            Plotly.purge(gd);\n",
              "            observer.disconnect();\n",
              "        }}\n",
              "}});\n",
              "\n",
              "// Listen for the removal of the full notebook cells\n",
              "var notebookContainer = gd.closest('#notebook-container');\n",
              "if (notebookContainer) {{\n",
              "    x.observe(notebookContainer, {childList: true});\n",
              "}}\n",
              "\n",
              "// Listen for the clearing of the current output cell\n",
              "var outputEl = gd.closest('.output');\n",
              "if (outputEl) {{\n",
              "    x.observe(outputEl, {childList: true});\n",
              "}}\n",
              "\n",
              "                        })                };                            </script>        </div>\n",
              "</body>\n",
              "</html>"
            ]
          },
          "metadata": {}
        }
      ]
    },
    {
      "cell_type": "markdown",
      "source": [
        "Percentage distribution across industries"
      ],
      "metadata": {
        "id": "9GFiv6zr1Mz1"
      }
    },
    {
      "cell_type": "code",
      "source": [
        "fig_industries_pie = px.pie(laid_off_byIndustry.reset_index(),\n",
        "              names = 'Industry',\n",
        "              values = 'Laid_Off_Count',\n",
        "              title = 'Percentage of Layoffs',\n",
        "              color_discrete_sequence=px.colors.sequential.Emrld)\n",
        "fig_industries_pie.show()"
      ],
      "metadata": {
        "colab": {
          "base_uri": "https://localhost:8080/",
          "height": 542
        },
        "id": "hfDJb5b-dbJo",
        "outputId": "18d12c4e-6098-4bb6-f777-4a7aec9e8993"
      },
      "execution_count": null,
      "outputs": [
        {
          "output_type": "display_data",
          "data": {
            "text/html": [
              "<html>\n",
              "<head><meta charset=\"utf-8\" /></head>\n",
              "<body>\n",
              "    <div>            <script src=\"https://cdnjs.cloudflare.com/ajax/libs/mathjax/2.7.5/MathJax.js?config=TeX-AMS-MML_SVG\"></script><script type=\"text/javascript\">if (window.MathJax && window.MathJax.Hub && window.MathJax.Hub.Config) {window.MathJax.Hub.Config({SVG: {font: \"STIX-Web\"}});}</script>                <script type=\"text/javascript\">window.PlotlyConfig = {MathJaxConfig: 'local'};</script>\n",
              "        <script charset=\"utf-8\" src=\"https://cdn.plot.ly/plotly-2.24.1.min.js\"></script>                <div id=\"65957886-8830-4c84-9079-31eaeb3c2538\" class=\"plotly-graph-div\" style=\"height:525px; width:100%;\"></div>            <script type=\"text/javascript\">                                    window.PLOTLYENV=window.PLOTLYENV || {};                                    if (document.getElementById(\"65957886-8830-4c84-9079-31eaeb3c2538\")) {                    Plotly.newPlot(                        \"65957886-8830-4c84-9079-31eaeb3c2538\",                        [{\"domain\":{\"x\":[0.0,1.0],\"y\":[0.0,1.0]},\"hovertemplate\":\"Industry=%{label}\\u003cbr\\u003eLaid_Off_Count=%{value}\\u003cextra\\u003e\\u003c\\u002fextra\\u003e\",\"labels\":[\"AI\",\"Legal\",\"Aerospace\",\"Manufacturing\",\"Product\",\"Energy\",\"Construction\",\"Recruiting\",\"Logistics\",\"Support\",\"HR\",\"Data\",\"Media\",\"Security\",\"Fitness\",\"Infrastructure\",\"Marketing\",\"Crypto\",\"Sales\",\"Education\",\"Real Estate\",\"Travel\",\"Hardware\",\"Healthcare\",\"Finance\",\"Food\",\"Transportation\",\"Other\",\"Consumer\",\"Retail\"],\"legendgroup\":\"\",\"name\":\"\",\"showlegend\":true,\"values\":[230.0,966.0,1158.0,1512.0,1817.0,2651.0,3863.0,5087.0,5272.0,6075.0,6815.0,8580.0,9057.0,9102.0,9171.0,9611.0,12086.0,13408.0,14453.0,17241.0,19029.0,20117.0,28074.0,35053.0,38206.0,40360.0,41928.0,57821.0,63172.0,66084.0],\"type\":\"pie\"}],                        {\"template\":{\"data\":{\"histogram2dcontour\":[{\"type\":\"histogram2dcontour\",\"colorbar\":{\"outlinewidth\":0,\"ticks\":\"\"},\"colorscale\":[[0.0,\"#0d0887\"],[0.1111111111111111,\"#46039f\"],[0.2222222222222222,\"#7201a8\"],[0.3333333333333333,\"#9c179e\"],[0.4444444444444444,\"#bd3786\"],[0.5555555555555556,\"#d8576b\"],[0.6666666666666666,\"#ed7953\"],[0.7777777777777778,\"#fb9f3a\"],[0.8888888888888888,\"#fdca26\"],[1.0,\"#f0f921\"]]}],\"choropleth\":[{\"type\":\"choropleth\",\"colorbar\":{\"outlinewidth\":0,\"ticks\":\"\"}}],\"histogram2d\":[{\"type\":\"histogram2d\",\"colorbar\":{\"outlinewidth\":0,\"ticks\":\"\"},\"colorscale\":[[0.0,\"#0d0887\"],[0.1111111111111111,\"#46039f\"],[0.2222222222222222,\"#7201a8\"],[0.3333333333333333,\"#9c179e\"],[0.4444444444444444,\"#bd3786\"],[0.5555555555555556,\"#d8576b\"],[0.6666666666666666,\"#ed7953\"],[0.7777777777777778,\"#fb9f3a\"],[0.8888888888888888,\"#fdca26\"],[1.0,\"#f0f921\"]]}],\"heatmap\":[{\"type\":\"heatmap\",\"colorbar\":{\"outlinewidth\":0,\"ticks\":\"\"},\"colorscale\":[[0.0,\"#0d0887\"],[0.1111111111111111,\"#46039f\"],[0.2222222222222222,\"#7201a8\"],[0.3333333333333333,\"#9c179e\"],[0.4444444444444444,\"#bd3786\"],[0.5555555555555556,\"#d8576b\"],[0.6666666666666666,\"#ed7953\"],[0.7777777777777778,\"#fb9f3a\"],[0.8888888888888888,\"#fdca26\"],[1.0,\"#f0f921\"]]}],\"heatmapgl\":[{\"type\":\"heatmapgl\",\"colorbar\":{\"outlinewidth\":0,\"ticks\":\"\"},\"colorscale\":[[0.0,\"#0d0887\"],[0.1111111111111111,\"#46039f\"],[0.2222222222222222,\"#7201a8\"],[0.3333333333333333,\"#9c179e\"],[0.4444444444444444,\"#bd3786\"],[0.5555555555555556,\"#d8576b\"],[0.6666666666666666,\"#ed7953\"],[0.7777777777777778,\"#fb9f3a\"],[0.8888888888888888,\"#fdca26\"],[1.0,\"#f0f921\"]]}],\"contourcarpet\":[{\"type\":\"contourcarpet\",\"colorbar\":{\"outlinewidth\":0,\"ticks\":\"\"}}],\"contour\":[{\"type\":\"contour\",\"colorbar\":{\"outlinewidth\":0,\"ticks\":\"\"},\"colorscale\":[[0.0,\"#0d0887\"],[0.1111111111111111,\"#46039f\"],[0.2222222222222222,\"#7201a8\"],[0.3333333333333333,\"#9c179e\"],[0.4444444444444444,\"#bd3786\"],[0.5555555555555556,\"#d8576b\"],[0.6666666666666666,\"#ed7953\"],[0.7777777777777778,\"#fb9f3a\"],[0.8888888888888888,\"#fdca26\"],[1.0,\"#f0f921\"]]}],\"surface\":[{\"type\":\"surface\",\"colorbar\":{\"outlinewidth\":0,\"ticks\":\"\"},\"colorscale\":[[0.0,\"#0d0887\"],[0.1111111111111111,\"#46039f\"],[0.2222222222222222,\"#7201a8\"],[0.3333333333333333,\"#9c179e\"],[0.4444444444444444,\"#bd3786\"],[0.5555555555555556,\"#d8576b\"],[0.6666666666666666,\"#ed7953\"],[0.7777777777777778,\"#fb9f3a\"],[0.8888888888888888,\"#fdca26\"],[1.0,\"#f0f921\"]]}],\"mesh3d\":[{\"type\":\"mesh3d\",\"colorbar\":{\"outlinewidth\":0,\"ticks\":\"\"}}],\"scatter\":[{\"fillpattern\":{\"fillmode\":\"overlay\",\"size\":10,\"solidity\":0.2},\"type\":\"scatter\"}],\"parcoords\":[{\"type\":\"parcoords\",\"line\":{\"colorbar\":{\"outlinewidth\":0,\"ticks\":\"\"}}}],\"scatterpolargl\":[{\"type\":\"scatterpolargl\",\"marker\":{\"colorbar\":{\"outlinewidth\":0,\"ticks\":\"\"}}}],\"bar\":[{\"error_x\":{\"color\":\"#2a3f5f\"},\"error_y\":{\"color\":\"#2a3f5f\"},\"marker\":{\"line\":{\"color\":\"#E5ECF6\",\"width\":0.5},\"pattern\":{\"fillmode\":\"overlay\",\"size\":10,\"solidity\":0.2}},\"type\":\"bar\"}],\"scattergeo\":[{\"type\":\"scattergeo\",\"marker\":{\"colorbar\":{\"outlinewidth\":0,\"ticks\":\"\"}}}],\"scatterpolar\":[{\"type\":\"scatterpolar\",\"marker\":{\"colorbar\":{\"outlinewidth\":0,\"ticks\":\"\"}}}],\"histogram\":[{\"marker\":{\"pattern\":{\"fillmode\":\"overlay\",\"size\":10,\"solidity\":0.2}},\"type\":\"histogram\"}],\"scattergl\":[{\"type\":\"scattergl\",\"marker\":{\"colorbar\":{\"outlinewidth\":0,\"ticks\":\"\"}}}],\"scatter3d\":[{\"type\":\"scatter3d\",\"line\":{\"colorbar\":{\"outlinewidth\":0,\"ticks\":\"\"}},\"marker\":{\"colorbar\":{\"outlinewidth\":0,\"ticks\":\"\"}}}],\"scattermapbox\":[{\"type\":\"scattermapbox\",\"marker\":{\"colorbar\":{\"outlinewidth\":0,\"ticks\":\"\"}}}],\"scatterternary\":[{\"type\":\"scatterternary\",\"marker\":{\"colorbar\":{\"outlinewidth\":0,\"ticks\":\"\"}}}],\"scattercarpet\":[{\"type\":\"scattercarpet\",\"marker\":{\"colorbar\":{\"outlinewidth\":0,\"ticks\":\"\"}}}],\"carpet\":[{\"aaxis\":{\"endlinecolor\":\"#2a3f5f\",\"gridcolor\":\"white\",\"linecolor\":\"white\",\"minorgridcolor\":\"white\",\"startlinecolor\":\"#2a3f5f\"},\"baxis\":{\"endlinecolor\":\"#2a3f5f\",\"gridcolor\":\"white\",\"linecolor\":\"white\",\"minorgridcolor\":\"white\",\"startlinecolor\":\"#2a3f5f\"},\"type\":\"carpet\"}],\"table\":[{\"cells\":{\"fill\":{\"color\":\"#EBF0F8\"},\"line\":{\"color\":\"white\"}},\"header\":{\"fill\":{\"color\":\"#C8D4E3\"},\"line\":{\"color\":\"white\"}},\"type\":\"table\"}],\"barpolar\":[{\"marker\":{\"line\":{\"color\":\"#E5ECF6\",\"width\":0.5},\"pattern\":{\"fillmode\":\"overlay\",\"size\":10,\"solidity\":0.2}},\"type\":\"barpolar\"}],\"pie\":[{\"automargin\":true,\"type\":\"pie\"}]},\"layout\":{\"autotypenumbers\":\"strict\",\"colorway\":[\"#636efa\",\"#EF553B\",\"#00cc96\",\"#ab63fa\",\"#FFA15A\",\"#19d3f3\",\"#FF6692\",\"#B6E880\",\"#FF97FF\",\"#FECB52\"],\"font\":{\"color\":\"#2a3f5f\"},\"hovermode\":\"closest\",\"hoverlabel\":{\"align\":\"left\"},\"paper_bgcolor\":\"white\",\"plot_bgcolor\":\"#E5ECF6\",\"polar\":{\"bgcolor\":\"#E5ECF6\",\"angularaxis\":{\"gridcolor\":\"white\",\"linecolor\":\"white\",\"ticks\":\"\"},\"radialaxis\":{\"gridcolor\":\"white\",\"linecolor\":\"white\",\"ticks\":\"\"}},\"ternary\":{\"bgcolor\":\"#E5ECF6\",\"aaxis\":{\"gridcolor\":\"white\",\"linecolor\":\"white\",\"ticks\":\"\"},\"baxis\":{\"gridcolor\":\"white\",\"linecolor\":\"white\",\"ticks\":\"\"},\"caxis\":{\"gridcolor\":\"white\",\"linecolor\":\"white\",\"ticks\":\"\"}},\"coloraxis\":{\"colorbar\":{\"outlinewidth\":0,\"ticks\":\"\"}},\"colorscale\":{\"sequential\":[[0.0,\"#0d0887\"],[0.1111111111111111,\"#46039f\"],[0.2222222222222222,\"#7201a8\"],[0.3333333333333333,\"#9c179e\"],[0.4444444444444444,\"#bd3786\"],[0.5555555555555556,\"#d8576b\"],[0.6666666666666666,\"#ed7953\"],[0.7777777777777778,\"#fb9f3a\"],[0.8888888888888888,\"#fdca26\"],[1.0,\"#f0f921\"]],\"sequentialminus\":[[0.0,\"#0d0887\"],[0.1111111111111111,\"#46039f\"],[0.2222222222222222,\"#7201a8\"],[0.3333333333333333,\"#9c179e\"],[0.4444444444444444,\"#bd3786\"],[0.5555555555555556,\"#d8576b\"],[0.6666666666666666,\"#ed7953\"],[0.7777777777777778,\"#fb9f3a\"],[0.8888888888888888,\"#fdca26\"],[1.0,\"#f0f921\"]],\"diverging\":[[0,\"#8e0152\"],[0.1,\"#c51b7d\"],[0.2,\"#de77ae\"],[0.3,\"#f1b6da\"],[0.4,\"#fde0ef\"],[0.5,\"#f7f7f7\"],[0.6,\"#e6f5d0\"],[0.7,\"#b8e186\"],[0.8,\"#7fbc41\"],[0.9,\"#4d9221\"],[1,\"#276419\"]]},\"xaxis\":{\"gridcolor\":\"white\",\"linecolor\":\"white\",\"ticks\":\"\",\"title\":{\"standoff\":15},\"zerolinecolor\":\"white\",\"automargin\":true,\"zerolinewidth\":2},\"yaxis\":{\"gridcolor\":\"white\",\"linecolor\":\"white\",\"ticks\":\"\",\"title\":{\"standoff\":15},\"zerolinecolor\":\"white\",\"automargin\":true,\"zerolinewidth\":2},\"scene\":{\"xaxis\":{\"backgroundcolor\":\"#E5ECF6\",\"gridcolor\":\"white\",\"linecolor\":\"white\",\"showbackground\":true,\"ticks\":\"\",\"zerolinecolor\":\"white\",\"gridwidth\":2},\"yaxis\":{\"backgroundcolor\":\"#E5ECF6\",\"gridcolor\":\"white\",\"linecolor\":\"white\",\"showbackground\":true,\"ticks\":\"\",\"zerolinecolor\":\"white\",\"gridwidth\":2},\"zaxis\":{\"backgroundcolor\":\"#E5ECF6\",\"gridcolor\":\"white\",\"linecolor\":\"white\",\"showbackground\":true,\"ticks\":\"\",\"zerolinecolor\":\"white\",\"gridwidth\":2}},\"shapedefaults\":{\"line\":{\"color\":\"#2a3f5f\"}},\"annotationdefaults\":{\"arrowcolor\":\"#2a3f5f\",\"arrowhead\":0,\"arrowwidth\":1},\"geo\":{\"bgcolor\":\"white\",\"landcolor\":\"#E5ECF6\",\"subunitcolor\":\"white\",\"showland\":true,\"showlakes\":true,\"lakecolor\":\"white\"},\"title\":{\"x\":0.05},\"mapbox\":{\"style\":\"light\"}}},\"legend\":{\"tracegroupgap\":0},\"title\":{\"text\":\"Percentage of Layoffs\"},\"piecolorway\":[\"rgb(211, 242, 163)\",\"rgb(151, 225, 150)\",\"rgb(108, 192, 139)\",\"rgb(76, 155, 130)\",\"rgb(33, 122, 121)\",\"rgb(16, 89, 101)\",\"rgb(7, 64, 80)\"]},                        {\"responsive\": true}                    ).then(function(){\n",
              "                            \n",
              "var gd = document.getElementById('65957886-8830-4c84-9079-31eaeb3c2538');\n",
              "var x = new MutationObserver(function (mutations, observer) {{\n",
              "        var display = window.getComputedStyle(gd).display;\n",
              "        if (!display || display === 'none') {{\n",
              "            console.log([gd, 'removed!']);\n",
              "            Plotly.purge(gd);\n",
              "            observer.disconnect();\n",
              "        }}\n",
              "}});\n",
              "\n",
              "// Listen for the removal of the full notebook cells\n",
              "var notebookContainer = gd.closest('#notebook-container');\n",
              "if (notebookContainer) {{\n",
              "    x.observe(notebookContainer, {childList: true});\n",
              "}}\n",
              "\n",
              "// Listen for the clearing of the current output cell\n",
              "var outputEl = gd.closest('.output');\n",
              "if (outputEl) {{\n",
              "    x.observe(outputEl, {childList: true});\n",
              "}}\n",
              "\n",
              "                        })                };                            </script>        </div>\n",
              "</body>\n",
              "</html>"
            ]
          },
          "metadata": {}
        }
      ]
    },
    {
      "cell_type": "markdown",
      "source": [
        "**Maximum number of layoffs happened in Retail industry followed by Consumer industry.**"
      ],
      "metadata": {
        "id": "6YrWQUYCDz8m"
      }
    },
    {
      "cell_type": "markdown",
      "source": [
        "# Analysis by company stages\n"
      ],
      "metadata": {
        "id": "-z0eumbdkk-s"
      }
    },
    {
      "cell_type": "code",
      "source": [
        "# Stage VS Company Layoffs\n",
        "stage_layoffs_count = cleaned_layoff_df.copy()\n",
        "stage_layoffs_count.Stage.unique()"
      ],
      "metadata": {
        "colab": {
          "base_uri": "https://localhost:8080/"
        },
        "id": "nQF0--rX3QGv",
        "outputId": "003d4caa-7f70-4f3d-f2e6-69260df6d394"
      },
      "execution_count": null,
      "outputs": [
        {
          "output_type": "execute_result",
          "data": {
            "text/plain": [
              "array(['Post-IPO', 'Unknown', 'Series B', 'Series E', 'Series D',\n",
              "       'Series F', 'Acquired', 'Seed', 'Series C', 'Series H',\n",
              "       'Subsidiary', 'Series A', 'Series G', 'Private Equity', 'Series J',\n",
              "       'Series I'], dtype=object)"
            ]
          },
          "metadata": {},
          "execution_count": 53
        }
      ]
    },
    {
      "cell_type": "code",
      "source": [
        "stage_layoffs_count = stage_layoffs_count[stage_layoffs_count.Stage != 'Unknown']\n",
        "\n",
        "# Group by stage and sum the layoffs value\n",
        "stage_layoffs_count = stage_layoffs_count.groupby('Stage')['Laid_Off_Count'].sum().sort_values(ascending=False)\n",
        "\n",
        "# Create a bar chart representing layoffs distribution by stage\n",
        "fig = px.bar(stage_layoffs_count.reset_index(),\n",
        "              x='Stage',\n",
        "              y='Laid_Off_Count',\n",
        "              title='Layoffs Distribution by Stage',\n",
        "              labels={'Stage': 'Company Stage', 'Laid_Off_Count': 'Number of Layoffs'},\n",
        "              color='Laid_Off_Count',\n",
        "              color_continuous_scale=px.colors.sequential.RdBu)\n",
        "\n",
        "fig.show()"
      ],
      "metadata": {
        "id": "mkUWI-3D1r1Z",
        "colab": {
          "base_uri": "https://localhost:8080/",
          "height": 542
        },
        "outputId": "f3dc24d6-3beb-4aba-ad62-057691bce96a"
      },
      "execution_count": null,
      "outputs": [
        {
          "output_type": "display_data",
          "data": {
            "text/html": [
              "<html>\n",
              "<head><meta charset=\"utf-8\" /></head>\n",
              "<body>\n",
              "    <div>            <script src=\"https://cdnjs.cloudflare.com/ajax/libs/mathjax/2.7.5/MathJax.js?config=TeX-AMS-MML_SVG\"></script><script type=\"text/javascript\">if (window.MathJax && window.MathJax.Hub && window.MathJax.Hub.Config) {window.MathJax.Hub.Config({SVG: {font: \"STIX-Web\"}});}</script>                <script type=\"text/javascript\">window.PlotlyConfig = {MathJaxConfig: 'local'};</script>\n",
              "        <script charset=\"utf-8\" src=\"https://cdn.plot.ly/plotly-2.24.1.min.js\"></script>                <div id=\"76e49f5f-b08c-4c99-a33e-453e3b3f383a\" class=\"plotly-graph-div\" style=\"height:525px; width:100%;\"></div>            <script type=\"text/javascript\">                                    window.PLOTLYENV=window.PLOTLYENV || {};                                    if (document.getElementById(\"76e49f5f-b08c-4c99-a33e-453e3b3f383a\")) {                    Plotly.newPlot(                        \"76e49f5f-b08c-4c99-a33e-453e3b3f383a\",                        [{\"alignmentgroup\":\"True\",\"hovertemplate\":\"Company Stage=%{x}\\u003cbr\\u003eNumber of Layoffs=%{marker.color}\\u003cextra\\u003e\\u003c\\u002fextra\\u003e\",\"legendgroup\":\"\",\"marker\":{\"color\":[292882.0,53224.0,28372.0,23763.0,23042.0,18118.0,12738.0,10459.0,7931.0,7909.0,4197.0,3570.0,2855.0,2814.0,2159.0],\"coloraxis\":\"coloraxis\",\"pattern\":{\"shape\":\"\"}},\"name\":\"\",\"offsetgroup\":\"\",\"orientation\":\"v\",\"showlegend\":false,\"textposition\":\"auto\",\"x\":[\"Post-IPO\",\"Acquired\",\"Series B\",\"Series C\",\"Series D\",\"Series E\",\"Series F\",\"Private Equity\",\"Series H\",\"Series A\",\"Series G\",\"Series J\",\"Series I\",\"Subsidiary\",\"Seed\"],\"xaxis\":\"x\",\"y\":[292882.0,53224.0,28372.0,23763.0,23042.0,18118.0,12738.0,10459.0,7931.0,7909.0,4197.0,3570.0,2855.0,2814.0,2159.0],\"yaxis\":\"y\",\"type\":\"bar\"}],                        {\"template\":{\"data\":{\"histogram2dcontour\":[{\"type\":\"histogram2dcontour\",\"colorbar\":{\"outlinewidth\":0,\"ticks\":\"\"},\"colorscale\":[[0.0,\"#0d0887\"],[0.1111111111111111,\"#46039f\"],[0.2222222222222222,\"#7201a8\"],[0.3333333333333333,\"#9c179e\"],[0.4444444444444444,\"#bd3786\"],[0.5555555555555556,\"#d8576b\"],[0.6666666666666666,\"#ed7953\"],[0.7777777777777778,\"#fb9f3a\"],[0.8888888888888888,\"#fdca26\"],[1.0,\"#f0f921\"]]}],\"choropleth\":[{\"type\":\"choropleth\",\"colorbar\":{\"outlinewidth\":0,\"ticks\":\"\"}}],\"histogram2d\":[{\"type\":\"histogram2d\",\"colorbar\":{\"outlinewidth\":0,\"ticks\":\"\"},\"colorscale\":[[0.0,\"#0d0887\"],[0.1111111111111111,\"#46039f\"],[0.2222222222222222,\"#7201a8\"],[0.3333333333333333,\"#9c179e\"],[0.4444444444444444,\"#bd3786\"],[0.5555555555555556,\"#d8576b\"],[0.6666666666666666,\"#ed7953\"],[0.7777777777777778,\"#fb9f3a\"],[0.8888888888888888,\"#fdca26\"],[1.0,\"#f0f921\"]]}],\"heatmap\":[{\"type\":\"heatmap\",\"colorbar\":{\"outlinewidth\":0,\"ticks\":\"\"},\"colorscale\":[[0.0,\"#0d0887\"],[0.1111111111111111,\"#46039f\"],[0.2222222222222222,\"#7201a8\"],[0.3333333333333333,\"#9c179e\"],[0.4444444444444444,\"#bd3786\"],[0.5555555555555556,\"#d8576b\"],[0.6666666666666666,\"#ed7953\"],[0.7777777777777778,\"#fb9f3a\"],[0.8888888888888888,\"#fdca26\"],[1.0,\"#f0f921\"]]}],\"heatmapgl\":[{\"type\":\"heatmapgl\",\"colorbar\":{\"outlinewidth\":0,\"ticks\":\"\"},\"colorscale\":[[0.0,\"#0d0887\"],[0.1111111111111111,\"#46039f\"],[0.2222222222222222,\"#7201a8\"],[0.3333333333333333,\"#9c179e\"],[0.4444444444444444,\"#bd3786\"],[0.5555555555555556,\"#d8576b\"],[0.6666666666666666,\"#ed7953\"],[0.7777777777777778,\"#fb9f3a\"],[0.8888888888888888,\"#fdca26\"],[1.0,\"#f0f921\"]]}],\"contourcarpet\":[{\"type\":\"contourcarpet\",\"colorbar\":{\"outlinewidth\":0,\"ticks\":\"\"}}],\"contour\":[{\"type\":\"contour\",\"colorbar\":{\"outlinewidth\":0,\"ticks\":\"\"},\"colorscale\":[[0.0,\"#0d0887\"],[0.1111111111111111,\"#46039f\"],[0.2222222222222222,\"#7201a8\"],[0.3333333333333333,\"#9c179e\"],[0.4444444444444444,\"#bd3786\"],[0.5555555555555556,\"#d8576b\"],[0.6666666666666666,\"#ed7953\"],[0.7777777777777778,\"#fb9f3a\"],[0.8888888888888888,\"#fdca26\"],[1.0,\"#f0f921\"]]}],\"surface\":[{\"type\":\"surface\",\"colorbar\":{\"outlinewidth\":0,\"ticks\":\"\"},\"colorscale\":[[0.0,\"#0d0887\"],[0.1111111111111111,\"#46039f\"],[0.2222222222222222,\"#7201a8\"],[0.3333333333333333,\"#9c179e\"],[0.4444444444444444,\"#bd3786\"],[0.5555555555555556,\"#d8576b\"],[0.6666666666666666,\"#ed7953\"],[0.7777777777777778,\"#fb9f3a\"],[0.8888888888888888,\"#fdca26\"],[1.0,\"#f0f921\"]]}],\"mesh3d\":[{\"type\":\"mesh3d\",\"colorbar\":{\"outlinewidth\":0,\"ticks\":\"\"}}],\"scatter\":[{\"fillpattern\":{\"fillmode\":\"overlay\",\"size\":10,\"solidity\":0.2},\"type\":\"scatter\"}],\"parcoords\":[{\"type\":\"parcoords\",\"line\":{\"colorbar\":{\"outlinewidth\":0,\"ticks\":\"\"}}}],\"scatterpolargl\":[{\"type\":\"scatterpolargl\",\"marker\":{\"colorbar\":{\"outlinewidth\":0,\"ticks\":\"\"}}}],\"bar\":[{\"error_x\":{\"color\":\"#2a3f5f\"},\"error_y\":{\"color\":\"#2a3f5f\"},\"marker\":{\"line\":{\"color\":\"#E5ECF6\",\"width\":0.5},\"pattern\":{\"fillmode\":\"overlay\",\"size\":10,\"solidity\":0.2}},\"type\":\"bar\"}],\"scattergeo\":[{\"type\":\"scattergeo\",\"marker\":{\"colorbar\":{\"outlinewidth\":0,\"ticks\":\"\"}}}],\"scatterpolar\":[{\"type\":\"scatterpolar\",\"marker\":{\"colorbar\":{\"outlinewidth\":0,\"ticks\":\"\"}}}],\"histogram\":[{\"marker\":{\"pattern\":{\"fillmode\":\"overlay\",\"size\":10,\"solidity\":0.2}},\"type\":\"histogram\"}],\"scattergl\":[{\"type\":\"scattergl\",\"marker\":{\"colorbar\":{\"outlinewidth\":0,\"ticks\":\"\"}}}],\"scatter3d\":[{\"type\":\"scatter3d\",\"line\":{\"colorbar\":{\"outlinewidth\":0,\"ticks\":\"\"}},\"marker\":{\"colorbar\":{\"outlinewidth\":0,\"ticks\":\"\"}}}],\"scattermapbox\":[{\"type\":\"scattermapbox\",\"marker\":{\"colorbar\":{\"outlinewidth\":0,\"ticks\":\"\"}}}],\"scatterternary\":[{\"type\":\"scatterternary\",\"marker\":{\"colorbar\":{\"outlinewidth\":0,\"ticks\":\"\"}}}],\"scattercarpet\":[{\"type\":\"scattercarpet\",\"marker\":{\"colorbar\":{\"outlinewidth\":0,\"ticks\":\"\"}}}],\"carpet\":[{\"aaxis\":{\"endlinecolor\":\"#2a3f5f\",\"gridcolor\":\"white\",\"linecolor\":\"white\",\"minorgridcolor\":\"white\",\"startlinecolor\":\"#2a3f5f\"},\"baxis\":{\"endlinecolor\":\"#2a3f5f\",\"gridcolor\":\"white\",\"linecolor\":\"white\",\"minorgridcolor\":\"white\",\"startlinecolor\":\"#2a3f5f\"},\"type\":\"carpet\"}],\"table\":[{\"cells\":{\"fill\":{\"color\":\"#EBF0F8\"},\"line\":{\"color\":\"white\"}},\"header\":{\"fill\":{\"color\":\"#C8D4E3\"},\"line\":{\"color\":\"white\"}},\"type\":\"table\"}],\"barpolar\":[{\"marker\":{\"line\":{\"color\":\"#E5ECF6\",\"width\":0.5},\"pattern\":{\"fillmode\":\"overlay\",\"size\":10,\"solidity\":0.2}},\"type\":\"barpolar\"}],\"pie\":[{\"automargin\":true,\"type\":\"pie\"}]},\"layout\":{\"autotypenumbers\":\"strict\",\"colorway\":[\"#636efa\",\"#EF553B\",\"#00cc96\",\"#ab63fa\",\"#FFA15A\",\"#19d3f3\",\"#FF6692\",\"#B6E880\",\"#FF97FF\",\"#FECB52\"],\"font\":{\"color\":\"#2a3f5f\"},\"hovermode\":\"closest\",\"hoverlabel\":{\"align\":\"left\"},\"paper_bgcolor\":\"white\",\"plot_bgcolor\":\"#E5ECF6\",\"polar\":{\"bgcolor\":\"#E5ECF6\",\"angularaxis\":{\"gridcolor\":\"white\",\"linecolor\":\"white\",\"ticks\":\"\"},\"radialaxis\":{\"gridcolor\":\"white\",\"linecolor\":\"white\",\"ticks\":\"\"}},\"ternary\":{\"bgcolor\":\"#E5ECF6\",\"aaxis\":{\"gridcolor\":\"white\",\"linecolor\":\"white\",\"ticks\":\"\"},\"baxis\":{\"gridcolor\":\"white\",\"linecolor\":\"white\",\"ticks\":\"\"},\"caxis\":{\"gridcolor\":\"white\",\"linecolor\":\"white\",\"ticks\":\"\"}},\"coloraxis\":{\"colorbar\":{\"outlinewidth\":0,\"ticks\":\"\"}},\"colorscale\":{\"sequential\":[[0.0,\"#0d0887\"],[0.1111111111111111,\"#46039f\"],[0.2222222222222222,\"#7201a8\"],[0.3333333333333333,\"#9c179e\"],[0.4444444444444444,\"#bd3786\"],[0.5555555555555556,\"#d8576b\"],[0.6666666666666666,\"#ed7953\"],[0.7777777777777778,\"#fb9f3a\"],[0.8888888888888888,\"#fdca26\"],[1.0,\"#f0f921\"]],\"sequentialminus\":[[0.0,\"#0d0887\"],[0.1111111111111111,\"#46039f\"],[0.2222222222222222,\"#7201a8\"],[0.3333333333333333,\"#9c179e\"],[0.4444444444444444,\"#bd3786\"],[0.5555555555555556,\"#d8576b\"],[0.6666666666666666,\"#ed7953\"],[0.7777777777777778,\"#fb9f3a\"],[0.8888888888888888,\"#fdca26\"],[1.0,\"#f0f921\"]],\"diverging\":[[0,\"#8e0152\"],[0.1,\"#c51b7d\"],[0.2,\"#de77ae\"],[0.3,\"#f1b6da\"],[0.4,\"#fde0ef\"],[0.5,\"#f7f7f7\"],[0.6,\"#e6f5d0\"],[0.7,\"#b8e186\"],[0.8,\"#7fbc41\"],[0.9,\"#4d9221\"],[1,\"#276419\"]]},\"xaxis\":{\"gridcolor\":\"white\",\"linecolor\":\"white\",\"ticks\":\"\",\"title\":{\"standoff\":15},\"zerolinecolor\":\"white\",\"automargin\":true,\"zerolinewidth\":2},\"yaxis\":{\"gridcolor\":\"white\",\"linecolor\":\"white\",\"ticks\":\"\",\"title\":{\"standoff\":15},\"zerolinecolor\":\"white\",\"automargin\":true,\"zerolinewidth\":2},\"scene\":{\"xaxis\":{\"backgroundcolor\":\"#E5ECF6\",\"gridcolor\":\"white\",\"linecolor\":\"white\",\"showbackground\":true,\"ticks\":\"\",\"zerolinecolor\":\"white\",\"gridwidth\":2},\"yaxis\":{\"backgroundcolor\":\"#E5ECF6\",\"gridcolor\":\"white\",\"linecolor\":\"white\",\"showbackground\":true,\"ticks\":\"\",\"zerolinecolor\":\"white\",\"gridwidth\":2},\"zaxis\":{\"backgroundcolor\":\"#E5ECF6\",\"gridcolor\":\"white\",\"linecolor\":\"white\",\"showbackground\":true,\"ticks\":\"\",\"zerolinecolor\":\"white\",\"gridwidth\":2}},\"shapedefaults\":{\"line\":{\"color\":\"#2a3f5f\"}},\"annotationdefaults\":{\"arrowcolor\":\"#2a3f5f\",\"arrowhead\":0,\"arrowwidth\":1},\"geo\":{\"bgcolor\":\"white\",\"landcolor\":\"#E5ECF6\",\"subunitcolor\":\"white\",\"showland\":true,\"showlakes\":true,\"lakecolor\":\"white\"},\"title\":{\"x\":0.05},\"mapbox\":{\"style\":\"light\"}}},\"xaxis\":{\"anchor\":\"y\",\"domain\":[0.0,1.0],\"title\":{\"text\":\"Company Stage\"}},\"yaxis\":{\"anchor\":\"x\",\"domain\":[0.0,1.0],\"title\":{\"text\":\"Number of Layoffs\"}},\"coloraxis\":{\"colorbar\":{\"title\":{\"text\":\"Number of Layoffs\"}},\"colorscale\":[[0.0,\"rgb(103,0,31)\"],[0.1,\"rgb(178,24,43)\"],[0.2,\"rgb(214,96,77)\"],[0.3,\"rgb(244,165,130)\"],[0.4,\"rgb(253,219,199)\"],[0.5,\"rgb(247,247,247)\"],[0.6,\"rgb(209,229,240)\"],[0.7,\"rgb(146,197,222)\"],[0.8,\"rgb(67,147,195)\"],[0.9,\"rgb(33,102,172)\"],[1.0,\"rgb(5,48,97)\"]]},\"legend\":{\"tracegroupgap\":0},\"title\":{\"text\":\"Layoffs Distribution by Stage\"},\"barmode\":\"relative\"},                        {\"responsive\": true}                    ).then(function(){\n",
              "                            \n",
              "var gd = document.getElementById('76e49f5f-b08c-4c99-a33e-453e3b3f383a');\n",
              "var x = new MutationObserver(function (mutations, observer) {{\n",
              "        var display = window.getComputedStyle(gd).display;\n",
              "        if (!display || display === 'none') {{\n",
              "            console.log([gd, 'removed!']);\n",
              "            Plotly.purge(gd);\n",
              "            observer.disconnect();\n",
              "        }}\n",
              "}});\n",
              "\n",
              "// Listen for the removal of the full notebook cells\n",
              "var notebookContainer = gd.closest('#notebook-container');\n",
              "if (notebookContainer) {{\n",
              "    x.observe(notebookContainer, {childList: true});\n",
              "}}\n",
              "\n",
              "// Listen for the clearing of the current output cell\n",
              "var outputEl = gd.closest('.output');\n",
              "if (outputEl) {{\n",
              "    x.observe(outputEl, {childList: true});\n",
              "}}\n",
              "\n",
              "                        })                };                            </script>        </div>\n",
              "</body>\n",
              "</html>"
            ]
          },
          "metadata": {}
        }
      ]
    },
    {
      "cell_type": "code",
      "source": [
        "\n",
        "# Produce a pie chart to demonstrate the distribution of company stages among the layoffs\n",
        "\n",
        "fig2 = px.pie(stage_layoffs_count.reset_index(),\n",
        "              names = 'Stage',\n",
        "              values = 'Laid_Off_Count',\n",
        "              title = 'Distribution of Company Stages Among the Layoffs',\n",
        "              color_discrete_sequence=px.colors.sequential.RdBu)\n",
        "fig2.show()"
      ],
      "metadata": {
        "id": "UuUpCx3b9auE",
        "colab": {
          "base_uri": "https://localhost:8080/",
          "height": 542
        },
        "outputId": "c74f13b4-d5b5-40ce-bf19-608b2d705da1"
      },
      "execution_count": null,
      "outputs": [
        {
          "output_type": "display_data",
          "data": {
            "text/html": [
              "<html>\n",
              "<head><meta charset=\"utf-8\" /></head>\n",
              "<body>\n",
              "    <div>            <script src=\"https://cdnjs.cloudflare.com/ajax/libs/mathjax/2.7.5/MathJax.js?config=TeX-AMS-MML_SVG\"></script><script type=\"text/javascript\">if (window.MathJax && window.MathJax.Hub && window.MathJax.Hub.Config) {window.MathJax.Hub.Config({SVG: {font: \"STIX-Web\"}});}</script>                <script type=\"text/javascript\">window.PlotlyConfig = {MathJaxConfig: 'local'};</script>\n",
              "        <script charset=\"utf-8\" src=\"https://cdn.plot.ly/plotly-2.24.1.min.js\"></script>                <div id=\"d2a5962d-505e-4112-8d0f-61b8d83cf8bc\" class=\"plotly-graph-div\" style=\"height:525px; width:100%;\"></div>            <script type=\"text/javascript\">                                    window.PLOTLYENV=window.PLOTLYENV || {};                                    if (document.getElementById(\"d2a5962d-505e-4112-8d0f-61b8d83cf8bc\")) {                    Plotly.newPlot(                        \"d2a5962d-505e-4112-8d0f-61b8d83cf8bc\",                        [{\"domain\":{\"x\":[0.0,1.0],\"y\":[0.0,1.0]},\"hovertemplate\":\"Stage=%{label}\\u003cbr\\u003eLaid_Off_Count=%{value}\\u003cextra\\u003e\\u003c\\u002fextra\\u003e\",\"labels\":[\"Post-IPO\",\"Acquired\",\"Series B\",\"Series C\",\"Series D\",\"Series E\",\"Series F\",\"Private Equity\",\"Series H\",\"Series A\",\"Series G\",\"Series J\",\"Series I\",\"Subsidiary\",\"Seed\"],\"legendgroup\":\"\",\"name\":\"\",\"showlegend\":true,\"values\":[292882.0,53224.0,28372.0,23763.0,23042.0,18118.0,12738.0,10459.0,7931.0,7909.0,4197.0,3570.0,2855.0,2814.0,2159.0],\"type\":\"pie\"}],                        {\"template\":{\"data\":{\"histogram2dcontour\":[{\"type\":\"histogram2dcontour\",\"colorbar\":{\"outlinewidth\":0,\"ticks\":\"\"},\"colorscale\":[[0.0,\"#0d0887\"],[0.1111111111111111,\"#46039f\"],[0.2222222222222222,\"#7201a8\"],[0.3333333333333333,\"#9c179e\"],[0.4444444444444444,\"#bd3786\"],[0.5555555555555556,\"#d8576b\"],[0.6666666666666666,\"#ed7953\"],[0.7777777777777778,\"#fb9f3a\"],[0.8888888888888888,\"#fdca26\"],[1.0,\"#f0f921\"]]}],\"choropleth\":[{\"type\":\"choropleth\",\"colorbar\":{\"outlinewidth\":0,\"ticks\":\"\"}}],\"histogram2d\":[{\"type\":\"histogram2d\",\"colorbar\":{\"outlinewidth\":0,\"ticks\":\"\"},\"colorscale\":[[0.0,\"#0d0887\"],[0.1111111111111111,\"#46039f\"],[0.2222222222222222,\"#7201a8\"],[0.3333333333333333,\"#9c179e\"],[0.4444444444444444,\"#bd3786\"],[0.5555555555555556,\"#d8576b\"],[0.6666666666666666,\"#ed7953\"],[0.7777777777777778,\"#fb9f3a\"],[0.8888888888888888,\"#fdca26\"],[1.0,\"#f0f921\"]]}],\"heatmap\":[{\"type\":\"heatmap\",\"colorbar\":{\"outlinewidth\":0,\"ticks\":\"\"},\"colorscale\":[[0.0,\"#0d0887\"],[0.1111111111111111,\"#46039f\"],[0.2222222222222222,\"#7201a8\"],[0.3333333333333333,\"#9c179e\"],[0.4444444444444444,\"#bd3786\"],[0.5555555555555556,\"#d8576b\"],[0.6666666666666666,\"#ed7953\"],[0.7777777777777778,\"#fb9f3a\"],[0.8888888888888888,\"#fdca26\"],[1.0,\"#f0f921\"]]}],\"heatmapgl\":[{\"type\":\"heatmapgl\",\"colorbar\":{\"outlinewidth\":0,\"ticks\":\"\"},\"colorscale\":[[0.0,\"#0d0887\"],[0.1111111111111111,\"#46039f\"],[0.2222222222222222,\"#7201a8\"],[0.3333333333333333,\"#9c179e\"],[0.4444444444444444,\"#bd3786\"],[0.5555555555555556,\"#d8576b\"],[0.6666666666666666,\"#ed7953\"],[0.7777777777777778,\"#fb9f3a\"],[0.8888888888888888,\"#fdca26\"],[1.0,\"#f0f921\"]]}],\"contourcarpet\":[{\"type\":\"contourcarpet\",\"colorbar\":{\"outlinewidth\":0,\"ticks\":\"\"}}],\"contour\":[{\"type\":\"contour\",\"colorbar\":{\"outlinewidth\":0,\"ticks\":\"\"},\"colorscale\":[[0.0,\"#0d0887\"],[0.1111111111111111,\"#46039f\"],[0.2222222222222222,\"#7201a8\"],[0.3333333333333333,\"#9c179e\"],[0.4444444444444444,\"#bd3786\"],[0.5555555555555556,\"#d8576b\"],[0.6666666666666666,\"#ed7953\"],[0.7777777777777778,\"#fb9f3a\"],[0.8888888888888888,\"#fdca26\"],[1.0,\"#f0f921\"]]}],\"surface\":[{\"type\":\"surface\",\"colorbar\":{\"outlinewidth\":0,\"ticks\":\"\"},\"colorscale\":[[0.0,\"#0d0887\"],[0.1111111111111111,\"#46039f\"],[0.2222222222222222,\"#7201a8\"],[0.3333333333333333,\"#9c179e\"],[0.4444444444444444,\"#bd3786\"],[0.5555555555555556,\"#d8576b\"],[0.6666666666666666,\"#ed7953\"],[0.7777777777777778,\"#fb9f3a\"],[0.8888888888888888,\"#fdca26\"],[1.0,\"#f0f921\"]]}],\"mesh3d\":[{\"type\":\"mesh3d\",\"colorbar\":{\"outlinewidth\":0,\"ticks\":\"\"}}],\"scatter\":[{\"fillpattern\":{\"fillmode\":\"overlay\",\"size\":10,\"solidity\":0.2},\"type\":\"scatter\"}],\"parcoords\":[{\"type\":\"parcoords\",\"line\":{\"colorbar\":{\"outlinewidth\":0,\"ticks\":\"\"}}}],\"scatterpolargl\":[{\"type\":\"scatterpolargl\",\"marker\":{\"colorbar\":{\"outlinewidth\":0,\"ticks\":\"\"}}}],\"bar\":[{\"error_x\":{\"color\":\"#2a3f5f\"},\"error_y\":{\"color\":\"#2a3f5f\"},\"marker\":{\"line\":{\"color\":\"#E5ECF6\",\"width\":0.5},\"pattern\":{\"fillmode\":\"overlay\",\"size\":10,\"solidity\":0.2}},\"type\":\"bar\"}],\"scattergeo\":[{\"type\":\"scattergeo\",\"marker\":{\"colorbar\":{\"outlinewidth\":0,\"ticks\":\"\"}}}],\"scatterpolar\":[{\"type\":\"scatterpolar\",\"marker\":{\"colorbar\":{\"outlinewidth\":0,\"ticks\":\"\"}}}],\"histogram\":[{\"marker\":{\"pattern\":{\"fillmode\":\"overlay\",\"size\":10,\"solidity\":0.2}},\"type\":\"histogram\"}],\"scattergl\":[{\"type\":\"scattergl\",\"marker\":{\"colorbar\":{\"outlinewidth\":0,\"ticks\":\"\"}}}],\"scatter3d\":[{\"type\":\"scatter3d\",\"line\":{\"colorbar\":{\"outlinewidth\":0,\"ticks\":\"\"}},\"marker\":{\"colorbar\":{\"outlinewidth\":0,\"ticks\":\"\"}}}],\"scattermapbox\":[{\"type\":\"scattermapbox\",\"marker\":{\"colorbar\":{\"outlinewidth\":0,\"ticks\":\"\"}}}],\"scatterternary\":[{\"type\":\"scatterternary\",\"marker\":{\"colorbar\":{\"outlinewidth\":0,\"ticks\":\"\"}}}],\"scattercarpet\":[{\"type\":\"scattercarpet\",\"marker\":{\"colorbar\":{\"outlinewidth\":0,\"ticks\":\"\"}}}],\"carpet\":[{\"aaxis\":{\"endlinecolor\":\"#2a3f5f\",\"gridcolor\":\"white\",\"linecolor\":\"white\",\"minorgridcolor\":\"white\",\"startlinecolor\":\"#2a3f5f\"},\"baxis\":{\"endlinecolor\":\"#2a3f5f\",\"gridcolor\":\"white\",\"linecolor\":\"white\",\"minorgridcolor\":\"white\",\"startlinecolor\":\"#2a3f5f\"},\"type\":\"carpet\"}],\"table\":[{\"cells\":{\"fill\":{\"color\":\"#EBF0F8\"},\"line\":{\"color\":\"white\"}},\"header\":{\"fill\":{\"color\":\"#C8D4E3\"},\"line\":{\"color\":\"white\"}},\"type\":\"table\"}],\"barpolar\":[{\"marker\":{\"line\":{\"color\":\"#E5ECF6\",\"width\":0.5},\"pattern\":{\"fillmode\":\"overlay\",\"size\":10,\"solidity\":0.2}},\"type\":\"barpolar\"}],\"pie\":[{\"automargin\":true,\"type\":\"pie\"}]},\"layout\":{\"autotypenumbers\":\"strict\",\"colorway\":[\"#636efa\",\"#EF553B\",\"#00cc96\",\"#ab63fa\",\"#FFA15A\",\"#19d3f3\",\"#FF6692\",\"#B6E880\",\"#FF97FF\",\"#FECB52\"],\"font\":{\"color\":\"#2a3f5f\"},\"hovermode\":\"closest\",\"hoverlabel\":{\"align\":\"left\"},\"paper_bgcolor\":\"white\",\"plot_bgcolor\":\"#E5ECF6\",\"polar\":{\"bgcolor\":\"#E5ECF6\",\"angularaxis\":{\"gridcolor\":\"white\",\"linecolor\":\"white\",\"ticks\":\"\"},\"radialaxis\":{\"gridcolor\":\"white\",\"linecolor\":\"white\",\"ticks\":\"\"}},\"ternary\":{\"bgcolor\":\"#E5ECF6\",\"aaxis\":{\"gridcolor\":\"white\",\"linecolor\":\"white\",\"ticks\":\"\"},\"baxis\":{\"gridcolor\":\"white\",\"linecolor\":\"white\",\"ticks\":\"\"},\"caxis\":{\"gridcolor\":\"white\",\"linecolor\":\"white\",\"ticks\":\"\"}},\"coloraxis\":{\"colorbar\":{\"outlinewidth\":0,\"ticks\":\"\"}},\"colorscale\":{\"sequential\":[[0.0,\"#0d0887\"],[0.1111111111111111,\"#46039f\"],[0.2222222222222222,\"#7201a8\"],[0.3333333333333333,\"#9c179e\"],[0.4444444444444444,\"#bd3786\"],[0.5555555555555556,\"#d8576b\"],[0.6666666666666666,\"#ed7953\"],[0.7777777777777778,\"#fb9f3a\"],[0.8888888888888888,\"#fdca26\"],[1.0,\"#f0f921\"]],\"sequentialminus\":[[0.0,\"#0d0887\"],[0.1111111111111111,\"#46039f\"],[0.2222222222222222,\"#7201a8\"],[0.3333333333333333,\"#9c179e\"],[0.4444444444444444,\"#bd3786\"],[0.5555555555555556,\"#d8576b\"],[0.6666666666666666,\"#ed7953\"],[0.7777777777777778,\"#fb9f3a\"],[0.8888888888888888,\"#fdca26\"],[1.0,\"#f0f921\"]],\"diverging\":[[0,\"#8e0152\"],[0.1,\"#c51b7d\"],[0.2,\"#de77ae\"],[0.3,\"#f1b6da\"],[0.4,\"#fde0ef\"],[0.5,\"#f7f7f7\"],[0.6,\"#e6f5d0\"],[0.7,\"#b8e186\"],[0.8,\"#7fbc41\"],[0.9,\"#4d9221\"],[1,\"#276419\"]]},\"xaxis\":{\"gridcolor\":\"white\",\"linecolor\":\"white\",\"ticks\":\"\",\"title\":{\"standoff\":15},\"zerolinecolor\":\"white\",\"automargin\":true,\"zerolinewidth\":2},\"yaxis\":{\"gridcolor\":\"white\",\"linecolor\":\"white\",\"ticks\":\"\",\"title\":{\"standoff\":15},\"zerolinecolor\":\"white\",\"automargin\":true,\"zerolinewidth\":2},\"scene\":{\"xaxis\":{\"backgroundcolor\":\"#E5ECF6\",\"gridcolor\":\"white\",\"linecolor\":\"white\",\"showbackground\":true,\"ticks\":\"\",\"zerolinecolor\":\"white\",\"gridwidth\":2},\"yaxis\":{\"backgroundcolor\":\"#E5ECF6\",\"gridcolor\":\"white\",\"linecolor\":\"white\",\"showbackground\":true,\"ticks\":\"\",\"zerolinecolor\":\"white\",\"gridwidth\":2},\"zaxis\":{\"backgroundcolor\":\"#E5ECF6\",\"gridcolor\":\"white\",\"linecolor\":\"white\",\"showbackground\":true,\"ticks\":\"\",\"zerolinecolor\":\"white\",\"gridwidth\":2}},\"shapedefaults\":{\"line\":{\"color\":\"#2a3f5f\"}},\"annotationdefaults\":{\"arrowcolor\":\"#2a3f5f\",\"arrowhead\":0,\"arrowwidth\":1},\"geo\":{\"bgcolor\":\"white\",\"landcolor\":\"#E5ECF6\",\"subunitcolor\":\"white\",\"showland\":true,\"showlakes\":true,\"lakecolor\":\"white\"},\"title\":{\"x\":0.05},\"mapbox\":{\"style\":\"light\"}}},\"legend\":{\"tracegroupgap\":0},\"title\":{\"text\":\"Distribution of Company Stages Among the Layoffs\"},\"piecolorway\":[\"rgb(103,0,31)\",\"rgb(178,24,43)\",\"rgb(214,96,77)\",\"rgb(244,165,130)\",\"rgb(253,219,199)\",\"rgb(247,247,247)\",\"rgb(209,229,240)\",\"rgb(146,197,222)\",\"rgb(67,147,195)\",\"rgb(33,102,172)\",\"rgb(5,48,97)\"]},                        {\"responsive\": true}                    ).then(function(){\n",
              "                            \n",
              "var gd = document.getElementById('d2a5962d-505e-4112-8d0f-61b8d83cf8bc');\n",
              "var x = new MutationObserver(function (mutations, observer) {{\n",
              "        var display = window.getComputedStyle(gd).display;\n",
              "        if (!display || display === 'none') {{\n",
              "            console.log([gd, 'removed!']);\n",
              "            Plotly.purge(gd);\n",
              "            observer.disconnect();\n",
              "        }}\n",
              "}});\n",
              "\n",
              "// Listen for the removal of the full notebook cells\n",
              "var notebookContainer = gd.closest('#notebook-container');\n",
              "if (notebookContainer) {{\n",
              "    x.observe(notebookContainer, {childList: true});\n",
              "}}\n",
              "\n",
              "// Listen for the clearing of the current output cell\n",
              "var outputEl = gd.closest('.output');\n",
              "if (outputEl) {{\n",
              "    x.observe(outputEl, {childList: true});\n",
              "}}\n",
              "\n",
              "                        })                };                            </script>        </div>\n",
              "</body>\n",
              "</html>"
            ]
          },
          "metadata": {}
        }
      ]
    },
    {
      "cell_type": "markdown",
      "source": [
        "# Analysis by Funds\n"
      ],
      "metadata": {
        "id": "-xx9sUSwkvjZ"
      }
    },
    {
      "cell_type": "code",
      "source": [
        "# Funds Raised VS Company Layoffs\n",
        "\n",
        "funds_count = cleaned_layoff_df[cleaned_layoff_df.Stage != 'Post-IPO' ]\n",
        "funds_count = funds_count[funds_count.Stage != 'Acquired' ]\n",
        "\n",
        "# Distribution of the Funds Raised VS. Number of Layoffs\n",
        "fig3 = px.scatter(funds_count,\n",
        "                  x='Funds_Raised',\n",
        "                  y='Laid_Off_Count',\n",
        "                  title='Funds Raised vs. Number of Layoffs',\n",
        "                  labels={'Funds_Raised': '$ Funds Raised (in Millions)', 'Laid_Off_Count': 'Number of Layoffs'},\n",
        "                  color='Laid_Off_Count',\n",
        "                  color_continuous_scale=px.colors.sequential.RdBu,\n",
        "                  hover_name='Company')\n",
        "\n",
        "fig3.show()"
      ],
      "metadata": {
        "id": "IkX0A-Vf9o6o",
        "colab": {
          "base_uri": "https://localhost:8080/",
          "height": 542
        },
        "outputId": "effc4103-10f7-4e65-ddf7-a3b08d09f42a"
      },
      "execution_count": null,
      "outputs": [
        {
          "output_type": "display_data",
          "data": {
            "text/html": [
              "<html>\n",
              "<head><meta charset=\"utf-8\" /></head>\n",
              "<body>\n",
              "    <div>            <script src=\"https://cdnjs.cloudflare.com/ajax/libs/mathjax/2.7.5/MathJax.js?config=TeX-AMS-MML_SVG\"></script><script type=\"text/javascript\">if (window.MathJax && window.MathJax.Hub && window.MathJax.Hub.Config) {window.MathJax.Hub.Config({SVG: {font: \"STIX-Web\"}});}</script>                <script type=\"text/javascript\">window.PlotlyConfig = {MathJaxConfig: 'local'};</script>\n",
              "        <script charset=\"utf-8\" src=\"https://cdn.plot.ly/plotly-2.24.1.min.js\"></script>                <div id=\"0bf6c88e-e180-49dc-84da-b2833d8ee307\" class=\"plotly-graph-div\" style=\"height:525px; width:100%;\"></div>            <script type=\"text/javascript\">                                    window.PLOTLYENV=window.PLOTLYENV || {};                                    if (document.getElementById(\"0bf6c88e-e180-49dc-84da-b2833d8ee307\")) {                    Plotly.newPlot(                        \"0bf6c88e-e180-49dc-84da-b2833d8ee307\",                        [{\"hovertemplate\":\"\\u003cb\\u003e%{hovertext}\\u003c\\u002fb\\u003e\\u003cbr\\u003e\\u003cbr\\u003e$ Funds Raised (in Millions)=%{x}\\u003cbr\\u003eNumber of Layoffs=%{marker.color}\\u003cextra\\u003e\\u003c\\u002fextra\\u003e\",\"hovertext\":[\"Swiggy\",\"Veho\",\"Personio\",\"Brex\",\"Cure.fit\",\"Sirplus\",\"SonderMind\",\"Discord\",\"Inmobi\",\"7Shifts\",\"Sisense\",\"Beam Benefits\",\"Branch\",\"FullStory\",\"Uber Freight\",\"Humane\",\"Flexe\",\"Pitch\",\"BenchSci\",\"Trigo\",\"Orca Security\",\"Frontdesk\",\"The Messenger\",\"Paytm\",\"ShareChat\",\"InSightec\",\"Udaan\",\"Checkout.com\",\"Solarisbank\",\"Flex\",\"Chipper Cash\",\"Navan\",\"ZestMoney\",\"Navan\",\"Incredibuild\",\"Meow Wolf\",\"Zepz\",\"Dataminr\",\"Bytedance\",\"Our Next Energy\",\"Alerzo\",\"McMakler\",\"Tulip Retail\",\"Jodo\",\"Physics Wallah\",\"Sierra Space\",\"Faire\",\"Sana Benefits\",\"Hubilo\",\"Graphy\",\"Salsify\",\"Virgio\",\"SiFive\",\"Parity Technologies\",\"Roblox China\",\"Nomad Health\",\"Tropic\",\"Convoy\",\"StellarAlgo\",\"ManoMano\",\"WeTransfer\",\"Plume\",\"CityMall\",\"C2FO\",\"Adda247\",\"Deepgram\",\"Carbon Health\",\"Blue Origin\",\"VTrips\",\"InvestCloud\",\"Bizongo\",\"SeekOut\",\"Hopper\",\"Chainalysis\",\"Synapse\",\"Chia Network\",\"Cowbell\",\"N26\",\"Andgo\",\"Epic Games\",\"Fi.Money\",\"Dunzo\",\"Flexe\",\"Lucid Software\",\"Eat Just\",\"Appsmith\",\"DealShare\",\"7shifts\",\"Airtable\",\"Project44\",\"VideoAmp\",\"Evolve\",\"Binance.US\",\"Paper\",\"Homeday\",\"At-Bay\",\"Eurora\",\"Chargebee\",\"Divvy Homes\",\"Grabango\",\"MaxMilhas\",\"Hodinkee\",\"mPharma\",\"Xolo\",\"Nexar\",\"Khatabook\",\"Biofourmis\",\"Malwarebytes\",\"SkyKick\",\"Kenko Health\",\"Huma\",\"Zeplin\",\"Kenko Health\",\"CoinSwitch\",\"HackerRank\",\"Cuemath\",\"Captiv8\",\"Atlas\",\"Veriff\",\"Rivos\",\"Getir\",\"Twiga\",\"Spartan Poker\",\"Times Internet \",\"Detectify\",\"StreamElements\",\"FlexCar\",\"Easee\",\"SHINE Technologies\",\"Hike\",\"Niantic\",\"MPL\",\"Caliva\",\"Qomplx\",\"CodeClan\",\"Top Hat\",\"Discord\",\"Bardee\",\"Spinny\",\"Tekion\",\"BetterUp\",\"Augury\",\"Gem\",\"Gupy\",\"FamPay\",\"Vesttoo\",\"Paper\",\"Archipelago\",\"Qoala\",\"Fable\",\"Nexar\",\"Eroad\",\"Point\",\"Akseleran\",\"Verbit\",\"Copia\",\"Figure\",\"Calendly\",\"Deep Instict\",\"PathAI\",\"Viaplay\",\"Stoa\",\"AgentSync\",\"Tilia\",\"Cameo\",\"Binance\",\"Navi Technologies\",\"Skill Lync\",\"Uber Freight\",\"Deepwatch\",\"Centr\",\"Factorial\",\"Dapper Labs\",\"WayCool\",\"Sisense\",\"Medsaf\",\"FNZ\",\"Perfect Day\",\"Solidigm\",\"TytoCare\",\"Athennian\",\"Niantic\",\"Headspace\",\"Artsy\",\"Candy Digital\",\"Xiaomi India\",\"Torii\",\"Insider Intelligence\",\"ClickUp\",\"Karat\",\"Plex\",\"Tibber\",\"Convoy\",\"Tackle.io\",\"Ritual\",\"AvantStay\",\"Chingari\",\"Mojocare\",\"Pilot\",\"CareRev\",\"TADA\",\"Bitwise\",\"Mamaearth\",\"JupiterOne\",\"GoCardless\",\"Pendo\",\"TaxBit\",\"Trybe\",\"Expel\",\"Branch\",\"Cityblock Health\",\"Highspot\",\"Byju's\",\"Reddit\",\"Linktree\",\"Dragos\",\"Mara\",\"Staffbase\",\"Haven Technologies\",\"Mural\",\"Glamyo Health\",\"Vendr\",\"McMakler\",\"Mux\",\"Away\",\"Taxfix\",\"Mensa Brands\",\"Evolve\",\"Project44\",\"BenevolentAI\",\"Airmeet\",\"Circus Kitchens\",\"Jellysmack\",\"Guild\",\"Flink\",\"Reliance JioMart\",\"Moss\",\"Pie Insurance\",\"Stash\",\"Zepz\",\"Nuro\",\"Slickdeals\",\"Toothsi\",\"Varo\",\"Cuemath\",\"Momentis Surgical\",\"Glean AI\",\"Meesho\",\"Teachmint\",\"Scribe Media\",\"Autograph\",\"Earnix\",\"Karma\",\"Cars24\",\"Healthy.io\",\"TheSkimm\",\"Bishop Fox\",\"Zoomo\",\"SAS\",\"Lev\",\"Vah Vah!\",\"Cogito\",\"N26\",\"Embark Vet\",\"Greenhouse\",\"Rebellion Defense\",\"Airtasker\",\"Chief\",\"Tickertape\",\"Extramarks\",\"Teampay\",\"Skill Lync\",\"Rapid\",\"Rapid\",\"Flink\",\"BigPanda\",\"Benchling\",\"Koo\",\"Open\",\"Gloat\",\"Noon\",\"Culture Amp\",\"TRM Labs\",\"Ten Square Games\",\"Clearcover\",\"Paper\",\"Ynsect\",\"Drip Capital\",\"Community Gaming\",\"Snyk\",\"Astronomer\",\"Milkrun\",\"Permutive\",\"Examedi\",\"Flock Freight\",\"Nori\",\"Simpl\",\"Practo\",\"Workit Health\",\"ZestMoney\",\"Avocargo\",\"Dunzo\",\"Talent.com\",\"1K Kirana\",\"Finder\",\"Boost\",\"Guideline\",\"Textio\",\"Domestika\",\"FanClash\",\"Loop\",\"Crossbeam\",\"Aspiration\",\"TakeOff\",\"Slite\",\"Workhuman\",\"FreshBooks\",\"Xing\",\"Mr Yum\",\"Smallcase\",\"Livspace\",\"Symend\",\"Course Hero\",\"Klaviyo\",\"Dukaan\",\"TradeWindow\",\"Fetch\",\"Anchorage Digital\",\"Avidbots\",\"Kaleidoscope\",\"Cookpad\",\"Shopee\",\"Gopuff\",\"Pristyn Care\",\"Zwift\",\"Alerzo\",\"UKG\",\"UpGrad\",\"HomeLane\",\"Loft\",\"Lendi\",\"MasterClass\",\"Fittr\",\"iFood\",\"Color Health\",\"Waymo\",\"PayFit\",\"Yellow.ai\",\"Ezoic\",\"Cerebral\",\"Amount\",\"Outreach\",\"Stytch\",\"BitSight\",\"SAP Labs\",\"Eat Just\",\"Stax\",\"OneFootball\",\"The Iconic\",\"StrongDM\",\"Synamedia\",\"Green Labs\",\"Polygon\",\"Crunchyroll\",\"Ethos Life\",\"Basis Technologies\",\"Bolt\",\"MyGate\",\"Fireblocks\",\"Kinde\",\"Chipper Cash\",\"ServiceTitan\",\"Neon\",\"Jellysmack\",\"Betterment\",\"Dropp\",\"Electric\",\"EMX Digital\",\"PetLove\",\"Collective Health\",\"Magic Eden\",\"Moladin\",\"Syft Technologies\",\"Misfits Market\",\"Olive AI\",\"Veriff\",\"Gusto\",\"Gong\",\"Beam Benefits\",\"Equitybee\",\"LearnUpon\",\"Loggi\",\"VinFast US\",\"Pocket Aces\",\"Clari\",\"Kyruus\",\"Lightico\",\"Eightfold AI\",\"FarEye\",\"Protocol Labs\",\"Byju's\",\"Mindstrong\",\"Miro\",\"Getir\",\"Highspot\",\"Bittrex\",\"Snowplow\",\"Articulate\",\"Workato\",\"Wheel\",\"Chainalysis\",\"Exterro\",\"TheSkimm\",\"Wefox\",\"Tilting Point\",\"Gokada\",\"AU10TIX\",\"Impossible Foods copy\",\"Chrono24\",\"Me Poupe\",\"CoinTracker\",\"SSense\",\"DealShare\",\"Ruggable\",\"Heycar\",\"Matrixport\",\"Shakepay\",\"#Paid\",\"Glisser\",\"Clear Capital\",\"SirionLabs\",\"Tier Mobility\",\"Innovaccer\",\"Bolt\",\"PartnerStack\",\"Gitpod\",\"OFFOR Health\",\"Venngage\",\"Uber Freight\",\"Inmobi\",\"Booktopia\",\"Ermetic\",\"Namogoo\",\"Swiggy\",\"Vox Media\",\"Karat\",\"Enjoei\",\"Edifecs\",\"Citrine Informatics\",\"Hubilo\",\"Saks.com\",\"Hydrow\",\"Benevity\",\"Jumpcloud\",\"Hootsuite\",\"Clue\",\"Addepar\",\"Britishvolt\",\"Clutch\",\"Exotel\",\"Unico\",\"Tul\",\"Luxury Presence\",\"ShareChat\",\"Gramophone\",\"ClearCo\",\"Captain Fresh \",\"Snappy\",\"BharatAgri\",\"Black Shark\",\"Ola\",\"Bonterra \",\"Vial\",\"SmartNews\",\"Skit.ai\",\"Pier\",\"Blockchain.com\",\"Lattice\",\"Greenlight\",\"Cashfree Payments\",\"Mapbox\",\"Career Karma\",\"Flexport\",\"Verily\",\"Tipalti\",\"Jumio\",\"CoinDCX\",\"Embark Vet\",\"Citizen\",\"Till Payments\",\"ConsenSys\",\"LEAD\",\"Parler\",\"GoBolt\",\"Relevel\",\"StreamElements\",\"Cart.com\",\"Minute Media\",\"Huobi\",\"Carbon Health\",\"Bounce\",\"Socure\",\"Genesis\",\"Moglix\",\"Everlane\",\"Pecan AI\",\"Personetics\",\"Twine Solutions \",\"UpScalio\",\"Astronomer\",\"Augury\",\"Uniphore\",\"Ezoic\",\"Willow\",\"Back Market\",\"Zoopla\",\"Chope\",\"Briza\",\"Tomorrow\",\"Revelate\",\"LeafLink\",\"Workmotion\",\"GoStudent\",\"Headspace\",\"ChowNow\",\"Thumbtack\",\"Komodo Health\",\"Balto\",\"Outschool\",\"Xentral\",\"Alice\",\"Primer\",\"OneFootball\",\"C2FO\",\"Airtable\",\"Swiggy\",\"Glints\",\"Buser\",\"BlackLine\",\"Chrono24\",\"Inscripta\",\"CyCognito\",\"Armis\",\"Vedantu\",\"Loft\",\"Plaid\",\"Motive\",\"Recur Forever\",\"Relativity\",\"Voi\",\"Houzz\",\"Grover\",\"Lev\",\"Lithic\",\"Chipper Cash\",\"Stash\",\"Perimeter 81\",\"Koinly\",\"Bridgit\",\"Swyftx\",\"Aqua Security\",\"DataRails\",\"OYO\",\"HealthifyMe\",\"Cognyte\",\"ShareChat\",\"Polly\",\"Carousell\",\"Bizzabo\",\"BloomTech\",\"Netlify\",\"Kraken\",\"Happy Money\",\"Ula\",\"Wonder\",\"StudySmarter\",\"Grin\",\"Ual\\u00e1\",\"Teachmint\",\"Etermax\",\"Nexar\",\"Bitso\",\"Lyst\",\"CoinJar\",\"Infarm\",\"Wildlife Studios\",\"Hirect\",\"ApplyBoard\",\"Ajaib\",\"Candy Digital\",\"ResearchGate\",\"VerSe Innovation\",\"Carwow\",\"Vendease\",\"Lemon\",\"Quidax\",\"SIRCLO\",\"Trax\",\"Kitopi\",\"Zomato\",\"Nuro\",\"Synthego\",\"Splyt\",\"Orchard\",\"Juni\",\"Chili Piper\",\"Capitolis\",\"TealBook\",\"Koho\",\"&Open\",\"Twiga\",\"Wayflyer\",\"Salsify\",\"Lokalise\",\"Yotpo\",\"OwnBackup\",\"Productboard\",\"Properly\",\"Jimdo\",\"The Zebra\",\"CaptivateIQ\",\"iFit\",\"Ribbon\",\"Pipedrive\",\"Intercom\",\"Cloudinary\",\"Nestcoin\",\"Gokada\",\"Veev\",\"Forto\",\"Juul\",\"InfluxData\",\"Wistia\",\"Ocavu\",\"Flyhomes\",\"AvantStay\",\"Cameo\",\"Plum\",\"HighRadius\",\"Namogoo\",\"Repertoire Immune Medicines\",\"Unacademy\",\"Dock\",\"Brainly\",\"Udaan\",\"KoinWorks\",\"Exodus\",\"Stripe\",\"Pleo\",\"Shippo\",\"Chime\",\"Chargebee\",\"Dapper Labs\",\"Checkmarx\",\"Smava\",\"Iron Ox\",\"Digital Currency Gruop\",\"Argo AI\",\"Gem\",\"Oda\",\"Oda\",\"Oda\",\"Hootsuite\",\"Drop\",\"Tapps Games\",\"Kry\",\"Notarize\",\"EquityZen\",\"Equitybee\",\"Dukaan\",\"Fifth Season\",\"Advata\",\"RenoRun\",\"Recharge\",\"Lattice\",\"Cybereason\",\"Argo AI\",\"GoFundMe\",\"Fundbox\",\"Embroker\",\"Vee\",\"Cerebral\",\"Snyk\",\"McMakler\",\"Unico\",\"OrCam\",\"Antidote Health\",\"Khoros\",\"Elinvar\",\"Synapsica\",\"Hotmart\",\"Zeus Living\",\"Loom\",\"Sales Boomerang\",\"Gopuff\",\"AtoB\",\"InfoSum\",\"Faire\",\"Ada Health\",\"Tiendanube\",\"Flipboard\",\"Clear Capital\",\"Byju's\",\"6sense\",\"FrontRow\",\"Noom\",\"MX\",\"Brex\",\"Pacaso\",\"Sketch\",\"Udacity\",\"Linkfire\",\"Pavilion Data\",\"Redesign Health\",\"Rev.com\",\"Crypto.com\",\"Landing\",\"Impossible Foods\",\"Built In\",\"Zoomo\",\"Homie\",\"Mux\",\"Divvy Homes\",\"Konfio\",\"Moss\",\"Foxtrot\",\"Truiloo\",\"NYDIG\",\"Klarna\",\"Kitty Hawk\",\"Curative\",\"Ada\",\"Ola\",\"Vesalius Therapeutics\",\"Clear\",\"TrueLayer\",\"WorkRamp\",\"Pitch\",\"Infarm\",\"Checkout.com\",\"Patreon\",\"Mode Analytics\",\"Compete\",\"Brighte\",\"Patreon\",\"GoStudent\",\"Pomelo Fashion\",\"Genome Medical\",\"Simple Feast\",\"Rupeek\",\"Intercom\",\"Pendo\",\"Demandbase\",\"Brave Care\",\"Lawgeex\",\"Kuda\",\"2TM\",\"Innovaccer\",\"Urban Sports Club\",\"Hedvig\",\"Smava\",\"Clari\",\"Koo\",\"Apartment List\",\"Artnight\",\"Electric\",\"Immersive Labs\",\"Nate\",\"Meesho\",\"54gene\",\"Argyle\",\"Reali\",\"Loop\",\"Tier Mobility\",\"Packable\",\"Q4\",\"Skedulo\",\"Plato\",\"NSO\",\"Amperity\",\"Stripe\",\"Hodlnaut\",\"Wheel\",\"Malwarebytes\",\"Fluke\",\"Swyftx\",\"Tempo Automation\",\"Genesis\",\"Warren\",\"AlayaCare\",\"Pliops\",\"Woven\",\"Anywell\",\"Truepill\",\"Calm\",\"FourKites\",\"Marketforce\",\"Betterfly\",\"Expert360\",\"Trybe\",\"Permutive\",\"Hootsuite\",\"MadeiraMadeira\",\"Melio\",\"Linktree\",\"Shogun\",\"Dooly\",\"Loggi\",\"Labelbox\",\"Mejuri\",\"Uberflip\",\"Article\",\"Jam City\",\"LEAD\",\"On Deck\",\"RenoRun\",\"Healthcare.com\",\"Unbounce\",\"The Org\",\"Vedantu\",\"Seegrid\",\"Nylas\",\"Outreach\",\"Sendy\",\"Sendy\",\"Stedi\",\"Glossier\",\"Hash\",\"Metigy\",\"Vee\",\"Ola\",\"Clearco\",\"Imperfect Foods\",\"Shelf Engine\",\"Quantcast\",\"Sherpa\",\"Ribbon\",\"Career Karma\",\"TextNow\",\"Vox Media\",\"Coinsquare\",\"Skai\",\"McMakler\",\"InDebted\",\"Dover\",\"Immutable\",\"Eucalyptus\",\"Workstream\",\"Quanto\",\"Clarify Health\",\"Blockchain.com\",\"Callisto Media\",\"WHOOP\",\"Rad Power Bikes\",\"Lunchbox\",\"RealSelf\",\"Flyhomes\",\"Varo\",\"BlueStacks\",\"Introhive\",\"Zencity\",\"Splice\",\"Forma.ai\",\"Arc\",\"Olive\",\"M1\",\"SellerX\",\"Stint\",\"PACT Pharma\",\"Gemini\",\"Lusha\",\"Bright Money\",\"Project44\",\"Heroes\",\"Aspire\",\"Zego\",\"The Mom Project\",\"Unstoppable Domains\",\"Kiavi\",\"Wave\",\"Tonal\",\"Fabric\",\"Bryter\",\"ChowNow\",\"Involves\",\"100 Thieves\",\"Nuro\",\"Gopuff\",\"Fraazo\",\"Hubilo\",\"Hopin\",\"Alice\",\"SundaySky\",\"PuduTech\",\"Butler Hospitality\",\"Calibrate\",\"Argo AI\",\"Next Insurance\",\"Adwerx\",\"Emotive\",\"Remote\",\"Anodot\",\"SQream\",\"Anodot\",\"Loft\",\"Bizzabo\",\"eToro\",\"Verbit\",\"Outschool\",\"Bullish\",\"Transmit Security\",\"Thimble\",\"Syte\",\"Lightricks\",\"Sendle\",\"Lendis\",\"Gorillas\",\"Celsius\",\"WanderJaunt\",\"Bamboo Health\",\"Teleport\",\"Crejo.Fun\",\"Stash Financial\",\"Nate\",\"Snyk\",\"Stream\",\"Finleap Connect\",\"Abra\",\"Niantic\",\"AvantStay\",\"Qumulo\",\"Clutch\",\"Parallel Wireless\",\"Oye Rickshaw\",\"Rows\",\"Baton\",\"Substack\",\"Huobi\",\"StockX\",\"Sidecar Health\",\"StockX\",\"Vezeeta\",\"Bright Machines\",\"HealthMatch\",\"Udaan\",\"SafeGraph\",\"Postscript\",\"Bitpanda\",\"Sunday\",\"Bestow\",\"Ethos Life\",\"Aura\",\"Pipl\",\"Vouch\",\"Voyage SMS\",\"MasterClass\",\"Bungalow\",\"Superpedestrian\",\"Voi\",\"Balto\",\"Ritual\",\"Ebanx\",\"Community\",\"Sourcegraph\",\"Bybit\",\"SummerBio\",\"Trax\",\"Aqgromalin\",\"Bonsai\",\"Brighte\",\"CityMall\",\"BitOasis\",\"Unacademy\",\"Bytedance\",\"Socure\",\"Finite State\",\"JOKR\",\"Zumper\",\"PharmEasy\",\"Swappie\",\"Wealthsimple\",\"Weee!\",\"Notarize\",\"Elementor\",\"Tonkean\",\"Airtame\",\"OpenWeb\",\"Swyft\",\"Sami\",\"Breathe\",\"Hunty\",\"TIFIN\",\"BlockFi\",\"Wave Sports and Entertainment\",\"Studio\",\"Crypto.com\",\"FarEye\",\"Berlin Brands Group\",\"Sanar\",\"Freetrade\",\"Albert\",\"OneTrust\",\"Daniel Wellington\",\"Convoy\",\"Hologram\",\"Stashaway\",\"Preply\",\"Kavak\",\"Truepill\",\"iPrice Group\",\"Rupeek\",\"Lummo\",\"ID.me\",\"KiwiCo\",\"Clearco\",\"Dutchie\",\"Eruditus\",\"Afterverse\",\"Superhuman\",\"Carbon Health\",\"Favo\",\"PolicyGenius\",\"Yojak\",\"Envato\",\"Gemini\",\"Stord\",\"Gather\",\"Shef\",\"IRL\",\"Cybereason\",\"Udayy\",\"2TM\",\"Curve\",\"Loom\",\"Skillshare\",\"Impala\",\"Eaze\",\"Replicated\",\"Tomo\",\"Getta\",\"BookClub\",\"Mobile Premier League\",\"SumUp\",\"FrontRow\",\"Daloopa\",\"Uncapped\",\"Bitso\",\"Dazn\",\"Lacework\",\"Bolt\",\"PeerStreet\",\"Kontist\",\"Nuri\",\"Coterie Insurance\",\"Gorillas\",\"Zenius\",\"The Zebra\",\"Klarna\",\"Buenbit\",\"BeyondMinds\",\"ClickUp\",\"Airtime\",\"MFine\",\"Outside\",\"Cars24\",\"Vedantu\",\"Kry\",\"Picsart\",\"Zak\",\"CommonBond\",\"Zwift\",\"Section4\",\"DataRobot\",\"Pollen\",\"Meero\",\"Reef\",\"Vedantu\",\"Mural\",\"On Deck\",\"SEND\",\"Colossus\",\"Cameo\",\"Mainstreet\",\"Ideoclick\",\"Vise\",\"Avo\",\"Noom\",\"Domestika\",\"Wahoo Fitness\",\"Bonsai\",\"Clyde\",\"Xiaohongshu\",\"Facily\",\"QuintoAndar\",\"Loft\",\"Ahead\",\"Rad Power Bikes\",\"Meesho\",\"Unacademy\",\"Workrise\",\"BitMEX\",\"Lightico\",\"Rasa\",\"Gopuff\",\"Furlenco\",\"Curology\",\"Trell\",\"Knock\",\"Better.com\",\"Hyperscience\",\"WeDoctor\",\"OKCredit\",\"Lido\",\"Virgin Hyperloop\",\"Liv Up\",\"Homie\",\"Hopin\",\"Daily Harvest\",\"Rhino\",\"Gopuff\",\"Glossier\",\"Better.com\",\"InVision\",\"Treehouse\",\"Tanium\",\"Flockjay\",\"Bytedance\",\"Pagarbook\",\"Katerra\",\"Lambda School\",\"Patreon\",\"Ninjacart\",\"Bounce\",\"ThredUp\",\"Indigo\",\"Limelight\",\"Hubba\",\"Bytedance\",\"Privitar\",\"Instacart\",\"Pocketmath\",\"Breather\",\"OYO\",\"Aya\",\"Bridge Connector\",\"Tidepool\",\"Worksmith\",\"Remedy\",\"Knotel\",\"CodeCombat\",\"GetYourGuide\",\"Alto Pharmacy\",\"NS8\",\"GoBear\",\"Docly\",\"Mozilla\",\"Eatsy\",\"Glossier\",\"Thriver\",\"Vesta\",\"Procore\",\"Swiggy\",\"Zeitgold\",\"Checkr\",\"Lighter Capital\",\"Curefit\",\"Optimizely\",\"Bizongo\",\"Zilingo\",\"The Wing\",\"Sharethrough\",\"Kongregate\",\"Havenly\",\"G2\",\"Katerra\",\"Bounce\",\"Argo AI\",\"Bossa Nova\",\"Gojek\",\"ScaleFactor\",\"Dark\",\"WeWork\",\"Atlas Obscura \",\"Navi\",\"PaisaBazaar\",\"Grab\",\"Redox\",\"SynapseFI\",\"ScaleFocus\",\"Branch\",\"Her Campus Media\",\"Integrate.ai\",\"The Athletic\",\"Ethos Life\",\"Lastline\",\"Builder\",\"Monzo\",\"Kitty Hawk\",\"SpotHero\",\"Credit Sesame\",\"Rivian\",\"Fundbox\",\"Descartes Labs\",\"CrowdStreet\",\"Brex\",\"Loftium\",\"BookMyShow\",\"Culture Amp\",\"The Sill\",\"Ebanx\",\"Acorns\",\"CarDekho\",\"Teamwork\",\"PickYourTrail\",\"Glitch\",\"Ola\",\"Samsara\",\"Stay Alfred\",\"SoFi\",\"ShareChat\",\"Intercom\",\"Livspace\",\"Pollen\",\"Dotscience\",\"Swiggy\",\"WeWork\",\"Rubrik\",\"Intapp\",\"Magicbricks\",\"Zomato\",\"Lendingkart\",\"Lattice\",\"Ridecell\",\"Veem\",\"Deliv\",\"Mercos\",\"Kickstarter\",\"Mode Analytics\",\"Zeus Living\",\"Mixpanel\",\"Hireology\",\"Top Hat\",\"Revolut\",\"Cadre\",\"N26\",\"Numbrs\",\"Flywire\",\"SalesLoft\",\"Tally\",\"Validity\",\"Segment\",\"Airbnb\",\"Juul\",\"Andela\",\"Stack Overflow\",\"Pipedrive\",\"Workable\",\"CureFit\",\"Oriente\",\"Veriff\",\"Element AI\",\"Deputy\",\"Loopio\",\"Trax\",\"OYO\",\"Namely\",\"Culture Trip\",\"Sandbox VR\",\"Virtudent\",\"Monese\",\"TheSkimm\",\"WeWork\",\"Kitopi\",\"Lime\",\"Transfix\",\"Renmoney\",\"Deliveroo\",\"App Annie\",\"OpenX\",\"PayJoy\",\"Shipsi\",\"Automation Anywhere\",\"JetClosing\",\"OYO\",\"Stoqo\",\"Submittable\",\"Divergent 3D\",\"Ada Support\",\"UPshow\",\"Lighter Capital\",\"Horizn Studios\",\"Welkin Health\",\"Jiobit\",\"TutorMundi\",\"StockX\",\"Zenefits\",\"Sisense\",\"Oscar Health\",\"Simon Data\",\"Magic Leap\",\"When I Work\",\"Ike\",\"Swiggy\",\"Paytm\",\"Houzz\",\"RealSelf\",\"Freshbooks\",\"Patreon\",\"Lambda School\",\"Politico \\u002f Protocol\",\"Bringg\",\"Klook\",\"ConsenSys\",\"GumGum\",\"Kueski\",\"Movidesk\",\"Zum\",\"Komodo Health\",\"Forward\",\"BlackBuck\",\"ContaAzul\",\"Greenhouse\",\"QuintoAndar\",\"Loft\",\"Zilingo\",\"Labster\",\"Sweetgreen\",\"People.ai\",\"Tor\",\"Funding Societies\",\"CleverTap\",\"Opendoor\",\"Shop101\",\"Zume\",\"Carta\",\"Akulaku\",\"Parsable\",\"Kodiak Robotics\",\"Tulip Retail\",\"Trove Recommerce\",\"TouchBistro\",\"Envoy\",\"VSCO\",\"Skillz\",\"DataStax\",\"Xerpa\",\"Zoox\",\"Neon\",\"EasyPost\",\"Clearbanc\",\"Meow Wolf\",\"Frontdesk\",\"BeeTech\",\"Built In\",\"NuoDB\",\"Rhumbix\",\"Atsu\",\"Geekwire\",\"Monzo\",\"OneTrust\",\"Omie\",\"Matterport\",\"Clinc\",\"Mejuri\",\"Code42\",\"Lighthouse Labs\",\"LoopMe\",\"Meesho\",\"Scoop\",\"Unison\",\"Lever\",\"Unbabel\",\"Button\",\"Eden \\u002f Managed By Q\",\"Quantcast\",\"BVAccel\",\"VideoAmp\",\"Kenoby\",\"Connected\",\"GetNinjas\",\"Spyce\",\"Toast\",\"ezCater\",\"Branch Metrics\",\"Newfront Insurance\",\"Ibotta\",\"Virta Health\",\"Away\",\"MediaMath\",\"Group Nine Media\",\"Payfactors\",\"Nav\",\"Metromile\",\"Rock Content\",\"BounceX\",\"C6 Bank\",\"Cogito\",\"BusBud\",\"Borrowell\",\"PerkSpot\",\"Astra\",\"Iflix\",\"Gympass\",\"Sojern\",\"MaxMilhas\",\"Minted\",\"Velodyne Lidar\",\"Zoox\",\"Traveloka\",\"Arrive Logistics\",\"Salsify\",\"Jetty\",\"D2iQ\",\"Bustle Digital Group\",\"Bustle Digital Group\",\"Opencare\",\"Anagram\",\"G\\u002fO Media Group\",\"DSCO\",\"Tripbam\",\"Avantage Entertainment\",\"Katerra\",\"Ritual\",\"ClassPass\",\"eGym\",\"Voi\",\"Industrious\",\"1stdibs\",\"ThirdLove\",\"Latch\",\"Shuttl\",\"Jobcase\",\"Copper\",\"Dynamic Signal\",\"FiscalNote\",\"Sauce Labs\",\"Humu\",\"TripleLift\",\"Coding Dojo\",\"Instamojo\",\"Synergysuite\",\"Booksy\",\"Flymya\",\"PatientPop\",\"Showpad\",\"Highsnobiety\",\"Earnin\",\"Wonolo\",\"Acko\",\"Moovel\",\"Aqua Security\",\"Crayon\",\"Pana\",\"Sensibill\",\"Usermind\",\"Incredible Health\",\"KeepTruckin\",\"AdRoll\",\"Rover\",\"Turo\",\"uShip\",\"Siteimprove\",\"AngelList\",\"Zenoti\",\"DialSource\",\"Thumbtack\",\"RigUp\",\"FabHotels\",\"Hibob\",\"PeerStreet\",\"Blume Global\",\"Catalant\",\"Starship Technologies\",\"Loftsmart\",\"Caliva\",\"Iris Nova\",\"ZipRecruiter\",\"Amplero\",\"Polarr\",\"TravelTriangle\",\"WeWork\",\"OneWeb\",\"Bird\",\"HOOQ\",\"Everlane\",\"DataRobot\",\"Restaurant365\",\"Blueground\",\"Knotel\",\"Getaround\",\"DISCO\",\"Raken\",\"Bench\",\"Loft\",\"Oh My Green\",\"Bevi\",\"Textio\",\"Opal\",\"ThirdLove\",\"B8ta\",\"Fareportal\",\"Puppet\",\"Ecobee\",\"Passport\",\"Peerspace\",\"GoSpotCheck\",\"Consider.co\",\"TripActions\",\"Lyric\",\"Rangle\",\"O'Reilly Media\",\"WanderJaunt\",\"OutboundEngine\",\"Wonderschool\",\"Overtime\",\"Jama\",\"Element Analytics\",\"Sonder\",\"Takl\",\"Foodsby\",\"Zeus Living\",\"TravelBank\",\"Compass\",\"Convene\",\"The Guild\",\"GrayMeta\",\"Triplebyte\",\"Ladder Life\",\"Peek\",\"CTO.ai\",\"Yonder\",\"Bounce\",\"Ejento\",\"Remote Year\",\"Lola\",\"Flytedesk\",\"Inspirato\",\"Help.com\",\"HopSkipDrive\",\"Panda Squad\",\"Tamara Mellon\",\"EasyPost\"],\"legendgroup\":\"\",\"marker\":{\"color\":[400.0,65.0,100.0,282.0,120.0,60.0,49.0,170.0,125.0,68.0,60.0,74.0,85.0,50.0,40.0,10.0,99.0,80.0,70.0,30.0,60.0,200.0,24.0,1000.0,200.0,100.0,100.0,80.0,20.0,31.0,15.0,145.0,150.0,145.0,40.0,8.0,30.0,150.0,1000.0,128.0,100.0,60.0,25.0,100.0,120.0,115.0,250.0,73.0,50.0,50.0,110.0,20.0,130.0,100.0,15.0,119.0,26.0,500.0,21.0,230.0,35.0,24.0,90.0,80.0,300.0,20.0,114.0,40.0,75.0,80.0,50.0,16.0,250.0,150.0,86.0,26.0,28.0,14.0,9.0,870.0,30.0,150.0,131.0,75.0,40.0,35.0,130.0,30.0,237.0,116.0,40.0,175.0,100.0,87.0,40.0,27.0,111.0,100.0,94.0,34.0,82.0,24.0,150.0,24.0,17.0,42.0,120.0,100.0,140.0,50.0,45.0,37.0,50.0,44.0,53.0,100.0,8.0,150.0,101.0,24.0,2500.0,283.0,125.0,100.0,30.0,60.0,20.0,200.0,59.0,55.0,100.0,350.0,54.0,60.0,57.0,42.0,37.0,30.0,300.0,300.0,100.0,70.0,70.0,58.0,18.0,150.0,106.0,40.0,80.0,13.0,12.0,200.0,61.0,60.0,60.0,350.0,90.0,60.0,46.0,87.0,450.0,80.0,67.0,28.0,80.0,1000.0,200.0,200.0,40.0,30.0,22.0,20.0,51.0,300.0,100.0,30.0,1000.0,134.0,98.0,20.0,30.0,230.0,181.0,35.0,30.0,30.0,28.0,20.0,90.0,47.0,37.0,50.0,30.0,75.0,38.0,37.0,48.0,170.0,45.0,100.0,45.0,900.0,80.0,8.0,150.0,100.0,80.0,128.0,60.0,186.0,155.0,140.0,1000.0,90.0,60.0,50.0,6.0,90.0,280.0,170.0,160.0,100.0,60.0,40.0,22.0,120.0,30.0,164.0,130.0,180.0,75.0,35.0,13.0,172.0,100.0,1000.0,30.0,63.0,40.0,420.0,340.0,79.0,20.0,97.0,100.0,70.0,5.0,251.0,70.0,90.0,30.0,30.0,20.0,100.0,70.0,22.0,50.0,27.0,250.0,34.0,150.0,177.0,71.0,28.0,100.0,90.0,45.0,43.0,29.0,300.0,30.0,400.0,115.0,70.0,8000.0,40.0,74.0,78.0,47.0,35.0,340.0,90.0,16.0,120.0,81.0,81.0,17.0,75.0,17.0,128.0,100.0,400.0,80.0,45.0,45.0,10.0,150.0,41.0,100.0,100.0,16.0,300.0,86.0,600.0,40.0,15.0,48.0,15.0,89.0,100.0,19.0,17.0,170.0,50.0,10.0,130.0,80.0,68.0,40.0,15.0,100.0,50.0,42.0,140.0,56.0,25.0,100.0,75.0,50.0,15.0,80.0,200.0,100.0,300.0,80.0,400.0,265.0,120.0,30.0,340.0,100.0,79.0,30.0,355.0,300.0,209.0,200.0,200.0,10.0,285.0,130.0,70.0,19.0,40.0,300.0,40.0,24.0,150.0,69.0,40.0,200.0,350.0,100.0,85.0,50.0,40.0,17.0,200.0,30.0,8.0,100.0,221.0,210.0,208.0,28.0,60.0,141.0,100.0,94.0,54.0,22.0,360.0,30.0,649.0,215.0,66.0,126.0,80.0,31.0,24.0,27.0,300.0,80.0,50.0,20.0,70.0,20.0,90.0,90.0,89.0,1500.0,127.0,119.0,100.0,100.0,80.0,40.0,38.0,90.0,56.0,44.0,24.0,17.0,100.0,60.0,54.0,19.0,140.0,65.0,60.0,19.0,138.0,100.0,100.0,73.0,29.0,21.0,19.0,25.0,250.0,130.0,80.0,245.0,50.0,40.0,21.0,16.0,11.0,150.0,50.0,30.0,30.0,20.0,380.0,130.0,47.0,31.0,30.0,22.0,115.0,100.0,30.0,137.0,100.0,70.0,31.0,20.0,206.0,150.0,142.0,110.0,100.0,44.0,500.0,75.0,50.0,120.0,100.0,40.0,900.0,200.0,140.0,40.0,120.0,115.0,111.0,110.0,105.0,104.0,100.0,64.0,22.0,640.0,250.0,123.0,100.0,80.0,41.0,33.0,120.0,100.0,60.0,60.0,55.0,40.0,40.0,25.0,50.0,275.0,200.0,40.0,104.0,60.0,40.0,30.0,30.0,30.0,30.0,25.0,76.0,20.0,76.0,35.0,99.0,93.0,50.0,65.0,26.0,30.0,24.0,80.0,60.0,100.0,50.0,40.0,160.0,78.0,35.0,43.0,20.0,113.0,85.0,62.0,20.0,254.0,250.0,198.0,160.0,95.0,80.0,43.0,30.0,25.0,385.0,312.0,260.0,237.0,235.0,150.0,130.0,95.0,40.0,30.0,27.0,50.0,32.0,20.0,16.0,13.0,90.0,65.0,30.0,600.0,150.0,100.0,100.0,47.0,110.0,100.0,88.0,48.0,1100.0,158.0,134.0,130.0,70.0,60.0,53.0,45.0,40.0,25.0,100.0,50.0,10.0,500.0,300.0,200.0,90.0,67.0,33.0,25.0,150.0,70.0,27.0,100.0,20.0,160.0,80.0,93.0,100.0,300.0,105.0,57.0,180.0,72.0,58.0,37.0,34.0,15.0,9.0,211.0,200.0,90.0,76.0,70.0,170.0,100.0,71.0,50.0,50.0,31.0,300.0,170.0,143.0,124.0,40.0,30.0,20.0,100.0,60.0,400.0,65.0,40.0,20.0,300.0,144.0,80.0,36.0,25.0,25.0,65.0,350.0,190.0,25.0,350.0,70.0,59.0,1000.0,150.0,60.0,156.0,142.0,134.0,100.0,100.0,50.0,10.0,259.0,100.0,70.0,70.0,70.0,50.0,24.0,10.0,300.0,60.0,30.0,25.0,23.0,100.0,32.0,210.0,84.0,13.0,200.0,173.0,94.0,150.0,30.0,17.0,400.0,198.0,100.0,50.0,62.0,23.0,120.0,43.0,30.0,227.0,64.0,23.0,20.0,250.0,32.0,20.0,84.0,50.0,50.0,24.0,378.0,2500.0,150.0,130.0,500.0,200.0,136.0,100.0,80.0,55.0,35.0,96.0,67.0,85.0,2000.0,110.0,50.0,50.0,65.0,40.0,40.0,40.0,180.0,70.0,26.0,24.0,110.0,100.0,100.0,109.0,78.0,200.0,29.0,190.0,40.0,35.0,59.0,50.0,100.0,80.0,25.0,11.0,58.0,5.0,200.0,55.0,23.0,150.0,50.0,49.0,45.0,27.0,40.0,30.0,23.0,100.0,90.0,55.0,12.0,100.0,45.0,40.0,29.0,26.0,81.0,38.0,30.0,300.0,95.0,20.0,140.0,15.0,180.0,138.0,50.0,31.0,29.0,100.0,13.0,50.0,40.0,35.0,125.0,83.0,74.0,54.0,52.0,50.0,80.0,12.0,5.0,11.0,175.0,90.0,60.0,54.0,30.0,7.0,47.0,30.0,400.0,60.0,60.0,50.0,48.0,12.0,500.0,36.0,50.0,31.0,216.0,200.0,80.0,73.0,70.0,149.0,47.0,13.0,100.0,90.0,80.0,60.0,54.0,30.0,23.0,19.0,58.0,75.0,16.0,1000.0,125.0,50.0,43.0,40.0,22.0,136.0,60.0,22.0,39.0,30.0,30.0,90.0,40.0,23.0,20.0,50.0,45.0,28.0,15.0,150.0,140.0,95.0,63.0,60.0,11.0,200.0,75.0,60.0,57.0,30.0,23.0,15.0,13.0,450.0,38.0,28.0,28.0,94.0,68.0,30.0,100.0,63.0,24.0,23.0,85.0,54.0,42.0,39.0,300.0,262.0,120.0,100.0,100.0,70.0,12.0,7.0,1500.0,150.0,45.0,242.0,63.0,24.0,1500.0,1000.0,156.0,150.0,150.0,40.0,30.0,100.0,35.0,30.0,15.0,384.0,120.0,100.0,80.0,31.0,30.0,27.0,20.0,13.0,80.0,27.0,18.0,540.0,150.0,85.0,52.0,15.0,170.0,40.0,30.0,30.0,20.0,14.0,12.0,85.0,80.0,80.0,76.0,60.0,40.0,18.0,16.0,13.0,300.0,120.0,110.0,80.0,50.0,30.0,18.0,180.0,27.0,43.0,270.0,90.0,41.0,40.0,70.0,22.0,15.0,8.0,120.0,70.0,35.0,35.0,30.0,23.0,340.0,40.0,24.0,600.0,101.0,100.0,80.0,30.0,30.0,191.0,9.0,150.0,150.0,69.0,16.0,50.0,45.0,40.0,250.0,159.0,150.0,110.0,60.0,23.0,15.0,14.0,10.0,75.0,50.0,30.0,24.0,250.0,56.0,33.0,260.0,250.0,100.0,60.0,45.0,20.0,950.0,200.0,90.0,80.0,31.0,26.0,150.0,150.0,50.0,180.0,150.0,130.0,40.0,60.0,50.0,40.0,60.0,23.0,250.0,170.0,170.0,140.0,100.0,100.0,59.0,30.0,29.0,25.0,100.0,100.0,90.0,65.0,34.0,31.0,30.0,25.0,50.0,44.0,30.0,12.0,100.0,100.0,145.0,40.0,29.0,80.0,50.0,300.0,240.0,75.0,50.0,45.0,30.0,300.0,200.0,40.0,700.0,80.0,65.0,60.0,30.0,600.0,87.0,600.0,424.0,100.0,90.0,100.0,22.0,150.0,32.0,70.0,200.0,350.0,750.0,200.0,90.0,72.0,300.0,97.0,87.0,45.0,40.0,25.0,500.0,495.0,150.0,50.0,29.0,22.0,180.0,260.0,160.0,159.0,44.0,100.0,150.0,1000.0,450.0,75.0,20.0,59.0,450.0,180.0,150.0,300.0,115.0,3000.0,100.0,500.0,30.0,150.0,111.0,100.0,119.0,138.0,60.0,57.0,100.0,80.0,900.0,22.0,41.0,30.0,37.0,1800.0,80.0,2434.0,65.0,36.0,200.0,200.0,243.0,80.0,13.0,45.0,1800.0,20.0,1877.0,21.0,120.0,600.0,5.0,154.0,18.0,30.0,82.0,20.0,8.0,90.0,47.0,240.0,22.0,8.0,250.0,20.0,150.0,75.0,56.0,180.0,350.0,75.0,64.0,22.0,120.0,60.0,140.0,100.0,56.0,18.0,12.0,5.0,17.0,400.0,130.0,100.0,61.0,430.0,90.0,6.0,200.0,15.0,40.0,1500.0,360.0,44.0,63.0,120.0,3.0,10.0,26.0,46.0,18.0,50.0,39.0,120.0,70.0,40.0,22.0,40.0,14.0,12.0,24.0,62.0,32.0,270.0,36.0,20.0,62.0,50.0,200.0,21.0,70.0,18.0,1400.0,300.0,221.0,112.0,101.0,39.0,450.0,69.0,10.0,1100.0,100.0,57.0,45.0,250.0,520.0,500.0,16.0,35.0,30.0,669.0,51.0,25.0,17.0,73.0,65.0,36.0,16.0,60.0,28.0,9.0,62.0,60.0,55.0,28.0,130.0,50.0,1900.0,900.0,135.0,40.0,31.0,25.0,800.0,400.0,63.0,62.0,60.0,11.0,120.0,150.0,110.0,95.0,80.0,70.0,35.0,26.0,300.0,124.0,80.0,24.0,391.0,367.0,80.0,35.0,27.0,20.0,260.0,20.0,500.0,250.0,30.0,57.0,36.0,19.0,18.0,15.0,10.0,6.0,4.0,100.0,87.0,80.0,70.0,6.0,1000.0,55.0,10.0,800.0,500.0,155.0,40.0,38.0,30.0,19.0,13.0,10.0,300.0,91.0,90.0,90.0,33.0,28.0,23.0,10.0,200.0,140.0,120.0,88.0,47.0,44.0,40.0,35.0,30.0,13.0,65.0,60.0,600.0,200.0,200.0,161.0,100.0,40.0,15.0,14.0,13.0,131.0,58.0,45.0,21.0,15.0,10.0,100.0,70.0,50.0,17.0,201.0,35.0,30.0,28.0,20.0,16.0,6.0,5.0,165.0,150.0,136.0,90.0,40.0,36.0,25.0,14.0,8.0,200.0,92.0,89.0,86.0,80.0,48.0,40.0,30.0,25.0,21.0,18.0,17.0,11.0,4.0,1300.0,400.0,100.0,94.0,87.0,65.0,60.0,53.0,50.0,46.0,30.0,100.0,100.0,77.0,60.0,24.0,23.0,15.0,10.0,40.0,50.0,467.0,300.0,167.0,147.0,140.0,120.0,100.0,75.0,60.0,35.0,34.0,24.0,19.0,18.0,17.0,14.0,12.0,10.0,5.0,240.0,196.0,154.0,100.0,100.0,90.0,70.0,65.0,60.0,40.0,39.0,35.0,35.0,30.0,30.0,26.0,23.0,7.0,6.0,5.0,200.0,200.0,100.0,52.0,51.0,50.0,46.0,45.0,28.0,24.0,20.0,18.0,17.0,15.0,9.0,349.0,210.0,194.0,108.0,65.0,40.0,20.0,17.0,5.0,250.0,120.0,80.0,70.0,51.0,30.0,30.0,30.0,25.0,20.0,9.0,400.0,17.0,10.0,250.0,250.0,451.0,406.0,250.0,227.0,200.0,175.0,130.0,127.0,100.0,75.0,60.0,47.0,47.0,40.0,30.0,30.0,20.0,10.0,250.0,200.0,50.0,47.0,44.0,41.0,23.0,13.0,300.0,100.0,78.0,75.0,56.0,52.0,50.0,30.0,12.0,10.0,400.0,130.0,87.0,80.0,20.0,375.0,150.0,38.0,20.0,15.0,13.0,45.0,30.0,18.0,120.0,84.0,50.0,34.0,4.0,130.0,16.0,8.0,6.0,20.0,75.0],\"coloraxis\":\"coloraxis\",\"symbol\":\"circle\"},\"mode\":\"markers\",\"name\":\"\",\"showlegend\":false,\"x\":[3600.0,299.0,724.0,1500.0,625.0,0.0,183.0,995.0,320.0,131.0,274.0,168.0,229.0,197.0,2700.0,230.0,263.0,138.0,164.0,199.0,632.0,26.0,0.0,0.0,1700.0,733.0,1500.0,1800.0,385.0,0.0,302.0,2200.0,120.0,2200.0,35.0,185.0,700.0,1100.0,9400.0,390.0,16.0,214.0,79.0,19.0,100.0,1700.0,1700.0,106.0,153.0,0.0,453.0,0.0,365.0,0.0,0.0,218.0,67.0,1100.0,16.0,705.0,64.0,38.0,112.0,537.0,61.0,86.0,522.0,167.0,0.0,54.0,315.0,0.0,730.0,536.0,50.0,70.0,123.0,1700.0,5.0,6400.0,137.0,458.0,263.0,170.0,465.0,51.0,390.0,131.0,1400.0,817.0,456.0,224.0,0.0,389.0,71.0,296.0,42.0,468.0,180.0,94.0,0.0,40.0,90.0,11.0,149.0,187.0,464.0,80.0,198.0,14.0,217.0,1.0,14.0,301.0,103.0,121.0,4.0,220.0,192.0,0.0,1800.0,157.0,0.0,0.0,42.0,111.0,297.0,0.0,672.0,261.0,770.0,375.0,75.0,107.0,0.0,234.0,995.0,5.0,513.0,435.0,567.0,274.0,148.0,105.0,42.0,110.0,389.0,57.0,89.0,12.0,149.0,46.0,149.0,9.0,569.0,103.0,1500.0,351.0,322.0,255.0,0.0,0.0,111.0,32.0,165.0,0.0,659.0,17.0,2700.0,256.0,0.0,220.0,0.0,363.0,274.0,0.0,1400.0,711.0,0.0,156.0,47.0,770.0,216.0,100.0,138.0,0.0,65.0,0.0,537.0,169.0,81.0,181.0,1100.0,148.0,134.0,686.0,88.0,24.0,116.0,51.0,0.0,84.0,111.0,119.0,529.0,469.0,253.0,40.0,288.0,229.0,891.0,644.0,5500.0,1300.0,165.0,364.0,23.0,307.0,0.0,192.0,9.0,216.0,214.0,173.0,181.0,330.0,254.0,224.0,817.0,292.0,50.0,12.0,22.0,643.0,1000.0,0.0,150.0,621.0,480.0,700.0,2100.0,0.0,87.0,992.0,121.0,0.0,11.0,1100.0,118.0,0.0,205.0,100.0,34.0,1300.0,185.0,28.0,146.0,105.0,0.0,114.0,2.0,0.0,1700.0,94.0,110.0,150.0,26.0,140.0,5.0,0.0,79.0,17.0,272.0,272.0,1000.0,337.0,411.0,50.0,190.0,192.0,0.0,257.0,149.0,0.0,304.0,389.0,579.0,85.0,18.0,849.0,282.0,86.0,105.0,19.0,399.0,13.0,71.0,222.0,138.0,120.0,0.0,382.0,150.0,0.0,30.0,37.0,339.0,42.0,130.0,50.0,24.0,116.0,250.0,146.0,15.0,131.0,331.0,0.0,101.0,62.0,431.0,148.0,477.0,778.0,17.0,24.0,581.0,487.0,106.0,16.0,0.0,0.0,3400.0,177.0,619.0,16.0,0.0,631.0,116.0,788.0,59.0,461.0,13.0,2100.0,482.0,5500.0,495.0,102.0,39.0,462.0,283.0,489.0,126.0,401.0,1300.0,465.0,263.0,442.0,0.0,76.0,0.0,214.0,451.0,26.0,406.0,52.0,0.0,79.0,1000.0,10.0,302.0,1100.0,720.0,22.0,435.0,2.0,212.0,0.0,225.0,719.0,170.0,138.0,0.0,526.0,856.0,192.0,746.0,583.0,168.0,85.0,56.0,507.0,0.0,19.0,496.0,183.0,42.0,396.0,150.0,10.0,5500.0,160.0,476.0,1800.0,644.0,0.0,55.0,1500.0,415.0,215.0,536.0,100.0,28.0,1300.0,235.0,12.0,80.0,1900.0,205.0,0.0,101.0,0.0,390.0,0.0,0.0,100.0,45.0,21.0,1.0,0.0,171.0,646.0,379.0,1300.0,36.0,41.0,14.0,0.0,2700.0,320.0,23.0,97.0,69.0,3600.0,307.0,169.0,14.0,1.0,64.0,153.0,965.0,269.0,69.0,416.0,300.0,47.0,491.0,2400.0,253.0,87.0,336.0,218.0,31.0,1700.0,17.0,698.0,126.0,104.0,21.0,0.0,5000.0,0.0,101.0,410.0,28.0,42.0,490.0,328.0,556.0,41.0,334.0,51.0,2400.0,3500.0,565.0,205.0,244.0,94.0,133.0,95.0,726.0,190.0,36.0,178.0,0.0,111.0,383.0,160.0,2.0,522.0,214.0,646.0,0.0,472.0,176.0,116.0,178.0,50.0,62.0,282.0,274.0,620.0,39.0,0.0,1000.0,25.0,50.0,10.0,29.0,26.0,379.0,76.0,686.0,215.0,64.0,698.0,514.0,51.0,240.0,94.0,174.0,73.0,442.0,537.0,1400.0,3600.0,82.0,138.0,220.0,205.0,459.0,153.0,537.0,292.0,788.0,734.0,567.0,55.0,125.0,515.0,613.0,2300.0,114.0,115.0,302.0,480.0,165.0,0.0,36.0,0.0,265.0,103.0,4000.0,100.0,0.0,1700.0,184.0,372.0,194.0,0.0,212.0,134.0,191.0,140.0,850.0,64.0,145.0,544.0,118.0,0.0,149.0,378.0,144.0,1.0,604.0,260.0,0.0,483.0,245.0,100.0,87.0,1700.0,157.0,43.0,17.0,3.0,92.0,1000.0,804.0,914.0,2100.0,459.0,34.0,472.0,281.0,54.0,281.0,73.0,278.0,35.0,157.0,889.0,452.0,56.0,436.0,507.0,0.0,154.0,28.0,256.0,164.0,200.0,405.0,90.0,240.0,100.0,6.0,12.0,597.0,593.0,1500.0,119.0,18.0,11.0,310.0,686.0,165.0,20.0,475.0,69.0,257.0,838.0,280.0,148.0,1500.0,180.0,60.0,2300.0,428.0,154.0,2300.0,468.0,607.0,92.0,188.0,103.0,0.0,3600.0,148.0,377.0,477.0,479.0,300.0,56.0,0.0,568.0,213.0,11.0,85.0,17.0,35.0,0.0,163.0,277.0,328.0,750.0,3600.0,0.0,553.0,142.0,15.0,462.0,849.0,214.0,336.0,86.0,36.0,138.0,30.0,4.0,127.0,151.0,203.0,5.0,3400.0,177.0,88.0,1700.0,189.0,0.0,235.0,0.0,5500.0,426.0,17.0,657.0,450.0,1500.0,217.0,20.0,235.0,2.0,103.0,315.0,30.0,156.0,347.0,1900.0,29.0,105.0,35.0,173.0,180.0,706.0,150.0,166.0,474.0,1400.0,3700.0,1.0,8.0,190.0,5000.0,75.0,140.0,271.0,67.0,137.0,604.0,1800.0,413.0,81.0,17.0,145.0,413.0,686.0,120.0,120.0,173.0,172.0,240.0,469.0,143.0,42.0,41.0,91.0,250.0,379.0,95.0,67.0,188.0,496.0,44.0,169.0,0.0,212.0,123.0,47.0,1100.0,44.0,78.0,117.0,24.0,646.0,472.0,91.0,114.0,3.0,1.0,187.0,2300.0,0.0,215.0,80.0,0.0,0.0,74.0,0.0,104.0,293.0,205.0,11.0,15.0,255.0,218.0,201.0,42.0,204.0,26.0,40.0,105.0,300.0,338.0,504.0,165.0,114.0,102.0,507.0,188.0,28.0,42.0,0.0,652.0,166.0,20.0,163.0,244.0,39.0,39.0,292.0,107.0,175.0,489.0,26.0,26.0,75.0,266.0,58.0,18.0,15.0,5000.0,681.0,229.0,58.0,65.0,11.0,405.0,51.0,1.0,307.0,98.0,60.0,214.0,41.0,22.0,279.0,69.0,58.0,15.0,328.0,490.0,0.0,404.0,329.0,72.0,42.0,310.0,992.0,48.0,125.0,51.0,159.0,58.0,1.0,856.0,323.0,766.0,0.0,200.0,423.0,245.0,31.0,817.0,265.0,27.0,202.0,115.0,7.0,240.0,292.0,450.0,336.0,89.0,64.0,23.0,120.0,2100.0,3400.0,63.0,153.0,1000.0,174.0,74.0,184.0,50.0,127.0,3600.0,881.0,20.0,78.0,496.0,64.0,77.0,64.0,788.0,194.0,322.0,569.0,240.0,300.0,583.0,28.0,71.0,335.0,69.0,90.0,1300.0,864.0,26.0,0.0,169.0,3.0,480.0,47.0,849.0,58.0,22.0,106.0,770.0,811.0,347.0,153.0,8.0,13.0,25.0,13.0,82.0,2.0,690.0,163.0,690.0,71.0,250.0,20.0,1500.0,61.0,106.0,546.0,124.0,137.0,406.0,500.0,19.0,159.0,10.0,461.0,171.0,261.0,515.0,51.0,134.0,460.0,40.0,248.0,0.0,7.0,1000.0,12.0,27.0,145.0,112.0,30.0,838.0,9400.0,646.0,49.0,430.0,178.0,1600.0,169.0,900.0,863.0,213.0,65.0,83.0,7.0,223.0,20.0,36.0,6.0,6.0,204.0,1000.0,65.0,50.0,156.0,150.0,1000.0,11.0,133.0,175.0,926.0,0.0,1100.0,82.0,61.0,100.0,1600.0,255.0,26.0,172.0,149.0,275.0,11.0,681.0,603.0,1200.0,0.0,108.0,522.0,31.0,286.0,3.0,0.0,423.0,325.0,76.0,28.0,197.0,750.0,2.0,250.0,182.0,203.0,136.0,32.0,202.0,85.0,110.0,49.0,26.0,375.0,50.0,17.0,23.0,118.0,378.0,0.0,1900.0,1300.0,121.0,53.0,42.0,70.0,1300.0,20.0,256.0,3700.0,11.0,16.0,537.0,33.0,97.0,174.0,1300.0,292.0,568.0,195.0,29.0,130.0,619.0,37.0,1000.0,238.0,293.0,1500.0,292.0,192.0,20.0,3.0,41.0,165.0,64.0,7.0,128.0,45.0,657.0,130.0,0.0,27.0,58.0,917.0,502.0,755.0,788.0,9.0,329.0,1100.0,838.0,752.0,0.0,42.0,40.0,3400.0,228.0,19.0,62.0,654.0,905.0,289.0,1400.0,85.0,24.0,368.0,118.0,35.0,1000.0,120.0,133.0,3400.0,266.0,905.0,356.0,12.0,1000.0,14.0,9400.0,17.0,1600.0,122.0,165.0,194.0,214.2,305.0,1200.0,0.0,61.0,7400.0,150.0,2400.0,20.0,131.0,3200.0,3.0,45.0,0.0,3.8,12.5,560.0,8.0,656.0,356.0,157.9,97.0,15.5,2.3,0.9755,186.4,53.0,20.0,649.0,1600.0,60.18,309.0,15.0,404.6,251.2,70.0,307.0,117.0,38.0,19.0,57.8,100.8,1300.0,214.2,3600.0,101.6,4800.0,103.0,3.0,19500.0,32.0,582.0,496.0,9900.0,50.0,50.0,0.0,2.0,0.0,39.6,139.0,106.0,52.0,29.0,324.0,1.0,117.0,120.0,3100.0,453.0,58.0,24.0,732.0,17.0,224.0,157.0,7.0,30.0,207.0,247.0,0.0,3.0,30.0,3800.0,530.0,62.0,2500.0,222.0,240.0,157.0,88.0,0.0,1600.0,19500.0,553.0,0.0,300.0,914.0,200.0,49.0,73.0,69.0,80.0,2.0,10.0,46.0,79.0,77.0,52.0,104.0,837.0,133.0,782.0,78.0,263.0,145.0,92.0,0.0,283.0,5400.0,1500.0,181.0,68.0,90.0,84.0,404.0,175.0,7.0,257.0,106.0,11.0,386.0,2400.0,217.0,102.0,82.0,10.0,80.0,28.0,2250.0,89.0,765.0,128.0,0.0,1500.0,156.0,70.0,71.0,2.0,840.0,24.0,2400.0,0.0,17.0,88.0,60.0,7.0,15.0,30.0,29.0,12.0,2.0,160.0,583.0,274.0,1300.0,68.0,2600.0,24.0,52.0,1600.0,2200.0,613.0,42.0,75.0,165.0,48.0,0.0,84.0,521.0,10.0,58.0,38.0,1.0,71.0,50.0,100.0,293.0,37.0,110.0,335.0,263.0,307.0,34.0,478.0,100.0,1.0,42.0,76.0,1500.0,19.0,423.0,447.0,160.0,72.0,40.0,51.0,34.0,224.0,59.0,90.0,132.0,190.0,5.0,955.0,120.0,12.0,119.0,185.0,3.0,14.0,29.0,85.0,35.0,1.0,0.0,324.0,410.0,26.0,114.0,59.0,28.0,137.5,0.0,32.0,215.0,95.0,40.0,72.0,91.0,64.0,40.0,65.0,0.0,106.0,23.0,0.0,16.0,26.0,902.0,319.0,367.0,0.0,85.0,175.0,181.0,607.0,190.0,0.0,99.0,293.0,0.7,75.0,0.0,92.0,21.0,72.0,50.0,100.0,348.0,300.0,162.0,0.0,297.0,225.0,955.0,0.0,35.0,97.0,40.0,247.0,80.0,80.0,24.0,14.0,0.0,4.0,0.0,0.0,1200.0,112.0,549.0,109.0,167.0,222.0,253.0,68.0,152.0,122.0,118.0,102.0,114.0,50.0,151.0,40.0,16.0,2.0,8.0,6.0,48.0,0.0,75.0,159.0,8.5,190.0,52.0,143.0,0.0,100.0,16.0,11.0,50.0,46.0,15.0,227.0,89.0,310.0,467.0,69.0,55.0,26.0,91.0,26.0,423.0,423.0,48.0,45.0,110.0,0.0,110.0,82.0,18.0,75.0,15.0,219.0,25.0,13.0,47.0,2250.0,3000.0,623.0,95.0,18.0,430.0,127.0,77.0,560.0,403.0,133.0,12.0,49.0,263.0,20.0,60.0,41.0,25.0,68.0,88.0,0.0,149.0,149.0,123.0,34.0,47.0,5.0,981.0,179.1,0.0,0.0,26.0,48.0,24.0,35.0,233.0,22.0,359.0,0.0,20.0,79.0,35.0,1600.0,280.0,36.0,7.0,48.0,94.0,39.0,7.0,16.0,214.0,0.0,17.0,81.0,4.0,79.0,6.0,45.0,1.0,90.0,12.0],\"xaxis\":\"x\",\"y\":[400.0,65.0,100.0,282.0,120.0,60.0,49.0,170.0,125.0,68.0,60.0,74.0,85.0,50.0,40.0,10.0,99.0,80.0,70.0,30.0,60.0,200.0,24.0,1000.0,200.0,100.0,100.0,80.0,20.0,31.0,15.0,145.0,150.0,145.0,40.0,8.0,30.0,150.0,1000.0,128.0,100.0,60.0,25.0,100.0,120.0,115.0,250.0,73.0,50.0,50.0,110.0,20.0,130.0,100.0,15.0,119.0,26.0,500.0,21.0,230.0,35.0,24.0,90.0,80.0,300.0,20.0,114.0,40.0,75.0,80.0,50.0,16.0,250.0,150.0,86.0,26.0,28.0,14.0,9.0,870.0,30.0,150.0,131.0,75.0,40.0,35.0,130.0,30.0,237.0,116.0,40.0,175.0,100.0,87.0,40.0,27.0,111.0,100.0,94.0,34.0,82.0,24.0,150.0,24.0,17.0,42.0,120.0,100.0,140.0,50.0,45.0,37.0,50.0,44.0,53.0,100.0,8.0,150.0,101.0,24.0,2500.0,283.0,125.0,100.0,30.0,60.0,20.0,200.0,59.0,55.0,100.0,350.0,54.0,60.0,57.0,42.0,37.0,30.0,300.0,300.0,100.0,70.0,70.0,58.0,18.0,150.0,106.0,40.0,80.0,13.0,12.0,200.0,61.0,60.0,60.0,350.0,90.0,60.0,46.0,87.0,450.0,80.0,67.0,28.0,80.0,1000.0,200.0,200.0,40.0,30.0,22.0,20.0,51.0,300.0,100.0,30.0,1000.0,134.0,98.0,20.0,30.0,230.0,181.0,35.0,30.0,30.0,28.0,20.0,90.0,47.0,37.0,50.0,30.0,75.0,38.0,37.0,48.0,170.0,45.0,100.0,45.0,900.0,80.0,8.0,150.0,100.0,80.0,128.0,60.0,186.0,155.0,140.0,1000.0,90.0,60.0,50.0,6.0,90.0,280.0,170.0,160.0,100.0,60.0,40.0,22.0,120.0,30.0,164.0,130.0,180.0,75.0,35.0,13.0,172.0,100.0,1000.0,30.0,63.0,40.0,420.0,340.0,79.0,20.0,97.0,100.0,70.0,5.0,251.0,70.0,90.0,30.0,30.0,20.0,100.0,70.0,22.0,50.0,27.0,250.0,34.0,150.0,177.0,71.0,28.0,100.0,90.0,45.0,43.0,29.0,300.0,30.0,400.0,115.0,70.0,8000.0,40.0,74.0,78.0,47.0,35.0,340.0,90.0,16.0,120.0,81.0,81.0,17.0,75.0,17.0,128.0,100.0,400.0,80.0,45.0,45.0,10.0,150.0,41.0,100.0,100.0,16.0,300.0,86.0,600.0,40.0,15.0,48.0,15.0,89.0,100.0,19.0,17.0,170.0,50.0,10.0,130.0,80.0,68.0,40.0,15.0,100.0,50.0,42.0,140.0,56.0,25.0,100.0,75.0,50.0,15.0,80.0,200.0,100.0,300.0,80.0,400.0,265.0,120.0,30.0,340.0,100.0,79.0,30.0,355.0,300.0,209.0,200.0,200.0,10.0,285.0,130.0,70.0,19.0,40.0,300.0,40.0,24.0,150.0,69.0,40.0,200.0,350.0,100.0,85.0,50.0,40.0,17.0,200.0,30.0,8.0,100.0,221.0,210.0,208.0,28.0,60.0,141.0,100.0,94.0,54.0,22.0,360.0,30.0,649.0,215.0,66.0,126.0,80.0,31.0,24.0,27.0,300.0,80.0,50.0,20.0,70.0,20.0,90.0,90.0,89.0,1500.0,127.0,119.0,100.0,100.0,80.0,40.0,38.0,90.0,56.0,44.0,24.0,17.0,100.0,60.0,54.0,19.0,140.0,65.0,60.0,19.0,138.0,100.0,100.0,73.0,29.0,21.0,19.0,25.0,250.0,130.0,80.0,245.0,50.0,40.0,21.0,16.0,11.0,150.0,50.0,30.0,30.0,20.0,380.0,130.0,47.0,31.0,30.0,22.0,115.0,100.0,30.0,137.0,100.0,70.0,31.0,20.0,206.0,150.0,142.0,110.0,100.0,44.0,500.0,75.0,50.0,120.0,100.0,40.0,900.0,200.0,140.0,40.0,120.0,115.0,111.0,110.0,105.0,104.0,100.0,64.0,22.0,640.0,250.0,123.0,100.0,80.0,41.0,33.0,120.0,100.0,60.0,60.0,55.0,40.0,40.0,25.0,50.0,275.0,200.0,40.0,104.0,60.0,40.0,30.0,30.0,30.0,30.0,25.0,76.0,20.0,76.0,35.0,99.0,93.0,50.0,65.0,26.0,30.0,24.0,80.0,60.0,100.0,50.0,40.0,160.0,78.0,35.0,43.0,20.0,113.0,85.0,62.0,20.0,254.0,250.0,198.0,160.0,95.0,80.0,43.0,30.0,25.0,385.0,312.0,260.0,237.0,235.0,150.0,130.0,95.0,40.0,30.0,27.0,50.0,32.0,20.0,16.0,13.0,90.0,65.0,30.0,600.0,150.0,100.0,100.0,47.0,110.0,100.0,88.0,48.0,1100.0,158.0,134.0,130.0,70.0,60.0,53.0,45.0,40.0,25.0,100.0,50.0,10.0,500.0,300.0,200.0,90.0,67.0,33.0,25.0,150.0,70.0,27.0,100.0,20.0,160.0,80.0,93.0,100.0,300.0,105.0,57.0,180.0,72.0,58.0,37.0,34.0,15.0,9.0,211.0,200.0,90.0,76.0,70.0,170.0,100.0,71.0,50.0,50.0,31.0,300.0,170.0,143.0,124.0,40.0,30.0,20.0,100.0,60.0,400.0,65.0,40.0,20.0,300.0,144.0,80.0,36.0,25.0,25.0,65.0,350.0,190.0,25.0,350.0,70.0,59.0,1000.0,150.0,60.0,156.0,142.0,134.0,100.0,100.0,50.0,10.0,259.0,100.0,70.0,70.0,70.0,50.0,24.0,10.0,300.0,60.0,30.0,25.0,23.0,100.0,32.0,210.0,84.0,13.0,200.0,173.0,94.0,150.0,30.0,17.0,400.0,198.0,100.0,50.0,62.0,23.0,120.0,43.0,30.0,227.0,64.0,23.0,20.0,250.0,32.0,20.0,84.0,50.0,50.0,24.0,378.0,2500.0,150.0,130.0,500.0,200.0,136.0,100.0,80.0,55.0,35.0,96.0,67.0,85.0,2000.0,110.0,50.0,50.0,65.0,40.0,40.0,40.0,180.0,70.0,26.0,24.0,110.0,100.0,100.0,109.0,78.0,200.0,29.0,190.0,40.0,35.0,59.0,50.0,100.0,80.0,25.0,11.0,58.0,5.0,200.0,55.0,23.0,150.0,50.0,49.0,45.0,27.0,40.0,30.0,23.0,100.0,90.0,55.0,12.0,100.0,45.0,40.0,29.0,26.0,81.0,38.0,30.0,300.0,95.0,20.0,140.0,15.0,180.0,138.0,50.0,31.0,29.0,100.0,13.0,50.0,40.0,35.0,125.0,83.0,74.0,54.0,52.0,50.0,80.0,12.0,5.0,11.0,175.0,90.0,60.0,54.0,30.0,7.0,47.0,30.0,400.0,60.0,60.0,50.0,48.0,12.0,500.0,36.0,50.0,31.0,216.0,200.0,80.0,73.0,70.0,149.0,47.0,13.0,100.0,90.0,80.0,60.0,54.0,30.0,23.0,19.0,58.0,75.0,16.0,1000.0,125.0,50.0,43.0,40.0,22.0,136.0,60.0,22.0,39.0,30.0,30.0,90.0,40.0,23.0,20.0,50.0,45.0,28.0,15.0,150.0,140.0,95.0,63.0,60.0,11.0,200.0,75.0,60.0,57.0,30.0,23.0,15.0,13.0,450.0,38.0,28.0,28.0,94.0,68.0,30.0,100.0,63.0,24.0,23.0,85.0,54.0,42.0,39.0,300.0,262.0,120.0,100.0,100.0,70.0,12.0,7.0,1500.0,150.0,45.0,242.0,63.0,24.0,1500.0,1000.0,156.0,150.0,150.0,40.0,30.0,100.0,35.0,30.0,15.0,384.0,120.0,100.0,80.0,31.0,30.0,27.0,20.0,13.0,80.0,27.0,18.0,540.0,150.0,85.0,52.0,15.0,170.0,40.0,30.0,30.0,20.0,14.0,12.0,85.0,80.0,80.0,76.0,60.0,40.0,18.0,16.0,13.0,300.0,120.0,110.0,80.0,50.0,30.0,18.0,180.0,27.0,43.0,270.0,90.0,41.0,40.0,70.0,22.0,15.0,8.0,120.0,70.0,35.0,35.0,30.0,23.0,340.0,40.0,24.0,600.0,101.0,100.0,80.0,30.0,30.0,191.0,9.0,150.0,150.0,69.0,16.0,50.0,45.0,40.0,250.0,159.0,150.0,110.0,60.0,23.0,15.0,14.0,10.0,75.0,50.0,30.0,24.0,250.0,56.0,33.0,260.0,250.0,100.0,60.0,45.0,20.0,950.0,200.0,90.0,80.0,31.0,26.0,150.0,150.0,50.0,180.0,150.0,130.0,40.0,60.0,50.0,40.0,60.0,23.0,250.0,170.0,170.0,140.0,100.0,100.0,59.0,30.0,29.0,25.0,100.0,100.0,90.0,65.0,34.0,31.0,30.0,25.0,50.0,44.0,30.0,12.0,100.0,100.0,145.0,40.0,29.0,80.0,50.0,300.0,240.0,75.0,50.0,45.0,30.0,300.0,200.0,40.0,700.0,80.0,65.0,60.0,30.0,600.0,87.0,600.0,424.0,100.0,90.0,100.0,22.0,150.0,32.0,70.0,200.0,350.0,750.0,200.0,90.0,72.0,300.0,97.0,87.0,45.0,40.0,25.0,500.0,495.0,150.0,50.0,29.0,22.0,180.0,260.0,160.0,159.0,44.0,100.0,150.0,1000.0,450.0,75.0,20.0,59.0,450.0,180.0,150.0,300.0,115.0,3000.0,100.0,500.0,30.0,150.0,111.0,100.0,119.0,138.0,60.0,57.0,100.0,80.0,900.0,22.0,41.0,30.0,37.0,1800.0,80.0,2434.0,65.0,36.0,200.0,200.0,243.0,80.0,13.0,45.0,1800.0,20.0,1877.0,21.0,120.0,600.0,5.0,154.0,18.0,30.0,82.0,20.0,8.0,90.0,47.0,240.0,22.0,8.0,250.0,20.0,150.0,75.0,56.0,180.0,350.0,75.0,64.0,22.0,120.0,60.0,140.0,100.0,56.0,18.0,12.0,5.0,17.0,400.0,130.0,100.0,61.0,430.0,90.0,6.0,200.0,15.0,40.0,1500.0,360.0,44.0,63.0,120.0,3.0,10.0,26.0,46.0,18.0,50.0,39.0,120.0,70.0,40.0,22.0,40.0,14.0,12.0,24.0,62.0,32.0,270.0,36.0,20.0,62.0,50.0,200.0,21.0,70.0,18.0,1400.0,300.0,221.0,112.0,101.0,39.0,450.0,69.0,10.0,1100.0,100.0,57.0,45.0,250.0,520.0,500.0,16.0,35.0,30.0,669.0,51.0,25.0,17.0,73.0,65.0,36.0,16.0,60.0,28.0,9.0,62.0,60.0,55.0,28.0,130.0,50.0,1900.0,900.0,135.0,40.0,31.0,25.0,800.0,400.0,63.0,62.0,60.0,11.0,120.0,150.0,110.0,95.0,80.0,70.0,35.0,26.0,300.0,124.0,80.0,24.0,391.0,367.0,80.0,35.0,27.0,20.0,260.0,20.0,500.0,250.0,30.0,57.0,36.0,19.0,18.0,15.0,10.0,6.0,4.0,100.0,87.0,80.0,70.0,6.0,1000.0,55.0,10.0,800.0,500.0,155.0,40.0,38.0,30.0,19.0,13.0,10.0,300.0,91.0,90.0,90.0,33.0,28.0,23.0,10.0,200.0,140.0,120.0,88.0,47.0,44.0,40.0,35.0,30.0,13.0,65.0,60.0,600.0,200.0,200.0,161.0,100.0,40.0,15.0,14.0,13.0,131.0,58.0,45.0,21.0,15.0,10.0,100.0,70.0,50.0,17.0,201.0,35.0,30.0,28.0,20.0,16.0,6.0,5.0,165.0,150.0,136.0,90.0,40.0,36.0,25.0,14.0,8.0,200.0,92.0,89.0,86.0,80.0,48.0,40.0,30.0,25.0,21.0,18.0,17.0,11.0,4.0,1300.0,400.0,100.0,94.0,87.0,65.0,60.0,53.0,50.0,46.0,30.0,100.0,100.0,77.0,60.0,24.0,23.0,15.0,10.0,40.0,50.0,467.0,300.0,167.0,147.0,140.0,120.0,100.0,75.0,60.0,35.0,34.0,24.0,19.0,18.0,17.0,14.0,12.0,10.0,5.0,240.0,196.0,154.0,100.0,100.0,90.0,70.0,65.0,60.0,40.0,39.0,35.0,35.0,30.0,30.0,26.0,23.0,7.0,6.0,5.0,200.0,200.0,100.0,52.0,51.0,50.0,46.0,45.0,28.0,24.0,20.0,18.0,17.0,15.0,9.0,349.0,210.0,194.0,108.0,65.0,40.0,20.0,17.0,5.0,250.0,120.0,80.0,70.0,51.0,30.0,30.0,30.0,25.0,20.0,9.0,400.0,17.0,10.0,250.0,250.0,451.0,406.0,250.0,227.0,200.0,175.0,130.0,127.0,100.0,75.0,60.0,47.0,47.0,40.0,30.0,30.0,20.0,10.0,250.0,200.0,50.0,47.0,44.0,41.0,23.0,13.0,300.0,100.0,78.0,75.0,56.0,52.0,50.0,30.0,12.0,10.0,400.0,130.0,87.0,80.0,20.0,375.0,150.0,38.0,20.0,15.0,13.0,45.0,30.0,18.0,120.0,84.0,50.0,34.0,4.0,130.0,16.0,8.0,6.0,20.0,75.0],\"yaxis\":\"y\",\"type\":\"scattergl\"}],                        {\"template\":{\"data\":{\"histogram2dcontour\":[{\"type\":\"histogram2dcontour\",\"colorbar\":{\"outlinewidth\":0,\"ticks\":\"\"},\"colorscale\":[[0.0,\"#0d0887\"],[0.1111111111111111,\"#46039f\"],[0.2222222222222222,\"#7201a8\"],[0.3333333333333333,\"#9c179e\"],[0.4444444444444444,\"#bd3786\"],[0.5555555555555556,\"#d8576b\"],[0.6666666666666666,\"#ed7953\"],[0.7777777777777778,\"#fb9f3a\"],[0.8888888888888888,\"#fdca26\"],[1.0,\"#f0f921\"]]}],\"choropleth\":[{\"type\":\"choropleth\",\"colorbar\":{\"outlinewidth\":0,\"ticks\":\"\"}}],\"histogram2d\":[{\"type\":\"histogram2d\",\"colorbar\":{\"outlinewidth\":0,\"ticks\":\"\"},\"colorscale\":[[0.0,\"#0d0887\"],[0.1111111111111111,\"#46039f\"],[0.2222222222222222,\"#7201a8\"],[0.3333333333333333,\"#9c179e\"],[0.4444444444444444,\"#bd3786\"],[0.5555555555555556,\"#d8576b\"],[0.6666666666666666,\"#ed7953\"],[0.7777777777777778,\"#fb9f3a\"],[0.8888888888888888,\"#fdca26\"],[1.0,\"#f0f921\"]]}],\"heatmap\":[{\"type\":\"heatmap\",\"colorbar\":{\"outlinewidth\":0,\"ticks\":\"\"},\"colorscale\":[[0.0,\"#0d0887\"],[0.1111111111111111,\"#46039f\"],[0.2222222222222222,\"#7201a8\"],[0.3333333333333333,\"#9c179e\"],[0.4444444444444444,\"#bd3786\"],[0.5555555555555556,\"#d8576b\"],[0.6666666666666666,\"#ed7953\"],[0.7777777777777778,\"#fb9f3a\"],[0.8888888888888888,\"#fdca26\"],[1.0,\"#f0f921\"]]}],\"heatmapgl\":[{\"type\":\"heatmapgl\",\"colorbar\":{\"outlinewidth\":0,\"ticks\":\"\"},\"colorscale\":[[0.0,\"#0d0887\"],[0.1111111111111111,\"#46039f\"],[0.2222222222222222,\"#7201a8\"],[0.3333333333333333,\"#9c179e\"],[0.4444444444444444,\"#bd3786\"],[0.5555555555555556,\"#d8576b\"],[0.6666666666666666,\"#ed7953\"],[0.7777777777777778,\"#fb9f3a\"],[0.8888888888888888,\"#fdca26\"],[1.0,\"#f0f921\"]]}],\"contourcarpet\":[{\"type\":\"contourcarpet\",\"colorbar\":{\"outlinewidth\":0,\"ticks\":\"\"}}],\"contour\":[{\"type\":\"contour\",\"colorbar\":{\"outlinewidth\":0,\"ticks\":\"\"},\"colorscale\":[[0.0,\"#0d0887\"],[0.1111111111111111,\"#46039f\"],[0.2222222222222222,\"#7201a8\"],[0.3333333333333333,\"#9c179e\"],[0.4444444444444444,\"#bd3786\"],[0.5555555555555556,\"#d8576b\"],[0.6666666666666666,\"#ed7953\"],[0.7777777777777778,\"#fb9f3a\"],[0.8888888888888888,\"#fdca26\"],[1.0,\"#f0f921\"]]}],\"surface\":[{\"type\":\"surface\",\"colorbar\":{\"outlinewidth\":0,\"ticks\":\"\"},\"colorscale\":[[0.0,\"#0d0887\"],[0.1111111111111111,\"#46039f\"],[0.2222222222222222,\"#7201a8\"],[0.3333333333333333,\"#9c179e\"],[0.4444444444444444,\"#bd3786\"],[0.5555555555555556,\"#d8576b\"],[0.6666666666666666,\"#ed7953\"],[0.7777777777777778,\"#fb9f3a\"],[0.8888888888888888,\"#fdca26\"],[1.0,\"#f0f921\"]]}],\"mesh3d\":[{\"type\":\"mesh3d\",\"colorbar\":{\"outlinewidth\":0,\"ticks\":\"\"}}],\"scatter\":[{\"fillpattern\":{\"fillmode\":\"overlay\",\"size\":10,\"solidity\":0.2},\"type\":\"scatter\"}],\"parcoords\":[{\"type\":\"parcoords\",\"line\":{\"colorbar\":{\"outlinewidth\":0,\"ticks\":\"\"}}}],\"scatterpolargl\":[{\"type\":\"scatterpolargl\",\"marker\":{\"colorbar\":{\"outlinewidth\":0,\"ticks\":\"\"}}}],\"bar\":[{\"error_x\":{\"color\":\"#2a3f5f\"},\"error_y\":{\"color\":\"#2a3f5f\"},\"marker\":{\"line\":{\"color\":\"#E5ECF6\",\"width\":0.5},\"pattern\":{\"fillmode\":\"overlay\",\"size\":10,\"solidity\":0.2}},\"type\":\"bar\"}],\"scattergeo\":[{\"type\":\"scattergeo\",\"marker\":{\"colorbar\":{\"outlinewidth\":0,\"ticks\":\"\"}}}],\"scatterpolar\":[{\"type\":\"scatterpolar\",\"marker\":{\"colorbar\":{\"outlinewidth\":0,\"ticks\":\"\"}}}],\"histogram\":[{\"marker\":{\"pattern\":{\"fillmode\":\"overlay\",\"size\":10,\"solidity\":0.2}},\"type\":\"histogram\"}],\"scattergl\":[{\"type\":\"scattergl\",\"marker\":{\"colorbar\":{\"outlinewidth\":0,\"ticks\":\"\"}}}],\"scatter3d\":[{\"type\":\"scatter3d\",\"line\":{\"colorbar\":{\"outlinewidth\":0,\"ticks\":\"\"}},\"marker\":{\"colorbar\":{\"outlinewidth\":0,\"ticks\":\"\"}}}],\"scattermapbox\":[{\"type\":\"scattermapbox\",\"marker\":{\"colorbar\":{\"outlinewidth\":0,\"ticks\":\"\"}}}],\"scatterternary\":[{\"type\":\"scatterternary\",\"marker\":{\"colorbar\":{\"outlinewidth\":0,\"ticks\":\"\"}}}],\"scattercarpet\":[{\"type\":\"scattercarpet\",\"marker\":{\"colorbar\":{\"outlinewidth\":0,\"ticks\":\"\"}}}],\"carpet\":[{\"aaxis\":{\"endlinecolor\":\"#2a3f5f\",\"gridcolor\":\"white\",\"linecolor\":\"white\",\"minorgridcolor\":\"white\",\"startlinecolor\":\"#2a3f5f\"},\"baxis\":{\"endlinecolor\":\"#2a3f5f\",\"gridcolor\":\"white\",\"linecolor\":\"white\",\"minorgridcolor\":\"white\",\"startlinecolor\":\"#2a3f5f\"},\"type\":\"carpet\"}],\"table\":[{\"cells\":{\"fill\":{\"color\":\"#EBF0F8\"},\"line\":{\"color\":\"white\"}},\"header\":{\"fill\":{\"color\":\"#C8D4E3\"},\"line\":{\"color\":\"white\"}},\"type\":\"table\"}],\"barpolar\":[{\"marker\":{\"line\":{\"color\":\"#E5ECF6\",\"width\":0.5},\"pattern\":{\"fillmode\":\"overlay\",\"size\":10,\"solidity\":0.2}},\"type\":\"barpolar\"}],\"pie\":[{\"automargin\":true,\"type\":\"pie\"}]},\"layout\":{\"autotypenumbers\":\"strict\",\"colorway\":[\"#636efa\",\"#EF553B\",\"#00cc96\",\"#ab63fa\",\"#FFA15A\",\"#19d3f3\",\"#FF6692\",\"#B6E880\",\"#FF97FF\",\"#FECB52\"],\"font\":{\"color\":\"#2a3f5f\"},\"hovermode\":\"closest\",\"hoverlabel\":{\"align\":\"left\"},\"paper_bgcolor\":\"white\",\"plot_bgcolor\":\"#E5ECF6\",\"polar\":{\"bgcolor\":\"#E5ECF6\",\"angularaxis\":{\"gridcolor\":\"white\",\"linecolor\":\"white\",\"ticks\":\"\"},\"radialaxis\":{\"gridcolor\":\"white\",\"linecolor\":\"white\",\"ticks\":\"\"}},\"ternary\":{\"bgcolor\":\"#E5ECF6\",\"aaxis\":{\"gridcolor\":\"white\",\"linecolor\":\"white\",\"ticks\":\"\"},\"baxis\":{\"gridcolor\":\"white\",\"linecolor\":\"white\",\"ticks\":\"\"},\"caxis\":{\"gridcolor\":\"white\",\"linecolor\":\"white\",\"ticks\":\"\"}},\"coloraxis\":{\"colorbar\":{\"outlinewidth\":0,\"ticks\":\"\"}},\"colorscale\":{\"sequential\":[[0.0,\"#0d0887\"],[0.1111111111111111,\"#46039f\"],[0.2222222222222222,\"#7201a8\"],[0.3333333333333333,\"#9c179e\"],[0.4444444444444444,\"#bd3786\"],[0.5555555555555556,\"#d8576b\"],[0.6666666666666666,\"#ed7953\"],[0.7777777777777778,\"#fb9f3a\"],[0.8888888888888888,\"#fdca26\"],[1.0,\"#f0f921\"]],\"sequentialminus\":[[0.0,\"#0d0887\"],[0.1111111111111111,\"#46039f\"],[0.2222222222222222,\"#7201a8\"],[0.3333333333333333,\"#9c179e\"],[0.4444444444444444,\"#bd3786\"],[0.5555555555555556,\"#d8576b\"],[0.6666666666666666,\"#ed7953\"],[0.7777777777777778,\"#fb9f3a\"],[0.8888888888888888,\"#fdca26\"],[1.0,\"#f0f921\"]],\"diverging\":[[0,\"#8e0152\"],[0.1,\"#c51b7d\"],[0.2,\"#de77ae\"],[0.3,\"#f1b6da\"],[0.4,\"#fde0ef\"],[0.5,\"#f7f7f7\"],[0.6,\"#e6f5d0\"],[0.7,\"#b8e186\"],[0.8,\"#7fbc41\"],[0.9,\"#4d9221\"],[1,\"#276419\"]]},\"xaxis\":{\"gridcolor\":\"white\",\"linecolor\":\"white\",\"ticks\":\"\",\"title\":{\"standoff\":15},\"zerolinecolor\":\"white\",\"automargin\":true,\"zerolinewidth\":2},\"yaxis\":{\"gridcolor\":\"white\",\"linecolor\":\"white\",\"ticks\":\"\",\"title\":{\"standoff\":15},\"zerolinecolor\":\"white\",\"automargin\":true,\"zerolinewidth\":2},\"scene\":{\"xaxis\":{\"backgroundcolor\":\"#E5ECF6\",\"gridcolor\":\"white\",\"linecolor\":\"white\",\"showbackground\":true,\"ticks\":\"\",\"zerolinecolor\":\"white\",\"gridwidth\":2},\"yaxis\":{\"backgroundcolor\":\"#E5ECF6\",\"gridcolor\":\"white\",\"linecolor\":\"white\",\"showbackground\":true,\"ticks\":\"\",\"zerolinecolor\":\"white\",\"gridwidth\":2},\"zaxis\":{\"backgroundcolor\":\"#E5ECF6\",\"gridcolor\":\"white\",\"linecolor\":\"white\",\"showbackground\":true,\"ticks\":\"\",\"zerolinecolor\":\"white\",\"gridwidth\":2}},\"shapedefaults\":{\"line\":{\"color\":\"#2a3f5f\"}},\"annotationdefaults\":{\"arrowcolor\":\"#2a3f5f\",\"arrowhead\":0,\"arrowwidth\":1},\"geo\":{\"bgcolor\":\"white\",\"landcolor\":\"#E5ECF6\",\"subunitcolor\":\"white\",\"showland\":true,\"showlakes\":true,\"lakecolor\":\"white\"},\"title\":{\"x\":0.05},\"mapbox\":{\"style\":\"light\"}}},\"xaxis\":{\"anchor\":\"y\",\"domain\":[0.0,1.0],\"title\":{\"text\":\"$ Funds Raised (in Millions)\"}},\"yaxis\":{\"anchor\":\"x\",\"domain\":[0.0,1.0],\"title\":{\"text\":\"Number of Layoffs\"}},\"coloraxis\":{\"colorbar\":{\"title\":{\"text\":\"Number of Layoffs\"}},\"colorscale\":[[0.0,\"rgb(103,0,31)\"],[0.1,\"rgb(178,24,43)\"],[0.2,\"rgb(214,96,77)\"],[0.3,\"rgb(244,165,130)\"],[0.4,\"rgb(253,219,199)\"],[0.5,\"rgb(247,247,247)\"],[0.6,\"rgb(209,229,240)\"],[0.7,\"rgb(146,197,222)\"],[0.8,\"rgb(67,147,195)\"],[0.9,\"rgb(33,102,172)\"],[1.0,\"rgb(5,48,97)\"]]},\"legend\":{\"tracegroupgap\":0},\"title\":{\"text\":\"Funds Raised vs. Number of Layoffs\"}},                        {\"responsive\": true}                    ).then(function(){\n",
              "                            \n",
              "var gd = document.getElementById('0bf6c88e-e180-49dc-84da-b2833d8ee307');\n",
              "var x = new MutationObserver(function (mutations, observer) {{\n",
              "        var display = window.getComputedStyle(gd).display;\n",
              "        if (!display || display === 'none') {{\n",
              "            console.log([gd, 'removed!']);\n",
              "            Plotly.purge(gd);\n",
              "            observer.disconnect();\n",
              "        }}\n",
              "}});\n",
              "\n",
              "// Listen for the removal of the full notebook cells\n",
              "var notebookContainer = gd.closest('#notebook-container');\n",
              "if (notebookContainer) {{\n",
              "    x.observe(notebookContainer, {childList: true});\n",
              "}}\n",
              "\n",
              "// Listen for the clearing of the current output cell\n",
              "var outputEl = gd.closest('.output');\n",
              "if (outputEl) {{\n",
              "    x.observe(outputEl, {childList: true});\n",
              "}}\n",
              "\n",
              "                        })                };                            </script>        </div>\n",
              "</body>\n",
              "</html>"
            ]
          },
          "metadata": {}
        }
      ]
    },
    {
      "cell_type": "markdown",
      "source": [
        "For startups, funding is a crucial factor for layoffs. This does not impact companies in POST-IPO or Acquired stage."
      ],
      "metadata": {
        "id": "7TLLDLjQlHXb"
      }
    },
    {
      "cell_type": "markdown",
      "source": [
        "# Analysis by Location"
      ],
      "metadata": {
        "id": "ZaSgneJJEcSp"
      }
    },
    {
      "cell_type": "markdown",
      "source": [
        "**Country**"
      ],
      "metadata": {
        "id": "2wBNBr9Z6Mus"
      }
    },
    {
      "cell_type": "code",
      "source": [
        "#layoffs according to the countries\n",
        "\n",
        "laidOff_countByCountry = cleaned_layoff_df.groupby('Country')['Laid_Off_Count'].sum().reset_index()\n",
        "\n",
        "fig2 = px.bar(laidOff_countByCountry.reset_index(),\n",
        "              x = 'Country',\n",
        "              y = 'Laid_Off_Count',\n",
        "              title = 'Layoffs in various countries',\n",
        "              labels={'Country': 'Country', 'Laid_Off_Count': 'Number of Layoffs'},\n",
        "              color_discrete_sequence=px.colors.sequential.Electric)\n",
        "fig2.show()"
      ],
      "metadata": {
        "colab": {
          "base_uri": "https://localhost:8080/",
          "height": 542
        },
        "id": "-QaeXEqSd1rc",
        "outputId": "437468e8-01b4-4392-bfb7-efb12e6f0dd6"
      },
      "execution_count": null,
      "outputs": [
        {
          "output_type": "display_data",
          "data": {
            "text/html": [
              "<html>\n",
              "<head><meta charset=\"utf-8\" /></head>\n",
              "<body>\n",
              "    <div>            <script src=\"https://cdnjs.cloudflare.com/ajax/libs/mathjax/2.7.5/MathJax.js?config=TeX-AMS-MML_SVG\"></script><script type=\"text/javascript\">if (window.MathJax && window.MathJax.Hub && window.MathJax.Hub.Config) {window.MathJax.Hub.Config({SVG: {font: \"STIX-Web\"}});}</script>                <script type=\"text/javascript\">window.PlotlyConfig = {MathJaxConfig: 'local'};</script>\n",
              "        <script charset=\"utf-8\" src=\"https://cdn.plot.ly/plotly-2.24.1.min.js\"></script>                <div id=\"cad9bed4-9277-497d-8e7f-2ed511fc3cd9\" class=\"plotly-graph-div\" style=\"height:525px; width:100%;\"></div>            <script type=\"text/javascript\">                                    window.PLOTLYENV=window.PLOTLYENV || {};                                    if (document.getElementById(\"cad9bed4-9277-497d-8e7f-2ed511fc3cd9\")) {                    Plotly.newPlot(                        \"cad9bed4-9277-497d-8e7f-2ed511fc3cd9\",                        [{\"alignmentgroup\":\"True\",\"hovertemplate\":\"Country=%{x}\\u003cbr\\u003eNumber of Layoffs=%{y}\\u003cextra\\u003e\\u003c\\u002fextra\\u003e\",\"legendgroup\":\"\",\"marker\":{\"color\":\"rgb(0,0,0)\",\"pattern\":{\"shape\":\"\"}},\"name\":\"\",\"offsetgroup\":\"\",\"orientation\":\"v\",\"showlegend\":false,\"textposition\":\"auto\",\"x\":[\"Argentina\",\"Australia\",\"Austria\",\"Brazil\",\"Bulgaria\",\"Canada\",\"Cayman Islands\",\"Chile\",\"China\",\"Colombia\",\"Denmark\",\"Estonia\",\"Finland\",\"France\",\"Germany\",\"Ghana\",\"Hong Kong\",\"India\",\"Indonesia\",\"Ireland\",\"Israel\",\"Japan\",\"Kenya\",\"Lithuania\",\"Luxembourg\",\"Malaysia\",\"Mexico\",\"Myanmar\",\"Netherlands\",\"New Zealand\",\"Nigeria\",\"Norway\",\"Poland\",\"Portugal\",\"Romania\",\"Russia\",\"Saudi Arabia\",\"Senegal\",\"Seychelles\",\"Singapore\",\"South Korea\",\"Spain\",\"Sweden\",\"Switzerland\",\"Thailand\",\"Ukraine\",\"United Arab Emirates\",\"United Kingdom\",\"United States\"],\"xaxis\":\"x\",\"y\":[323.0,3563.0,640.0,11143.0,120.0,9986.0,1000.0,325.0,7190.0,130.0,240.0,582.0,320.0,1685.0,26293.0,150.0,730.0,49379.0,4561.0,487.0,5576.0,165.0,988.0,60.0,45.0,100.0,270.0,200.0,18055.0,1100.0,2045.0,390.0,203.0,115.0,252.0,400.0,340.0,300.0,75.0,7095.0,395.0,359.0,13539.0,362.0,55.0,50.0,995.0,13644.0,361979.0],\"yaxis\":\"y\",\"type\":\"bar\"}],                        {\"template\":{\"data\":{\"histogram2dcontour\":[{\"type\":\"histogram2dcontour\",\"colorbar\":{\"outlinewidth\":0,\"ticks\":\"\"},\"colorscale\":[[0.0,\"#0d0887\"],[0.1111111111111111,\"#46039f\"],[0.2222222222222222,\"#7201a8\"],[0.3333333333333333,\"#9c179e\"],[0.4444444444444444,\"#bd3786\"],[0.5555555555555556,\"#d8576b\"],[0.6666666666666666,\"#ed7953\"],[0.7777777777777778,\"#fb9f3a\"],[0.8888888888888888,\"#fdca26\"],[1.0,\"#f0f921\"]]}],\"choropleth\":[{\"type\":\"choropleth\",\"colorbar\":{\"outlinewidth\":0,\"ticks\":\"\"}}],\"histogram2d\":[{\"type\":\"histogram2d\",\"colorbar\":{\"outlinewidth\":0,\"ticks\":\"\"},\"colorscale\":[[0.0,\"#0d0887\"],[0.1111111111111111,\"#46039f\"],[0.2222222222222222,\"#7201a8\"],[0.3333333333333333,\"#9c179e\"],[0.4444444444444444,\"#bd3786\"],[0.5555555555555556,\"#d8576b\"],[0.6666666666666666,\"#ed7953\"],[0.7777777777777778,\"#fb9f3a\"],[0.8888888888888888,\"#fdca26\"],[1.0,\"#f0f921\"]]}],\"heatmap\":[{\"type\":\"heatmap\",\"colorbar\":{\"outlinewidth\":0,\"ticks\":\"\"},\"colorscale\":[[0.0,\"#0d0887\"],[0.1111111111111111,\"#46039f\"],[0.2222222222222222,\"#7201a8\"],[0.3333333333333333,\"#9c179e\"],[0.4444444444444444,\"#bd3786\"],[0.5555555555555556,\"#d8576b\"],[0.6666666666666666,\"#ed7953\"],[0.7777777777777778,\"#fb9f3a\"],[0.8888888888888888,\"#fdca26\"],[1.0,\"#f0f921\"]]}],\"heatmapgl\":[{\"type\":\"heatmapgl\",\"colorbar\":{\"outlinewidth\":0,\"ticks\":\"\"},\"colorscale\":[[0.0,\"#0d0887\"],[0.1111111111111111,\"#46039f\"],[0.2222222222222222,\"#7201a8\"],[0.3333333333333333,\"#9c179e\"],[0.4444444444444444,\"#bd3786\"],[0.5555555555555556,\"#d8576b\"],[0.6666666666666666,\"#ed7953\"],[0.7777777777777778,\"#fb9f3a\"],[0.8888888888888888,\"#fdca26\"],[1.0,\"#f0f921\"]]}],\"contourcarpet\":[{\"type\":\"contourcarpet\",\"colorbar\":{\"outlinewidth\":0,\"ticks\":\"\"}}],\"contour\":[{\"type\":\"contour\",\"colorbar\":{\"outlinewidth\":0,\"ticks\":\"\"},\"colorscale\":[[0.0,\"#0d0887\"],[0.1111111111111111,\"#46039f\"],[0.2222222222222222,\"#7201a8\"],[0.3333333333333333,\"#9c179e\"],[0.4444444444444444,\"#bd3786\"],[0.5555555555555556,\"#d8576b\"],[0.6666666666666666,\"#ed7953\"],[0.7777777777777778,\"#fb9f3a\"],[0.8888888888888888,\"#fdca26\"],[1.0,\"#f0f921\"]]}],\"surface\":[{\"type\":\"surface\",\"colorbar\":{\"outlinewidth\":0,\"ticks\":\"\"},\"colorscale\":[[0.0,\"#0d0887\"],[0.1111111111111111,\"#46039f\"],[0.2222222222222222,\"#7201a8\"],[0.3333333333333333,\"#9c179e\"],[0.4444444444444444,\"#bd3786\"],[0.5555555555555556,\"#d8576b\"],[0.6666666666666666,\"#ed7953\"],[0.7777777777777778,\"#fb9f3a\"],[0.8888888888888888,\"#fdca26\"],[1.0,\"#f0f921\"]]}],\"mesh3d\":[{\"type\":\"mesh3d\",\"colorbar\":{\"outlinewidth\":0,\"ticks\":\"\"}}],\"scatter\":[{\"fillpattern\":{\"fillmode\":\"overlay\",\"size\":10,\"solidity\":0.2},\"type\":\"scatter\"}],\"parcoords\":[{\"type\":\"parcoords\",\"line\":{\"colorbar\":{\"outlinewidth\":0,\"ticks\":\"\"}}}],\"scatterpolargl\":[{\"type\":\"scatterpolargl\",\"marker\":{\"colorbar\":{\"outlinewidth\":0,\"ticks\":\"\"}}}],\"bar\":[{\"error_x\":{\"color\":\"#2a3f5f\"},\"error_y\":{\"color\":\"#2a3f5f\"},\"marker\":{\"line\":{\"color\":\"#E5ECF6\",\"width\":0.5},\"pattern\":{\"fillmode\":\"overlay\",\"size\":10,\"solidity\":0.2}},\"type\":\"bar\"}],\"scattergeo\":[{\"type\":\"scattergeo\",\"marker\":{\"colorbar\":{\"outlinewidth\":0,\"ticks\":\"\"}}}],\"scatterpolar\":[{\"type\":\"scatterpolar\",\"marker\":{\"colorbar\":{\"outlinewidth\":0,\"ticks\":\"\"}}}],\"histogram\":[{\"marker\":{\"pattern\":{\"fillmode\":\"overlay\",\"size\":10,\"solidity\":0.2}},\"type\":\"histogram\"}],\"scattergl\":[{\"type\":\"scattergl\",\"marker\":{\"colorbar\":{\"outlinewidth\":0,\"ticks\":\"\"}}}],\"scatter3d\":[{\"type\":\"scatter3d\",\"line\":{\"colorbar\":{\"outlinewidth\":0,\"ticks\":\"\"}},\"marker\":{\"colorbar\":{\"outlinewidth\":0,\"ticks\":\"\"}}}],\"scattermapbox\":[{\"type\":\"scattermapbox\",\"marker\":{\"colorbar\":{\"outlinewidth\":0,\"ticks\":\"\"}}}],\"scatterternary\":[{\"type\":\"scatterternary\",\"marker\":{\"colorbar\":{\"outlinewidth\":0,\"ticks\":\"\"}}}],\"scattercarpet\":[{\"type\":\"scattercarpet\",\"marker\":{\"colorbar\":{\"outlinewidth\":0,\"ticks\":\"\"}}}],\"carpet\":[{\"aaxis\":{\"endlinecolor\":\"#2a3f5f\",\"gridcolor\":\"white\",\"linecolor\":\"white\",\"minorgridcolor\":\"white\",\"startlinecolor\":\"#2a3f5f\"},\"baxis\":{\"endlinecolor\":\"#2a3f5f\",\"gridcolor\":\"white\",\"linecolor\":\"white\",\"minorgridcolor\":\"white\",\"startlinecolor\":\"#2a3f5f\"},\"type\":\"carpet\"}],\"table\":[{\"cells\":{\"fill\":{\"color\":\"#EBF0F8\"},\"line\":{\"color\":\"white\"}},\"header\":{\"fill\":{\"color\":\"#C8D4E3\"},\"line\":{\"color\":\"white\"}},\"type\":\"table\"}],\"barpolar\":[{\"marker\":{\"line\":{\"color\":\"#E5ECF6\",\"width\":0.5},\"pattern\":{\"fillmode\":\"overlay\",\"size\":10,\"solidity\":0.2}},\"type\":\"barpolar\"}],\"pie\":[{\"automargin\":true,\"type\":\"pie\"}]},\"layout\":{\"autotypenumbers\":\"strict\",\"colorway\":[\"#636efa\",\"#EF553B\",\"#00cc96\",\"#ab63fa\",\"#FFA15A\",\"#19d3f3\",\"#FF6692\",\"#B6E880\",\"#FF97FF\",\"#FECB52\"],\"font\":{\"color\":\"#2a3f5f\"},\"hovermode\":\"closest\",\"hoverlabel\":{\"align\":\"left\"},\"paper_bgcolor\":\"white\",\"plot_bgcolor\":\"#E5ECF6\",\"polar\":{\"bgcolor\":\"#E5ECF6\",\"angularaxis\":{\"gridcolor\":\"white\",\"linecolor\":\"white\",\"ticks\":\"\"},\"radialaxis\":{\"gridcolor\":\"white\",\"linecolor\":\"white\",\"ticks\":\"\"}},\"ternary\":{\"bgcolor\":\"#E5ECF6\",\"aaxis\":{\"gridcolor\":\"white\",\"linecolor\":\"white\",\"ticks\":\"\"},\"baxis\":{\"gridcolor\":\"white\",\"linecolor\":\"white\",\"ticks\":\"\"},\"caxis\":{\"gridcolor\":\"white\",\"linecolor\":\"white\",\"ticks\":\"\"}},\"coloraxis\":{\"colorbar\":{\"outlinewidth\":0,\"ticks\":\"\"}},\"colorscale\":{\"sequential\":[[0.0,\"#0d0887\"],[0.1111111111111111,\"#46039f\"],[0.2222222222222222,\"#7201a8\"],[0.3333333333333333,\"#9c179e\"],[0.4444444444444444,\"#bd3786\"],[0.5555555555555556,\"#d8576b\"],[0.6666666666666666,\"#ed7953\"],[0.7777777777777778,\"#fb9f3a\"],[0.8888888888888888,\"#fdca26\"],[1.0,\"#f0f921\"]],\"sequentialminus\":[[0.0,\"#0d0887\"],[0.1111111111111111,\"#46039f\"],[0.2222222222222222,\"#7201a8\"],[0.3333333333333333,\"#9c179e\"],[0.4444444444444444,\"#bd3786\"],[0.5555555555555556,\"#d8576b\"],[0.6666666666666666,\"#ed7953\"],[0.7777777777777778,\"#fb9f3a\"],[0.8888888888888888,\"#fdca26\"],[1.0,\"#f0f921\"]],\"diverging\":[[0,\"#8e0152\"],[0.1,\"#c51b7d\"],[0.2,\"#de77ae\"],[0.3,\"#f1b6da\"],[0.4,\"#fde0ef\"],[0.5,\"#f7f7f7\"],[0.6,\"#e6f5d0\"],[0.7,\"#b8e186\"],[0.8,\"#7fbc41\"],[0.9,\"#4d9221\"],[1,\"#276419\"]]},\"xaxis\":{\"gridcolor\":\"white\",\"linecolor\":\"white\",\"ticks\":\"\",\"title\":{\"standoff\":15},\"zerolinecolor\":\"white\",\"automargin\":true,\"zerolinewidth\":2},\"yaxis\":{\"gridcolor\":\"white\",\"linecolor\":\"white\",\"ticks\":\"\",\"title\":{\"standoff\":15},\"zerolinecolor\":\"white\",\"automargin\":true,\"zerolinewidth\":2},\"scene\":{\"xaxis\":{\"backgroundcolor\":\"#E5ECF6\",\"gridcolor\":\"white\",\"linecolor\":\"white\",\"showbackground\":true,\"ticks\":\"\",\"zerolinecolor\":\"white\",\"gridwidth\":2},\"yaxis\":{\"backgroundcolor\":\"#E5ECF6\",\"gridcolor\":\"white\",\"linecolor\":\"white\",\"showbackground\":true,\"ticks\":\"\",\"zerolinecolor\":\"white\",\"gridwidth\":2},\"zaxis\":{\"backgroundcolor\":\"#E5ECF6\",\"gridcolor\":\"white\",\"linecolor\":\"white\",\"showbackground\":true,\"ticks\":\"\",\"zerolinecolor\":\"white\",\"gridwidth\":2}},\"shapedefaults\":{\"line\":{\"color\":\"#2a3f5f\"}},\"annotationdefaults\":{\"arrowcolor\":\"#2a3f5f\",\"arrowhead\":0,\"arrowwidth\":1},\"geo\":{\"bgcolor\":\"white\",\"landcolor\":\"#E5ECF6\",\"subunitcolor\":\"white\",\"showland\":true,\"showlakes\":true,\"lakecolor\":\"white\"},\"title\":{\"x\":0.05},\"mapbox\":{\"style\":\"light\"}}},\"xaxis\":{\"anchor\":\"y\",\"domain\":[0.0,1.0],\"title\":{\"text\":\"Country\"}},\"yaxis\":{\"anchor\":\"x\",\"domain\":[0.0,1.0],\"title\":{\"text\":\"Number of Layoffs\"}},\"legend\":{\"tracegroupgap\":0},\"title\":{\"text\":\"Layoffs in various countries\"},\"barmode\":\"relative\"},                        {\"responsive\": true}                    ).then(function(){\n",
              "                            \n",
              "var gd = document.getElementById('cad9bed4-9277-497d-8e7f-2ed511fc3cd9');\n",
              "var x = new MutationObserver(function (mutations, observer) {{\n",
              "        var display = window.getComputedStyle(gd).display;\n",
              "        if (!display || display === 'none') {{\n",
              "            console.log([gd, 'removed!']);\n",
              "            Plotly.purge(gd);\n",
              "            observer.disconnect();\n",
              "        }}\n",
              "}});\n",
              "\n",
              "// Listen for the removal of the full notebook cells\n",
              "var notebookContainer = gd.closest('#notebook-container');\n",
              "if (notebookContainer) {{\n",
              "    x.observe(notebookContainer, {childList: true});\n",
              "}}\n",
              "\n",
              "// Listen for the clearing of the current output cell\n",
              "var outputEl = gd.closest('.output');\n",
              "if (outputEl) {{\n",
              "    x.observe(outputEl, {childList: true});\n",
              "}}\n",
              "\n",
              "                        })                };                            </script>        </div>\n",
              "</body>\n",
              "</html>"
            ]
          },
          "metadata": {}
        }
      ]
    },
    {
      "cell_type": "markdown",
      "source": [
        "**Top 10 countries with high layoff number:**\n"
      ],
      "metadata": {
        "id": "PBcLAaElk3rP"
      }
    },
    {
      "cell_type": "code",
      "source": [
        "# Top 10 countries for analysis\n",
        "top_10_sorted_df = laidOff_countByCountry.nlargest(10, 'Laid_Off_Count')\n",
        "\n",
        "fig2 = px.bar(top_10_sorted_df.reset_index(),\n",
        "              x = 'Country',\n",
        "              y = 'Laid_Off_Count',\n",
        "              title = 'Countries with most layoffs',\n",
        "              labels={'Country': 'Country', 'Laid_Off_Count': 'Number of Layoffs'},\n",
        "              color_discrete_sequence=px.colors.sequential.Rainbow)\n",
        "fig2.show()"
      ],
      "metadata": {
        "colab": {
          "base_uri": "https://localhost:8080/",
          "height": 542
        },
        "id": "SElFQAqbYFFi",
        "outputId": "dd58235b-0d62-4600-fd79-ea6143b4ff62"
      },
      "execution_count": null,
      "outputs": [
        {
          "output_type": "display_data",
          "data": {
            "text/html": [
              "<html>\n",
              "<head><meta charset=\"utf-8\" /></head>\n",
              "<body>\n",
              "    <div>            <script src=\"https://cdnjs.cloudflare.com/ajax/libs/mathjax/2.7.5/MathJax.js?config=TeX-AMS-MML_SVG\"></script><script type=\"text/javascript\">if (window.MathJax && window.MathJax.Hub && window.MathJax.Hub.Config) {window.MathJax.Hub.Config({SVG: {font: \"STIX-Web\"}});}</script>                <script type=\"text/javascript\">window.PlotlyConfig = {MathJaxConfig: 'local'};</script>\n",
              "        <script charset=\"utf-8\" src=\"https://cdn.plot.ly/plotly-2.24.1.min.js\"></script>                <div id=\"7437c30a-35b9-4272-aac3-9738aff0171f\" class=\"plotly-graph-div\" style=\"height:525px; width:100%;\"></div>            <script type=\"text/javascript\">                                    window.PLOTLYENV=window.PLOTLYENV || {};                                    if (document.getElementById(\"7437c30a-35b9-4272-aac3-9738aff0171f\")) {                    Plotly.newPlot(                        \"7437c30a-35b9-4272-aac3-9738aff0171f\",                        [{\"alignmentgroup\":\"True\",\"hovertemplate\":\"Country=%{x}\\u003cbr\\u003eNumber of Layoffs=%{y}\\u003cextra\\u003e\\u003c\\u002fextra\\u003e\",\"legendgroup\":\"\",\"marker\":{\"color\":\"rgb(150,0,90)\",\"pattern\":{\"shape\":\"\"}},\"name\":\"\",\"offsetgroup\":\"\",\"orientation\":\"v\",\"showlegend\":false,\"textposition\":\"auto\",\"x\":[\"United States\",\"India\",\"Germany\",\"Netherlands\",\"United Kingdom\",\"Sweden\",\"Brazil\",\"Canada\",\"China\",\"Singapore\"],\"xaxis\":\"x\",\"y\":[361979.0,49379.0,26293.0,18055.0,13644.0,13539.0,11143.0,9986.0,7190.0,7095.0],\"yaxis\":\"y\",\"type\":\"bar\"}],                        {\"template\":{\"data\":{\"histogram2dcontour\":[{\"type\":\"histogram2dcontour\",\"colorbar\":{\"outlinewidth\":0,\"ticks\":\"\"},\"colorscale\":[[0.0,\"#0d0887\"],[0.1111111111111111,\"#46039f\"],[0.2222222222222222,\"#7201a8\"],[0.3333333333333333,\"#9c179e\"],[0.4444444444444444,\"#bd3786\"],[0.5555555555555556,\"#d8576b\"],[0.6666666666666666,\"#ed7953\"],[0.7777777777777778,\"#fb9f3a\"],[0.8888888888888888,\"#fdca26\"],[1.0,\"#f0f921\"]]}],\"choropleth\":[{\"type\":\"choropleth\",\"colorbar\":{\"outlinewidth\":0,\"ticks\":\"\"}}],\"histogram2d\":[{\"type\":\"histogram2d\",\"colorbar\":{\"outlinewidth\":0,\"ticks\":\"\"},\"colorscale\":[[0.0,\"#0d0887\"],[0.1111111111111111,\"#46039f\"],[0.2222222222222222,\"#7201a8\"],[0.3333333333333333,\"#9c179e\"],[0.4444444444444444,\"#bd3786\"],[0.5555555555555556,\"#d8576b\"],[0.6666666666666666,\"#ed7953\"],[0.7777777777777778,\"#fb9f3a\"],[0.8888888888888888,\"#fdca26\"],[1.0,\"#f0f921\"]]}],\"heatmap\":[{\"type\":\"heatmap\",\"colorbar\":{\"outlinewidth\":0,\"ticks\":\"\"},\"colorscale\":[[0.0,\"#0d0887\"],[0.1111111111111111,\"#46039f\"],[0.2222222222222222,\"#7201a8\"],[0.3333333333333333,\"#9c179e\"],[0.4444444444444444,\"#bd3786\"],[0.5555555555555556,\"#d8576b\"],[0.6666666666666666,\"#ed7953\"],[0.7777777777777778,\"#fb9f3a\"],[0.8888888888888888,\"#fdca26\"],[1.0,\"#f0f921\"]]}],\"heatmapgl\":[{\"type\":\"heatmapgl\",\"colorbar\":{\"outlinewidth\":0,\"ticks\":\"\"},\"colorscale\":[[0.0,\"#0d0887\"],[0.1111111111111111,\"#46039f\"],[0.2222222222222222,\"#7201a8\"],[0.3333333333333333,\"#9c179e\"],[0.4444444444444444,\"#bd3786\"],[0.5555555555555556,\"#d8576b\"],[0.6666666666666666,\"#ed7953\"],[0.7777777777777778,\"#fb9f3a\"],[0.8888888888888888,\"#fdca26\"],[1.0,\"#f0f921\"]]}],\"contourcarpet\":[{\"type\":\"contourcarpet\",\"colorbar\":{\"outlinewidth\":0,\"ticks\":\"\"}}],\"contour\":[{\"type\":\"contour\",\"colorbar\":{\"outlinewidth\":0,\"ticks\":\"\"},\"colorscale\":[[0.0,\"#0d0887\"],[0.1111111111111111,\"#46039f\"],[0.2222222222222222,\"#7201a8\"],[0.3333333333333333,\"#9c179e\"],[0.4444444444444444,\"#bd3786\"],[0.5555555555555556,\"#d8576b\"],[0.6666666666666666,\"#ed7953\"],[0.7777777777777778,\"#fb9f3a\"],[0.8888888888888888,\"#fdca26\"],[1.0,\"#f0f921\"]]}],\"surface\":[{\"type\":\"surface\",\"colorbar\":{\"outlinewidth\":0,\"ticks\":\"\"},\"colorscale\":[[0.0,\"#0d0887\"],[0.1111111111111111,\"#46039f\"],[0.2222222222222222,\"#7201a8\"],[0.3333333333333333,\"#9c179e\"],[0.4444444444444444,\"#bd3786\"],[0.5555555555555556,\"#d8576b\"],[0.6666666666666666,\"#ed7953\"],[0.7777777777777778,\"#fb9f3a\"],[0.8888888888888888,\"#fdca26\"],[1.0,\"#f0f921\"]]}],\"mesh3d\":[{\"type\":\"mesh3d\",\"colorbar\":{\"outlinewidth\":0,\"ticks\":\"\"}}],\"scatter\":[{\"fillpattern\":{\"fillmode\":\"overlay\",\"size\":10,\"solidity\":0.2},\"type\":\"scatter\"}],\"parcoords\":[{\"type\":\"parcoords\",\"line\":{\"colorbar\":{\"outlinewidth\":0,\"ticks\":\"\"}}}],\"scatterpolargl\":[{\"type\":\"scatterpolargl\",\"marker\":{\"colorbar\":{\"outlinewidth\":0,\"ticks\":\"\"}}}],\"bar\":[{\"error_x\":{\"color\":\"#2a3f5f\"},\"error_y\":{\"color\":\"#2a3f5f\"},\"marker\":{\"line\":{\"color\":\"#E5ECF6\",\"width\":0.5},\"pattern\":{\"fillmode\":\"overlay\",\"size\":10,\"solidity\":0.2}},\"type\":\"bar\"}],\"scattergeo\":[{\"type\":\"scattergeo\",\"marker\":{\"colorbar\":{\"outlinewidth\":0,\"ticks\":\"\"}}}],\"scatterpolar\":[{\"type\":\"scatterpolar\",\"marker\":{\"colorbar\":{\"outlinewidth\":0,\"ticks\":\"\"}}}],\"histogram\":[{\"marker\":{\"pattern\":{\"fillmode\":\"overlay\",\"size\":10,\"solidity\":0.2}},\"type\":\"histogram\"}],\"scattergl\":[{\"type\":\"scattergl\",\"marker\":{\"colorbar\":{\"outlinewidth\":0,\"ticks\":\"\"}}}],\"scatter3d\":[{\"type\":\"scatter3d\",\"line\":{\"colorbar\":{\"outlinewidth\":0,\"ticks\":\"\"}},\"marker\":{\"colorbar\":{\"outlinewidth\":0,\"ticks\":\"\"}}}],\"scattermapbox\":[{\"type\":\"scattermapbox\",\"marker\":{\"colorbar\":{\"outlinewidth\":0,\"ticks\":\"\"}}}],\"scatterternary\":[{\"type\":\"scatterternary\",\"marker\":{\"colorbar\":{\"outlinewidth\":0,\"ticks\":\"\"}}}],\"scattercarpet\":[{\"type\":\"scattercarpet\",\"marker\":{\"colorbar\":{\"outlinewidth\":0,\"ticks\":\"\"}}}],\"carpet\":[{\"aaxis\":{\"endlinecolor\":\"#2a3f5f\",\"gridcolor\":\"white\",\"linecolor\":\"white\",\"minorgridcolor\":\"white\",\"startlinecolor\":\"#2a3f5f\"},\"baxis\":{\"endlinecolor\":\"#2a3f5f\",\"gridcolor\":\"white\",\"linecolor\":\"white\",\"minorgridcolor\":\"white\",\"startlinecolor\":\"#2a3f5f\"},\"type\":\"carpet\"}],\"table\":[{\"cells\":{\"fill\":{\"color\":\"#EBF0F8\"},\"line\":{\"color\":\"white\"}},\"header\":{\"fill\":{\"color\":\"#C8D4E3\"},\"line\":{\"color\":\"white\"}},\"type\":\"table\"}],\"barpolar\":[{\"marker\":{\"line\":{\"color\":\"#E5ECF6\",\"width\":0.5},\"pattern\":{\"fillmode\":\"overlay\",\"size\":10,\"solidity\":0.2}},\"type\":\"barpolar\"}],\"pie\":[{\"automargin\":true,\"type\":\"pie\"}]},\"layout\":{\"autotypenumbers\":\"strict\",\"colorway\":[\"#636efa\",\"#EF553B\",\"#00cc96\",\"#ab63fa\",\"#FFA15A\",\"#19d3f3\",\"#FF6692\",\"#B6E880\",\"#FF97FF\",\"#FECB52\"],\"font\":{\"color\":\"#2a3f5f\"},\"hovermode\":\"closest\",\"hoverlabel\":{\"align\":\"left\"},\"paper_bgcolor\":\"white\",\"plot_bgcolor\":\"#E5ECF6\",\"polar\":{\"bgcolor\":\"#E5ECF6\",\"angularaxis\":{\"gridcolor\":\"white\",\"linecolor\":\"white\",\"ticks\":\"\"},\"radialaxis\":{\"gridcolor\":\"white\",\"linecolor\":\"white\",\"ticks\":\"\"}},\"ternary\":{\"bgcolor\":\"#E5ECF6\",\"aaxis\":{\"gridcolor\":\"white\",\"linecolor\":\"white\",\"ticks\":\"\"},\"baxis\":{\"gridcolor\":\"white\",\"linecolor\":\"white\",\"ticks\":\"\"},\"caxis\":{\"gridcolor\":\"white\",\"linecolor\":\"white\",\"ticks\":\"\"}},\"coloraxis\":{\"colorbar\":{\"outlinewidth\":0,\"ticks\":\"\"}},\"colorscale\":{\"sequential\":[[0.0,\"#0d0887\"],[0.1111111111111111,\"#46039f\"],[0.2222222222222222,\"#7201a8\"],[0.3333333333333333,\"#9c179e\"],[0.4444444444444444,\"#bd3786\"],[0.5555555555555556,\"#d8576b\"],[0.6666666666666666,\"#ed7953\"],[0.7777777777777778,\"#fb9f3a\"],[0.8888888888888888,\"#fdca26\"],[1.0,\"#f0f921\"]],\"sequentialminus\":[[0.0,\"#0d0887\"],[0.1111111111111111,\"#46039f\"],[0.2222222222222222,\"#7201a8\"],[0.3333333333333333,\"#9c179e\"],[0.4444444444444444,\"#bd3786\"],[0.5555555555555556,\"#d8576b\"],[0.6666666666666666,\"#ed7953\"],[0.7777777777777778,\"#fb9f3a\"],[0.8888888888888888,\"#fdca26\"],[1.0,\"#f0f921\"]],\"diverging\":[[0,\"#8e0152\"],[0.1,\"#c51b7d\"],[0.2,\"#de77ae\"],[0.3,\"#f1b6da\"],[0.4,\"#fde0ef\"],[0.5,\"#f7f7f7\"],[0.6,\"#e6f5d0\"],[0.7,\"#b8e186\"],[0.8,\"#7fbc41\"],[0.9,\"#4d9221\"],[1,\"#276419\"]]},\"xaxis\":{\"gridcolor\":\"white\",\"linecolor\":\"white\",\"ticks\":\"\",\"title\":{\"standoff\":15},\"zerolinecolor\":\"white\",\"automargin\":true,\"zerolinewidth\":2},\"yaxis\":{\"gridcolor\":\"white\",\"linecolor\":\"white\",\"ticks\":\"\",\"title\":{\"standoff\":15},\"zerolinecolor\":\"white\",\"automargin\":true,\"zerolinewidth\":2},\"scene\":{\"xaxis\":{\"backgroundcolor\":\"#E5ECF6\",\"gridcolor\":\"white\",\"linecolor\":\"white\",\"showbackground\":true,\"ticks\":\"\",\"zerolinecolor\":\"white\",\"gridwidth\":2},\"yaxis\":{\"backgroundcolor\":\"#E5ECF6\",\"gridcolor\":\"white\",\"linecolor\":\"white\",\"showbackground\":true,\"ticks\":\"\",\"zerolinecolor\":\"white\",\"gridwidth\":2},\"zaxis\":{\"backgroundcolor\":\"#E5ECF6\",\"gridcolor\":\"white\",\"linecolor\":\"white\",\"showbackground\":true,\"ticks\":\"\",\"zerolinecolor\":\"white\",\"gridwidth\":2}},\"shapedefaults\":{\"line\":{\"color\":\"#2a3f5f\"}},\"annotationdefaults\":{\"arrowcolor\":\"#2a3f5f\",\"arrowhead\":0,\"arrowwidth\":1},\"geo\":{\"bgcolor\":\"white\",\"landcolor\":\"#E5ECF6\",\"subunitcolor\":\"white\",\"showland\":true,\"showlakes\":true,\"lakecolor\":\"white\"},\"title\":{\"x\":0.05},\"mapbox\":{\"style\":\"light\"}}},\"xaxis\":{\"anchor\":\"y\",\"domain\":[0.0,1.0],\"title\":{\"text\":\"Country\"}},\"yaxis\":{\"anchor\":\"x\",\"domain\":[0.0,1.0],\"title\":{\"text\":\"Number of Layoffs\"}},\"legend\":{\"tracegroupgap\":0},\"title\":{\"text\":\"Countries with most layoffs\"},\"barmode\":\"relative\"},                        {\"responsive\": true}                    ).then(function(){\n",
              "                            \n",
              "var gd = document.getElementById('7437c30a-35b9-4272-aac3-9738aff0171f');\n",
              "var x = new MutationObserver(function (mutations, observer) {{\n",
              "        var display = window.getComputedStyle(gd).display;\n",
              "        if (!display || display === 'none') {{\n",
              "            console.log([gd, 'removed!']);\n",
              "            Plotly.purge(gd);\n",
              "            observer.disconnect();\n",
              "        }}\n",
              "}});\n",
              "\n",
              "// Listen for the removal of the full notebook cells\n",
              "var notebookContainer = gd.closest('#notebook-container');\n",
              "if (notebookContainer) {{\n",
              "    x.observe(notebookContainer, {childList: true});\n",
              "}}\n",
              "\n",
              "// Listen for the clearing of the current output cell\n",
              "var outputEl = gd.closest('.output');\n",
              "if (outputEl) {{\n",
              "    x.observe(outputEl, {childList: true});\n",
              "}}\n",
              "\n",
              "                        })                };                            </script>        </div>\n",
              "</body>\n",
              "</html>"
            ]
          },
          "metadata": {}
        }
      ]
    },
    {
      "cell_type": "markdown",
      "source": [
        "Based on the visual analysis until now, it appears that the majority of layoffs occurred within the **Retail** sector, particularly among companies in the **POST IPO** stage, and those predominantly located in the **United States**"
      ],
      "metadata": {
        "id": "_pbIDXOj5-Iy"
      }
    },
    {
      "cell_type": "markdown",
      "source": [
        "**HQ Location of companies**"
      ],
      "metadata": {
        "id": "A9-6Zq5g6Q3E"
      }
    },
    {
      "cell_type": "code",
      "source": [
        "# Top locations with highest layoffs\n",
        "\n",
        "laidOff_countByLocation = cleaned_layoff_df.groupby(by= ['Country', 'Location_HQ'])['Laid_Off_Count'].sum().reset_index()\n",
        "# top_10_sorted_df = laidOff_countByCountry.nlargest(10, 'Laid_Off_Count')\n",
        "\n",
        "top_location_sorted_df = laidOff_countByLocation.nlargest(10, 'Laid_Off_Count')\n",
        "\n",
        "sns.catplot(\n",
        "    data=top_location_sorted_df, x=\"Location_HQ\", y=\"Laid_Off_Count\", hue=\"Country\", kind=\"bar\",  height=5, aspect=2\n",
        ")\n",
        "\n",
        "plt.gca().set_xlabel('HQ Location')\n",
        "plt.gca().set_ylabel('Number of Layoffs')\n",
        "plt.title('Most number of layoffs by Company HQ location')\n",
        "plt.xticks(rotation=90)\n",
        "\n",
        "plt.show()\n"
      ],
      "metadata": {
        "colab": {
          "base_uri": "https://localhost:8080/",
          "height": 610
        },
        "id": "Ltb8vATZjtKp",
        "outputId": "f7163771-8274-4143-95ce-ceb7a8f3e0d8"
      },
      "execution_count": null,
      "outputs": [
        {
          "output_type": "display_data",
          "data": {
            "text/plain": [
              "<Figure size 1161.38x500 with 1 Axes>"
            ],
            "image/png": "[encoded data removed]"
          },
          "metadata": {}
        }
      ]
    },
    {
      "cell_type": "markdown",
      "source": [
        "# Analysis by Company"
      ],
      "metadata": {
        "id": "JA5-zprE6fm1"
      }
    },
    {
      "cell_type": "code",
      "source": [
        "#Most impacted companies in US\n",
        "us_layoffs_count_df = cleaned_layoff_df[cleaned_layoff_df['Country'] =='United States']\n",
        "\n",
        "us_layoffs_count = us_layoffs_count_df.groupby(by =['Company', 'Industry'])['Laid_Off_Count'].sum().sort_values(ascending=False).head(10)\n",
        "\n",
        "fig = px.bar(us_layoffs_count.reset_index(),\n",
        "              x='Company',\n",
        "              y='Laid_Off_Count',\n",
        "              title='Most impacted companies in US',\n",
        "              labels={'Company': 'Company', 'Laid_Off_Count': 'Number of Layoffs'},\n",
        "              color='Industry',\n",
        "              color_continuous_scale=px.colors.sequential.Greens_r,\n",
        "\n",
        "              )\n",
        "\n",
        "fig.show()"
      ],
      "metadata": {
        "colab": {
          "base_uri": "https://localhost:8080/",
          "height": 542
        },
        "id": "70pM_gEmrJJ9",
        "outputId": "ec82e450-5e63-4a68-c61c-12ac40b33cc1"
      },
      "execution_count": null,
      "outputs": [
        {
          "output_type": "display_data",
          "data": {
            "text/html": [
              "<html>\n",
              "<head><meta charset=\"utf-8\" /></head>\n",
              "<body>\n",
              "    <div>            <script src=\"https://cdnjs.cloudflare.com/ajax/libs/mathjax/2.7.5/MathJax.js?config=TeX-AMS-MML_SVG\"></script><script type=\"text/javascript\">if (window.MathJax && window.MathJax.Hub && window.MathJax.Hub.Config) {window.MathJax.Hub.Config({SVG: {font: \"STIX-Web\"}});}</script>                <script type=\"text/javascript\">window.PlotlyConfig = {MathJaxConfig: 'local'};</script>\n",
              "        <script charset=\"utf-8\" src=\"https://cdn.plot.ly/plotly-2.24.1.min.js\"></script>                <div id=\"95ce3517-d700-4f6d-a2fa-172fe94e047a\" class=\"plotly-graph-div\" style=\"height:525px; width:100%;\"></div>            <script type=\"text/javascript\">                                    window.PLOTLYENV=window.PLOTLYENV || {};                                    if (document.getElementById(\"95ce3517-d700-4f6d-a2fa-172fe94e047a\")) {                    Plotly.newPlot(                        \"95ce3517-d700-4f6d-a2fa-172fe94e047a\",                        [{\"alignmentgroup\":\"True\",\"hovertemplate\":\"Industry=Retail\\u003cbr\\u003eCompany=%{x}\\u003cbr\\u003eNumber of Layoffs=%{y}\\u003cextra\\u003e\\u003c\\u002fextra\\u003e\",\"legendgroup\":\"Retail\",\"marker\":{\"color\":\"#636efa\",\"pattern\":{\"shape\":\"\"}},\"name\":\"Retail\",\"offsetgroup\":\"Retail\",\"orientation\":\"v\",\"showlegend\":true,\"textposition\":\"auto\",\"x\":[\"Amazon\",\"Wayfair\"],\"xaxis\":\"x\",\"y\":[27440.0,4270.0],\"yaxis\":\"y\",\"type\":\"bar\"},{\"alignmentgroup\":\"True\",\"hovertemplate\":\"Industry=Consumer\\u003cbr\\u003eCompany=%{x}\\u003cbr\\u003eNumber of Layoffs=%{y}\\u003cextra\\u003e\\u003c\\u002fextra\\u003e\",\"legendgroup\":\"Consumer\",\"marker\":{\"color\":\"#EF553B\",\"pattern\":{\"shape\":\"\"}},\"name\":\"Consumer\",\"offsetgroup\":\"Consumer\",\"orientation\":\"v\",\"showlegend\":true,\"textposition\":\"auto\",\"x\":[\"Meta\",\"Google\"],\"xaxis\":\"x\",\"y\":[21000.0,13115.0],\"yaxis\":\"y\",\"type\":\"bar\"},{\"alignmentgroup\":\"True\",\"hovertemplate\":\"Industry=Other\\u003cbr\\u003eCompany=%{x}\\u003cbr\\u003eNumber of Layoffs=%{y}\\u003cextra\\u003e\\u003c\\u002fextra\\u003e\",\"legendgroup\":\"Other\",\"marker\":{\"color\":\"#00cc96\",\"pattern\":{\"shape\":\"\"}},\"name\":\"Other\",\"offsetgroup\":\"Other\",\"orientation\":\"v\",\"showlegend\":true,\"textposition\":\"auto\",\"x\":[\"Microsoft\"],\"xaxis\":\"x\",\"y\":[13058.0],\"yaxis\":\"y\",\"type\":\"bar\"},{\"alignmentgroup\":\"True\",\"hovertemplate\":\"Industry=Sales\\u003cbr\\u003eCompany=%{x}\\u003cbr\\u003eNumber of Layoffs=%{y}\\u003cextra\\u003e\\u003c\\u002fextra\\u003e\",\"legendgroup\":\"Sales\",\"marker\":{\"color\":\"#ab63fa\",\"pattern\":{\"shape\":\"\"}},\"name\":\"Sales\",\"offsetgroup\":\"Sales\",\"orientation\":\"v\",\"showlegend\":true,\"textposition\":\"auto\",\"x\":[\"Salesforce\"],\"xaxis\":\"x\",\"y\":[10790.0],\"yaxis\":\"y\",\"type\":\"bar\"},{\"alignmentgroup\":\"True\",\"hovertemplate\":\"Industry=Hardware\\u003cbr\\u003eCompany=%{x}\\u003cbr\\u003eNumber of Layoffs=%{y}\\u003cextra\\u003e\\u003c\\u002fextra\\u003e\",\"legendgroup\":\"Hardware\",\"marker\":{\"color\":\"#FFA15A\",\"pattern\":{\"shape\":\"\"}},\"name\":\"Hardware\",\"offsetgroup\":\"Hardware\",\"orientation\":\"v\",\"showlegend\":true,\"textposition\":\"auto\",\"x\":[\"Micron\",\"Dell\"],\"xaxis\":\"x\",\"y\":[7200.0,6650.0],\"yaxis\":\"y\",\"type\":\"bar\"},{\"alignmentgroup\":\"True\",\"hovertemplate\":\"Industry=Transportation\\u003cbr\\u003eCompany=%{x}\\u003cbr\\u003eNumber of Layoffs=%{y}\\u003cextra\\u003e\\u003c\\u002fextra\\u003e\",\"legendgroup\":\"Transportation\",\"marker\":{\"color\":\"#19d3f3\",\"pattern\":{\"shape\":\"\"}},\"name\":\"Transportation\",\"offsetgroup\":\"Transportation\",\"orientation\":\"v\",\"showlegend\":true,\"textposition\":\"auto\",\"x\":[\"Uber\"],\"xaxis\":\"x\",\"y\":[6900.0],\"yaxis\":\"y\",\"type\":\"bar\"},{\"alignmentgroup\":\"True\",\"hovertemplate\":\"Industry=Infrastructure\\u003cbr\\u003eCompany=%{x}\\u003cbr\\u003eNumber of Layoffs=%{y}\\u003cextra\\u003e\\u003c\\u002fextra\\u003e\",\"legendgroup\":\"Infrastructure\",\"marker\":{\"color\":\"#FF6692\",\"pattern\":{\"shape\":\"\"}},\"name\":\"Infrastructure\",\"offsetgroup\":\"Infrastructure\",\"orientation\":\"v\",\"showlegend\":true,\"textposition\":\"auto\",\"x\":[\"Cisco\"],\"xaxis\":\"x\",\"y\":[4450.0],\"yaxis\":\"y\",\"type\":\"bar\"}],                        {\"template\":{\"data\":{\"histogram2dcontour\":[{\"type\":\"histogram2dcontour\",\"colorbar\":{\"outlinewidth\":0,\"ticks\":\"\"},\"colorscale\":[[0.0,\"#0d0887\"],[0.1111111111111111,\"#46039f\"],[0.2222222222222222,\"#7201a8\"],[0.3333333333333333,\"#9c179e\"],[0.4444444444444444,\"#bd3786\"],[0.5555555555555556,\"#d8576b\"],[0.6666666666666666,\"#ed7953\"],[0.7777777777777778,\"#fb9f3a\"],[0.8888888888888888,\"#fdca26\"],[1.0,\"#f0f921\"]]}],\"choropleth\":[{\"type\":\"choropleth\",\"colorbar\":{\"outlinewidth\":0,\"ticks\":\"\"}}],\"histogram2d\":[{\"type\":\"histogram2d\",\"colorbar\":{\"outlinewidth\":0,\"ticks\":\"\"},\"colorscale\":[[0.0,\"#0d0887\"],[0.1111111111111111,\"#46039f\"],[0.2222222222222222,\"#7201a8\"],[0.3333333333333333,\"#9c179e\"],[0.4444444444444444,\"#bd3786\"],[0.5555555555555556,\"#d8576b\"],[0.6666666666666666,\"#ed7953\"],[0.7777777777777778,\"#fb9f3a\"],[0.8888888888888888,\"#fdca26\"],[1.0,\"#f0f921\"]]}],\"heatmap\":[{\"type\":\"heatmap\",\"colorbar\":{\"outlinewidth\":0,\"ticks\":\"\"},\"colorscale\":[[0.0,\"#0d0887\"],[0.1111111111111111,\"#46039f\"],[0.2222222222222222,\"#7201a8\"],[0.3333333333333333,\"#9c179e\"],[0.4444444444444444,\"#bd3786\"],[0.5555555555555556,\"#d8576b\"],[0.6666666666666666,\"#ed7953\"],[0.7777777777777778,\"#fb9f3a\"],[0.8888888888888888,\"#fdca26\"],[1.0,\"#f0f921\"]]}],\"heatmapgl\":[{\"type\":\"heatmapgl\",\"colorbar\":{\"outlinewidth\":0,\"ticks\":\"\"},\"colorscale\":[[0.0,\"#0d0887\"],[0.1111111111111111,\"#46039f\"],[0.2222222222222222,\"#7201a8\"],[0.3333333333333333,\"#9c179e\"],[0.4444444444444444,\"#bd3786\"],[0.5555555555555556,\"#d8576b\"],[0.6666666666666666,\"#ed7953\"],[0.7777777777777778,\"#fb9f3a\"],[0.8888888888888888,\"#fdca26\"],[1.0,\"#f0f921\"]]}],\"contourcarpet\":[{\"type\":\"contourcarpet\",\"colorbar\":{\"outlinewidth\":0,\"ticks\":\"\"}}],\"contour\":[{\"type\":\"contour\",\"colorbar\":{\"outlinewidth\":0,\"ticks\":\"\"},\"colorscale\":[[0.0,\"#0d0887\"],[0.1111111111111111,\"#46039f\"],[0.2222222222222222,\"#7201a8\"],[0.3333333333333333,\"#9c179e\"],[0.4444444444444444,\"#bd3786\"],[0.5555555555555556,\"#d8576b\"],[0.6666666666666666,\"#ed7953\"],[0.7777777777777778,\"#fb9f3a\"],[0.8888888888888888,\"#fdca26\"],[1.0,\"#f0f921\"]]}],\"surface\":[{\"type\":\"surface\",\"colorbar\":{\"outlinewidth\":0,\"ticks\":\"\"},\"colorscale\":[[0.0,\"#0d0887\"],[0.1111111111111111,\"#46039f\"],[0.2222222222222222,\"#7201a8\"],[0.3333333333333333,\"#9c179e\"],[0.4444444444444444,\"#bd3786\"],[0.5555555555555556,\"#d8576b\"],[0.6666666666666666,\"#ed7953\"],[0.7777777777777778,\"#fb9f3a\"],[0.8888888888888888,\"#fdca26\"],[1.0,\"#f0f921\"]]}],\"mesh3d\":[{\"type\":\"mesh3d\",\"colorbar\":{\"outlinewidth\":0,\"ticks\":\"\"}}],\"scatter\":[{\"fillpattern\":{\"fillmode\":\"overlay\",\"size\":10,\"solidity\":0.2},\"type\":\"scatter\"}],\"parcoords\":[{\"type\":\"parcoords\",\"line\":{\"colorbar\":{\"outlinewidth\":0,\"ticks\":\"\"}}}],\"scatterpolargl\":[{\"type\":\"scatterpolargl\",\"marker\":{\"colorbar\":{\"outlinewidth\":0,\"ticks\":\"\"}}}],\"bar\":[{\"error_x\":{\"color\":\"#2a3f5f\"},\"error_y\":{\"color\":\"#2a3f5f\"},\"marker\":{\"line\":{\"color\":\"#E5ECF6\",\"width\":0.5},\"pattern\":{\"fillmode\":\"overlay\",\"size\":10,\"solidity\":0.2}},\"type\":\"bar\"}],\"scattergeo\":[{\"type\":\"scattergeo\",\"marker\":{\"colorbar\":{\"outlinewidth\":0,\"ticks\":\"\"}}}],\"scatterpolar\":[{\"type\":\"scatterpolar\",\"marker\":{\"colorbar\":{\"outlinewidth\":0,\"ticks\":\"\"}}}],\"histogram\":[{\"marker\":{\"pattern\":{\"fillmode\":\"overlay\",\"size\":10,\"solidity\":0.2}},\"type\":\"histogram\"}],\"scattergl\":[{\"type\":\"scattergl\",\"marker\":{\"colorbar\":{\"outlinewidth\":0,\"ticks\":\"\"}}}],\"scatter3d\":[{\"type\":\"scatter3d\",\"line\":{\"colorbar\":{\"outlinewidth\":0,\"ticks\":\"\"}},\"marker\":{\"colorbar\":{\"outlinewidth\":0,\"ticks\":\"\"}}}],\"scattermapbox\":[{\"type\":\"scattermapbox\",\"marker\":{\"colorbar\":{\"outlinewidth\":0,\"ticks\":\"\"}}}],\"scatterternary\":[{\"type\":\"scatterternary\",\"marker\":{\"colorbar\":{\"outlinewidth\":0,\"ticks\":\"\"}}}],\"scattercarpet\":[{\"type\":\"scattercarpet\",\"marker\":{\"colorbar\":{\"outlinewidth\":0,\"ticks\":\"\"}}}],\"carpet\":[{\"aaxis\":{\"endlinecolor\":\"#2a3f5f\",\"gridcolor\":\"white\",\"linecolor\":\"white\",\"minorgridcolor\":\"white\",\"startlinecolor\":\"#2a3f5f\"},\"baxis\":{\"endlinecolor\":\"#2a3f5f\",\"gridcolor\":\"white\",\"linecolor\":\"white\",\"minorgridcolor\":\"white\",\"startlinecolor\":\"#2a3f5f\"},\"type\":\"carpet\"}],\"table\":[{\"cells\":{\"fill\":{\"color\":\"#EBF0F8\"},\"line\":{\"color\":\"white\"}},\"header\":{\"fill\":{\"color\":\"#C8D4E3\"},\"line\":{\"color\":\"white\"}},\"type\":\"table\"}],\"barpolar\":[{\"marker\":{\"line\":{\"color\":\"#E5ECF6\",\"width\":0.5},\"pattern\":{\"fillmode\":\"overlay\",\"size\":10,\"solidity\":0.2}},\"type\":\"barpolar\"}],\"pie\":[{\"automargin\":true,\"type\":\"pie\"}]},\"layout\":{\"autotypenumbers\":\"strict\",\"colorway\":[\"#636efa\",\"#EF553B\",\"#00cc96\",\"#ab63fa\",\"#FFA15A\",\"#19d3f3\",\"#FF6692\",\"#B6E880\",\"#FF97FF\",\"#FECB52\"],\"font\":{\"color\":\"#2a3f5f\"},\"hovermode\":\"closest\",\"hoverlabel\":{\"align\":\"left\"},\"paper_bgcolor\":\"white\",\"plot_bgcolor\":\"#E5ECF6\",\"polar\":{\"bgcolor\":\"#E5ECF6\",\"angularaxis\":{\"gridcolor\":\"white\",\"linecolor\":\"white\",\"ticks\":\"\"},\"radialaxis\":{\"gridcolor\":\"white\",\"linecolor\":\"white\",\"ticks\":\"\"}},\"ternary\":{\"bgcolor\":\"#E5ECF6\",\"aaxis\":{\"gridcolor\":\"white\",\"linecolor\":\"white\",\"ticks\":\"\"},\"baxis\":{\"gridcolor\":\"white\",\"linecolor\":\"white\",\"ticks\":\"\"},\"caxis\":{\"gridcolor\":\"white\",\"linecolor\":\"white\",\"ticks\":\"\"}},\"coloraxis\":{\"colorbar\":{\"outlinewidth\":0,\"ticks\":\"\"}},\"colorscale\":{\"sequential\":[[0.0,\"#0d0887\"],[0.1111111111111111,\"#46039f\"],[0.2222222222222222,\"#7201a8\"],[0.3333333333333333,\"#9c179e\"],[0.4444444444444444,\"#bd3786\"],[0.5555555555555556,\"#d8576b\"],[0.6666666666666666,\"#ed7953\"],[0.7777777777777778,\"#fb9f3a\"],[0.8888888888888888,\"#fdca26\"],[1.0,\"#f0f921\"]],\"sequentialminus\":[[0.0,\"#0d0887\"],[0.1111111111111111,\"#46039f\"],[0.2222222222222222,\"#7201a8\"],[0.3333333333333333,\"#9c179e\"],[0.4444444444444444,\"#bd3786\"],[0.5555555555555556,\"#d8576b\"],[0.6666666666666666,\"#ed7953\"],[0.7777777777777778,\"#fb9f3a\"],[0.8888888888888888,\"#fdca26\"],[1.0,\"#f0f921\"]],\"diverging\":[[0,\"#8e0152\"],[0.1,\"#c51b7d\"],[0.2,\"#de77ae\"],[0.3,\"#f1b6da\"],[0.4,\"#fde0ef\"],[0.5,\"#f7f7f7\"],[0.6,\"#e6f5d0\"],[0.7,\"#b8e186\"],[0.8,\"#7fbc41\"],[0.9,\"#4d9221\"],[1,\"#276419\"]]},\"xaxis\":{\"gridcolor\":\"white\",\"linecolor\":\"white\",\"ticks\":\"\",\"title\":{\"standoff\":15},\"zerolinecolor\":\"white\",\"automargin\":true,\"zerolinewidth\":2},\"yaxis\":{\"gridcolor\":\"white\",\"linecolor\":\"white\",\"ticks\":\"\",\"title\":{\"standoff\":15},\"zerolinecolor\":\"white\",\"automargin\":true,\"zerolinewidth\":2},\"scene\":{\"xaxis\":{\"backgroundcolor\":\"#E5ECF6\",\"gridcolor\":\"white\",\"linecolor\":\"white\",\"showbackground\":true,\"ticks\":\"\",\"zerolinecolor\":\"white\",\"gridwidth\":2},\"yaxis\":{\"backgroundcolor\":\"#E5ECF6\",\"gridcolor\":\"white\",\"linecolor\":\"white\",\"showbackground\":true,\"ticks\":\"\",\"zerolinecolor\":\"white\",\"gridwidth\":2},\"zaxis\":{\"backgroundcolor\":\"#E5ECF6\",\"gridcolor\":\"white\",\"linecolor\":\"white\",\"showbackground\":true,\"ticks\":\"\",\"zerolinecolor\":\"white\",\"gridwidth\":2}},\"shapedefaults\":{\"line\":{\"color\":\"#2a3f5f\"}},\"annotationdefaults\":{\"arrowcolor\":\"#2a3f5f\",\"arrowhead\":0,\"arrowwidth\":1},\"geo\":{\"bgcolor\":\"white\",\"landcolor\":\"#E5ECF6\",\"subunitcolor\":\"white\",\"showland\":true,\"showlakes\":true,\"lakecolor\":\"white\"},\"title\":{\"x\":0.05},\"mapbox\":{\"style\":\"light\"}}},\"xaxis\":{\"anchor\":\"y\",\"domain\":[0.0,1.0],\"title\":{\"text\":\"Company\"}},\"yaxis\":{\"anchor\":\"x\",\"domain\":[0.0,1.0],\"title\":{\"text\":\"Number of Layoffs\"}},\"legend\":{\"title\":{\"text\":\"Industry\"},\"tracegroupgap\":0},\"title\":{\"text\":\"Most impacted companies in US\"},\"barmode\":\"relative\"},                        {\"responsive\": true}                    ).then(function(){\n",
              "                            \n",
              "var gd = document.getElementById('95ce3517-d700-4f6d-a2fa-172fe94e047a');\n",
              "var x = new MutationObserver(function (mutations, observer) {{\n",
              "        var display = window.getComputedStyle(gd).display;\n",
              "        if (!display || display === 'none') {{\n",
              "            console.log([gd, 'removed!']);\n",
              "            Plotly.purge(gd);\n",
              "            observer.disconnect();\n",
              "        }}\n",
              "}});\n",
              "\n",
              "// Listen for the removal of the full notebook cells\n",
              "var notebookContainer = gd.closest('#notebook-container');\n",
              "if (notebookContainer) {{\n",
              "    x.observe(notebookContainer, {childList: true});\n",
              "}}\n",
              "\n",
              "// Listen for the clearing of the current output cell\n",
              "var outputEl = gd.closest('.output');\n",
              "if (outputEl) {{\n",
              "    x.observe(outputEl, {childList: true});\n",
              "}}\n",
              "\n",
              "                        })                };                            </script>        </div>\n",
              "</body>\n",
              "</html>"
            ]
          },
          "metadata": {}
        }
      ]
    },
    {
      "cell_type": "markdown",
      "source": [
        "**Summary**:\n",
        "\n",
        "In 2023, companies, especially those in the post-IPO stage, witnessed a surge in layoffs, with the United States experiencing a notable increase during the first quarter.\n",
        "\n",
        "Industries like Retail and Consumer were heavily affected, leading giants such as Amazon, Meta, and Google downsized their workforce.\n",
        "\n",
        "\n",
        "\n",
        "\n",
        "\n",
        "\n",
        "\n"
      ],
      "metadata": {
        "id": "8D5BQ8fYDaw0"
      }
    }
  ]
}